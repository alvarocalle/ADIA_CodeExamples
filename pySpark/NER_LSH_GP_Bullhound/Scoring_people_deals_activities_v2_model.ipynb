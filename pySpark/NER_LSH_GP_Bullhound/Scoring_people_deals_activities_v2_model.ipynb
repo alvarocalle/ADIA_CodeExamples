{
 "cells": [
  {
   "cell_type": "raw",
   "metadata": {},
   "source": [
    "-- Scoring de camino: find scoring between two people based on emails, events, jobs and activities\n",
    "-- Author: Alvaro Calle Cordon (acalle@stratio.com)  \n",
    "-- Created: Noviembre 2019  \n",
    "-- Code: Python 3.x  "
   ]
  },
  {
   "cell_type": "code",
   "execution_count": 2,
   "metadata": {},
   "outputs": [],
   "source": [
    "import pandas as pd\n",
    "import numpy as np\n",
    "import time\n",
    "import matplotlib.pylab as plt\n",
    "from datetime import timezone\n",
    "import json\n",
    "\n",
    "pd.set_option('display.max_colwidth', -1)\n",
    "\n",
    "import warnings\n",
    "warnings.filterwarnings('ignore')"
   ]
  },
  {
   "cell_type": "code",
   "execution_count": 3,
   "metadata": {},
   "outputs": [],
   "source": [
    "from sklearn import preprocessing"
   ]
  },
  {
   "cell_type": "code",
   "execution_count": null,
   "metadata": {},
   "outputs": [],
   "source": [
    "import arango\n",
    "from arango import ArangoClient\n",
    "from arango.response import Response\n",
    "from arango.http import HTTPClient"
   ]
  },
  {
   "cell_type": "markdown",
   "metadata": {},
   "source": [
    "### Funciones auxiliares"
   ]
  },
  {
   "cell_type": "code",
   "execution_count": null,
   "metadata": {},
   "outputs": [],
   "source": [
    "def read_jsonl_to_pandas(path_to_file):\n",
    "    \"\"\"\n",
    "    create a pandas DataFrame from a jsonline file\n",
    "    \"\"\"\n",
    "    with open(path_to_file, 'r') as json_file:\n",
    "        json_list = list(json_file)\n",
    "\n",
    "    result = []    \n",
    "    for json_str in json_list:\n",
    "        result.append(json.loads(json_str))\n",
    "\n",
    "    return pd.DataFrame(result)"
   ]
  },
  {
   "cell_type": "code",
   "execution_count": null,
   "metadata": {},
   "outputs": [],
   "source": [
    "def read_arango_to_pandas(db, collection):\n",
    "    \"\"\"\n",
    "    read an ArangoDB collection and pandas\n",
    "    \n",
    "    :param: db - Arango collection    \n",
    "    :param: collection - Calection to retrieve\n",
    "    \"\"\"\n",
    "\n",
    "    col = db.collection(collection)\n",
    "    return pd.DataFrame(list(col))"
   ]
  },
  {
   "cell_type": "code",
   "execution_count": null,
   "metadata": {},
   "outputs": [],
   "source": [
    "from functools import wraps\n",
    "import time\n",
    "\n",
    "def timing(f):\n",
    "    @wraps(f)\n",
    "    def wrapper(*args, **kwargs):\n",
    "        start = time.time()\n",
    "        result = f(*args, **kwargs)\n",
    "        end = time.time()\n",
    "        print('Elapsed time: {}'.format(end-start))\n",
    "        return result\n",
    "    return wrapper"
   ]
  },
  {
   "cell_type": "code",
   "execution_count": null,
   "metadata": {},
   "outputs": [],
   "source": [
    "import logging\n",
    "\n",
    "from requests.adapters import HTTPAdapter\n",
    "from requests import Session\n",
    "\n",
    "from arango.response import Response\n",
    "from arango.http import HTTPClient\n",
    "\n",
    "\n",
    "class CustomHTTPClient(HTTPClient):\n",
    "    \"\"\"My custom HTTP client with cool features.\"\"\"\n",
    "\n",
    "    def __init__(self):\n",
    "        self._session = Session()\n",
    "        # Initialize your logger.\n",
    "        self._logger = logging.getLogger('my_logger')\n",
    "\n",
    "    def create_session(self, host):\n",
    "        session = Session()\n",
    "\n",
    "        # Add request header.\n",
    "        session.headers.update({'x-my-header': 'true'})\n",
    "\n",
    "        # Enable retries.\n",
    "        adapter = HTTPAdapter(max_retries=5)\n",
    "        self._session.mount('https://', adapter)\n",
    "\n",
    "        return session\n",
    "\n",
    "    def send_request(self,\n",
    "                     session,\n",
    "                     method,\n",
    "                     url,\n",
    "                     params=None,\n",
    "                     data=None,\n",
    "                     headers=None,\n",
    "                     auth=None):\n",
    "        # Add your own debug statement.\n",
    "        self._logger.debug('Sending request to {}'.format(url))\n",
    "\n",
    "        # Send a request.\n",
    "        response = session.request(\n",
    "            method=method,\n",
    "            url=url,\n",
    "            params=params,\n",
    "            data=data,\n",
    "            headers=headers,\n",
    "            auth=auth,\n",
    "            verify=False  # Disable SSL verification\n",
    "        )\n",
    "        self._logger.debug('Got {}'.format(response.status_code))\n",
    "\n",
    "        # Return an instance of arango.response.Response.\n",
    "        return Response(\n",
    "            method=response.request.method,\n",
    "            url=response.url,\n",
    "            headers=response.headers,\n",
    "            status_code=response.status_code,\n",
    "            status_text=response.reason,\n",
    "            raw_body=response.text,\n",
    "        )"
   ]
  },
  {
   "cell_type": "code",
   "execution_count": null,
   "metadata": {},
   "outputs": [],
   "source": [
    "@timing\n",
    "def execute(query):\n",
    "    cursor = aql.execute(query)\n",
    "    item_keys = [doc for doc in cursor]\n",
    "    return item_keys"
   ]
  },
  {
   "cell_type": "markdown",
   "metadata": {},
   "source": [
    "## Data: Grafo"
   ]
  },
  {
   "cell_type": "code",
   "execution_count": null,
   "metadata": {},
   "outputs": [],
   "source": [
    "file = 'master_edges_v3.jsonl'\n",
    "pd_grafo = read_jsonl_to_pandas(file)\n",
    "\n",
    "print(pd_grafo.head(1))\n",
    "print(pd_grafo.columns)"
   ]
  },
  {
   "cell_type": "code",
   "execution_count": null,
   "metadata": {},
   "outputs": [],
   "source": [
    "pd_grafo['from'] = pd_grafo['_from'].apply(lambda x: x.split('/')[-1])\n",
    "pd_grafo['to'] = pd_grafo['_to'].apply(lambda x: x.split('/')[-1])"
   ]
  },
  {
   "cell_type": "markdown",
   "metadata": {},
   "source": [
    "## Data: Relaciones A $\\to$ B"
   ]
  },
  {
   "cell_type": "raw",
   "metadata": {},
   "source": [
    "client = ArangoClient(hosts='https://10.90.0.208:8123', http_client=CustomHTTPClient())\n",
    "db = client.db('gp', username='root', password='kXaHdJJoKi')\n",
    "\n",
    "pd_master = read_arango_to_pandas(db, 'master_source_table')\n",
    "pd_master.to_csv('master_source_table.csv', index=False)"
   ]
  },
  {
   "cell_type": "code",
   "execution_count": 4,
   "metadata": {
    "scrolled": true
   },
   "outputs": [],
   "source": [
    "# datos tabla master:\n",
    "pd_master = pd.read_csv('master_source_table.csv')"
   ]
  },
  {
   "cell_type": "code",
   "execution_count": 5,
   "metadata": {},
   "outputs": [
    {
     "data": {
      "text/html": [
       "<div>\n",
       "<style scoped>\n",
       "    .dataframe tbody tr th:only-of-type {\n",
       "        vertical-align: middle;\n",
       "    }\n",
       "\n",
       "    .dataframe tbody tr th {\n",
       "        vertical-align: top;\n",
       "    }\n",
       "\n",
       "    .dataframe thead th {\n",
       "        text-align: right;\n",
       "    }\n",
       "</style>\n",
       "<table border=\"1\" class=\"dataframe\">\n",
       "  <thead>\n",
       "    <tr style=\"text-align: right;\">\n",
       "      <th></th>\n",
       "      <th>_key</th>\n",
       "      <th>_id</th>\n",
       "      <th>_from</th>\n",
       "      <th>_to</th>\n",
       "      <th>_rev</th>\n",
       "      <th>id</th>\n",
       "      <th>created_at</th>\n",
       "      <th>type</th>\n",
       "    </tr>\n",
       "  </thead>\n",
       "  <tbody>\n",
       "    <tr>\n",
       "      <th>0</th>\n",
       "      <td>-4Xr2h7tKSUIh8hBmJKQmlsjtPRthFwbOx4JEHYJhu8P-3A7vg-Alessandro.Casartelli@gpbullhound.com_sent_1572271009-137259152</td>\n",
       "      <td>master_source_table/-4Xr2h7tKSUIh8hBmJKQmlsjtPRthFwbOx4JEHYJhu8P-3A7vg-Alessandro.Casartelli@gpbullhound.com_sent_1572271009-137259152</td>\n",
       "      <td>peopleMaster/1571814086-48906921</td>\n",
       "      <td>peopleMaster/1572271009-137259152</td>\n",
       "      <td>_ZgHrgNG--K</td>\n",
       "      <td>mails_processed/-4Xr2h7tKSUIh8hBmJKQmlsjtPRthFwbOx4JEHYJhu8P-3A7vg-Alessandro.Casartelli@gpbullhound.com</td>\n",
       "      <td>2019-04-30T16:07:11.000Z</td>\n",
       "      <td>sent</td>\n",
       "    </tr>\n",
       "  </tbody>\n",
       "</table>\n",
       "</div>"
      ],
      "text/plain": [
       "                                                                                                                 _key  \\\n",
       "0  -4Xr2h7tKSUIh8hBmJKQmlsjtPRthFwbOx4JEHYJhu8P-3A7vg-Alessandro.Casartelli@gpbullhound.com_sent_1572271009-137259152   \n",
       "\n",
       "                                                                                                                                      _id  \\\n",
       "0  master_source_table/-4Xr2h7tKSUIh8hBmJKQmlsjtPRthFwbOx4JEHYJhu8P-3A7vg-Alessandro.Casartelli@gpbullhound.com_sent_1572271009-137259152   \n",
       "\n",
       "                              _from                                _to  \\\n",
       "0  peopleMaster/1571814086-48906921  peopleMaster/1572271009-137259152   \n",
       "\n",
       "          _rev  \\\n",
       "0  _ZgHrgNG--K   \n",
       "\n",
       "                                                                                                         id  \\\n",
       "0  mails_processed/-4Xr2h7tKSUIh8hBmJKQmlsjtPRthFwbOx4JEHYJhu8P-3A7vg-Alessandro.Casartelli@gpbullhound.com   \n",
       "\n",
       "                 created_at  type  \n",
       "0  2019-04-30T16:07:11.000Z  sent  "
      ]
     },
     "execution_count": 5,
     "metadata": {},
     "output_type": "execute_result"
    }
   ],
   "source": [
    "pd_master.head(1)"
   ]
  },
  {
   "cell_type": "code",
   "execution_count": 6,
   "metadata": {},
   "outputs": [],
   "source": [
    "# limpia el dataframe\n",
    "pd_master = pd_master[['_from', '_to', 'type', 'id', 'created_at']]\n",
    "pd_master.columns = ['from', 'to', 'type', 'id', 'date']\n",
    "\n",
    "pd_master['date'] = pd_master.date.apply(lambda x: str(x)[0:10])\n",
    "pd_master['from'] = pd_master['from'].apply(lambda x: str(x).replace('peopleMaster/',''))\n",
    "pd_master['to'] = pd_master['to'].apply(lambda x: str(x).replace('peopleMaster/',''))"
   ]
  },
  {
   "cell_type": "markdown",
   "metadata": {},
   "source": [
    "## Función que calcula número de personas en interacciones"
   ]
  },
  {
   "cell_type": "code",
   "execution_count": 81,
   "metadata": {},
   "outputs": [],
   "source": [
    "def people_activity_relation(pd_relations):\n",
    "    \"\"\"\n",
    "    identify people involved in the same activity    \n",
    "    \"\"\"\n",
    "    \n",
    "    pd1 = pd_relations[['from', 'to', 'type', 'id']]\n",
    "    aux = pd.DataFrame({'from':pd1['to'], 'to':pd1['from'], 'id':pd1['id'], 'type':pd1['type']})\n",
    "    pd2 = pd.concat([pd1, aux], axis=0).sort_index().drop_duplicates(keep='first')\n",
    "    pd2 = pd2[~pd2.index.duplicated(keep='first')].reset_index(drop=True)\n",
    "    pd2 = pd2[['from', 'to', 'type', 'id']]\n",
    "\n",
    "    people = []\n",
    "    for name, group in pd2.groupby('id'):\n",
    "    \n",
    "        s = set(group['from'].values).union(set(group['to'].values))    \n",
    "        people.append([name, group.type.unique()[0], s, len(s)])\n",
    "\n",
    "    return pd.DataFrame(people, columns=[\"id\", \"type\", \"participants\", \"number\"])"
   ]
  },
  {
   "cell_type": "code",
   "execution_count": 82,
   "metadata": {
    "scrolled": false
   },
   "outputs": [
    {
     "data": {
      "text/html": [
       "<div>\n",
       "<style scoped>\n",
       "    .dataframe tbody tr th:only-of-type {\n",
       "        vertical-align: middle;\n",
       "    }\n",
       "\n",
       "    .dataframe tbody tr th {\n",
       "        vertical-align: top;\n",
       "    }\n",
       "\n",
       "    .dataframe thead th {\n",
       "        text-align: right;\n",
       "    }\n",
       "</style>\n",
       "<table border=\"1\" class=\"dataframe\">\n",
       "  <thead>\n",
       "    <tr style=\"text-align: right;\">\n",
       "      <th></th>\n",
       "      <th>id</th>\n",
       "      <th>type</th>\n",
       "      <th>participants</th>\n",
       "      <th>number</th>\n",
       "    </tr>\n",
       "  </thead>\n",
       "  <tbody>\n",
       "    <tr>\n",
       "      <th>0</th>\n",
       "      <td>activityPipedrive/11575</td>\n",
       "      <td>activity</td>\n",
       "      <td>{1571760048-129650078, 1571814086-48906921, 1571824562-83745457}</td>\n",
       "      <td>3</td>\n",
       "    </tr>\n",
       "    <tr>\n",
       "      <th>1</th>\n",
       "      <td>activityPipedrive/12812</td>\n",
       "      <td>activity</td>\n",
       "      <td>{1571817791-82992245, 1571827131-30658636, 1571812576-51196481}</td>\n",
       "      <td>3</td>\n",
       "    </tr>\n",
       "  </tbody>\n",
       "</table>\n",
       "</div>"
      ],
      "text/plain": [
       "                        id      type  \\\n",
       "0  activityPipedrive/11575  activity   \n",
       "1  activityPipedrive/12812  activity   \n",
       "\n",
       "                                                       participants  number  \n",
       "0  {1571760048-129650078, 1571814086-48906921, 1571824562-83745457}  3       \n",
       "1  {1571817791-82992245, 1571827131-30658636, 1571812576-51196481}   3       "
      ]
     },
     "execution_count": 82,
     "metadata": {},
     "output_type": "execute_result"
    }
   ],
   "source": [
    "pd_people = people_activity_relation(pd_master)\n",
    "pd_people.head(2)"
   ]
  },
  {
   "cell_type": "markdown",
   "metadata": {},
   "source": [
    "Comprobamos que en ambos dataframes tenemos el mismo numero de identificadores de actividad\n"
   ]
  },
  {
   "cell_type": "code",
   "execution_count": 115,
   "metadata": {},
   "outputs": [
    {
     "data": {
      "text/plain": [
       "[66516, 66516]"
      ]
     },
     "execution_count": 115,
     "metadata": {},
     "output_type": "execute_result"
    }
   ],
   "source": [
    "[len(pd_people.id.unique()), len(pd_master.id.unique())]"
   ]
  },
  {
   "cell_type": "code",
   "execution_count": 85,
   "metadata": {
    "scrolled": true
   },
   "outputs": [
    {
     "data": {
      "text/plain": [
       "[2, 202]"
      ]
     },
     "execution_count": 85,
     "metadata": {},
     "output_type": "execute_result"
    }
   ],
   "source": [
    "[pd_people.number.min(), pd_people.number.max()]"
   ]
  },
  {
   "cell_type": "code",
   "execution_count": 117,
   "metadata": {},
   "outputs": [
    {
     "data": {
      "text/html": [
       "<div>\n",
       "<style scoped>\n",
       "    .dataframe tbody tr th:only-of-type {\n",
       "        vertical-align: middle;\n",
       "    }\n",
       "\n",
       "    .dataframe tbody tr th {\n",
       "        vertical-align: top;\n",
       "    }\n",
       "\n",
       "    .dataframe thead th {\n",
       "        text-align: right;\n",
       "    }\n",
       "</style>\n",
       "<table border=\"1\" class=\"dataframe\">\n",
       "  <thead>\n",
       "    <tr style=\"text-align: right;\">\n",
       "      <th></th>\n",
       "      <th>id</th>\n",
       "      <th>number</th>\n",
       "    </tr>\n",
       "  </thead>\n",
       "  <tbody>\n",
       "    <tr>\n",
       "      <th>0</th>\n",
       "      <td>activityPipedrive/11575</td>\n",
       "      <td>3</td>\n",
       "    </tr>\n",
       "    <tr>\n",
       "      <th>1</th>\n",
       "      <td>activityPipedrive/12812</td>\n",
       "      <td>3</td>\n",
       "    </tr>\n",
       "    <tr>\n",
       "      <th>2</th>\n",
       "      <td>activityPipedrive/13695</td>\n",
       "      <td>2</td>\n",
       "    </tr>\n",
       "    <tr>\n",
       "      <th>3</th>\n",
       "      <td>activityPipedrive/2829</td>\n",
       "      <td>2</td>\n",
       "    </tr>\n",
       "    <tr>\n",
       "      <th>4</th>\n",
       "      <td>activityPipedrive/5830</td>\n",
       "      <td>2</td>\n",
       "    </tr>\n",
       "  </tbody>\n",
       "</table>\n",
       "</div>"
      ],
      "text/plain": [
       "                        id  number\n",
       "0  activityPipedrive/11575  3     \n",
       "1  activityPipedrive/12812  3     \n",
       "2  activityPipedrive/13695  2     \n",
       "3  activityPipedrive/2829   2     \n",
       "4  activityPipedrive/5830   2     "
      ]
     },
     "execution_count": 117,
     "metadata": {},
     "output_type": "execute_result"
    }
   ],
   "source": [
    "pd_people[['id', 'number']].head()"
   ]
  },
  {
   "cell_type": "markdown",
   "metadata": {},
   "source": [
    "Tenemos dos DataFrames, `pd_master` contiene las relaciones A $\\to$ B, y `pd_people` que contiene el número de personas involucrados en la interacción. Ambos DataFrames tienen un único identificador `id`. Tenemos que hacer un `pd.merge` de los DataFrames por `id`"
   ]
  },
  {
   "cell_type": "code",
   "execution_count": 124,
   "metadata": {},
   "outputs": [],
   "source": [
    "#add new column to pd_master with number of people involved\n",
    "pd_master['number'] = pd_master[['id']].merge(pd_people[['id', 'number']], on=['id'])['number']"
   ]
  },
  {
   "cell_type": "code",
   "execution_count": 125,
   "metadata": {},
   "outputs": [
    {
     "data": {
      "text/plain": [
       "(99192, 6)"
      ]
     },
     "execution_count": 125,
     "metadata": {},
     "output_type": "execute_result"
    }
   ],
   "source": [
    "pd_master.shape"
   ]
  },
  {
   "cell_type": "markdown",
   "metadata": {},
   "source": [
    "## Función que genera los pesos\n",
    "\n",
    "Esta función hace uso de la información obtenida de la tabla master así como del número de personas involucradas en la interacción. El número de personas en la interacción se incorpora como una potencia negativa $1/(\\text{personas})^k$ de manera que a mayor número, menor importancia se le da."
   ]
  },
  {
   "cell_type": "code",
   "execution_count": 183,
   "metadata": {},
   "outputs": [],
   "source": [
    "def create_weights(pd_data, parameters):\n",
    "    \"\"\"\n",
    "    create the weights of interactions\n",
    "\n",
    "    :param: pd_data - pandas.DataFrame for the analysis\n",
    "    :param: pd_people - pandas.DataFrame with number of people involved in activity\n",
    "    :param: parameters - model parameters {'alpha','p_sent','p_cc','p_event','p_job','p_activity'}\n",
    "    \n",
    "            sum(p) = 1\n",
    "    \n",
    "    :output: dic_weighted - dictionary with df per type with damping factor p*exp[alpha(t-t0)]\n",
    "    \"\"\"\n",
    "    \n",
    "    #reduce timestamp by this factor\n",
    "    factor = 10**7\n",
    "\n",
    "    #min-max scaler\n",
    "    scaler = preprocessing.MinMaxScaler()\n",
    "\n",
    "    #current utc timestamp\n",
    "    t0 = time.time()/factor\n",
    "    \n",
    "    pd_out = []        \n",
    "    names = []\n",
    "    \n",
    "    for name, group in pd_data.groupby('type'):\n",
    "    \n",
    "        p_group = parameters['p_'+name]\n",
    "        q_group = parameters['q_'+name]        \n",
    "        alpha_group = parameters['alpha_'+name]\n",
    "        \n",
    "        #set timezone of datetime object to utc and calculates the timestamp\n",
    "        group['t'] = pd.to_datetime(group.date).apply(lambda x: x.replace(tzinfo=timezone.utc).timestamp()/factor)\n",
    "        #weight is decreasing with time and number of people\n",
    "        group['t-t0'] = group['t'] - t0\n",
    "        group['weight'] = np.exp( alpha_group * group['t-t0'] ) * q_group#/group['number']**3\n",
    "        #sum over interaction pairs\n",
    "        final = group[['from', 'to', 'weight']].groupby(['from', 'to']).sum().reset_index()\n",
    "        #apply log-transformation to compensate for highly interecting people\n",
    "        final['weight'] = np.log1p( final['weight'] )\n",
    "        #weight by group importance\n",
    "        final['weight'] = final['weight'] * p_group\n",
    "\n",
    "        pd_out.append(final)\n",
    "        names.append(name)\n",
    "\n",
    "    #store weight dataframes por group\n",
    "    dic_groups = dict(zip(names, pd_out))\n",
    "\n",
    "    #group by and sum weights by activities\n",
    "    pd_weight = pd.concat([value for key, value in dic_groups.items()]).groupby(['from', 'to']).sum().reset_index()      \n",
    "    \n",
    "    #scale to be a number in range [0,1] and return the complement \n",
    "    pd_weight['weight'] = (1 - scaler.fit_transform(pd_weight['weight'].values.reshape(-1,1)))\n",
    "\n",
    "    #format output\n",
    "    pd_weight.columns = ['_from','_to', 'weight']\n",
    "\n",
    "    pd_weight['_key'] = pd_weight.apply(lambda row: row['_from']+'_edge_'+row['_to'], axis=1)\n",
    "    pd_weight['_from'] = pd_weight['_from'].apply(lambda x: 'peopleMaster/'+str(x))\n",
    "    pd_weight['_to'] = pd_weight['_to'].apply(lambda x: 'peopleMaster/'+str(x))\n",
    "\n",
    "    pd_weight['interactions'] = '1'\n",
    "    pd_weight['first'] = \"2015-07-08T15:00:00.000Z\"\n",
    "    pd_weight['last'] = \"2015-07-08T20:00:00.000Z\"\n",
    "    pd_weight['nSent'] = '0'\n",
    "    pd_weight['nCc'] = '0'\n",
    "    pd_weight['nActivities'] = '0'\n",
    "    pd_weight['nDeals'] = '0'\n",
    "    pd_weight['nJob'] = '0'\n",
    "    pd_weight['nEvents'] = '1'    \n",
    "    \n",
    "    return pd_weight"
   ]
  },
  {
   "cell_type": "code",
   "execution_count": 208,
   "metadata": {},
   "outputs": [],
   "source": [
    "params = {\n",
    "    \n",
    "    #decaimiento temporal\n",
    "    'alpha_sent':0.1, \n",
    "    'alpha_cc':1.5, \n",
    "    'alpha_event':0.5, \n",
    "    'alpha_job':0.01, \n",
    "    'alpha_activity':0.3,\n",
    "    \n",
    "    #pesos de importancia de cada actividad\n",
    "    'p_sent':0.7, \n",
    "    'p_cc':0.05, \n",
    "    'p_event':0.1, \n",
    "    'p_job':0.05, \n",
    "    'p_activity':0.1,\n",
    "\n",
    "    #pesos 2\n",
    "    'q_sent':6,\n",
    "    'q_cc':0.15, \n",
    "    'q_event':1., \n",
    "    'q_job':0.01, \n",
    "    'q_activity':2.\n",
    "\n",
    "}\n",
    "\n",
    "pd_weight = create_weights(pd_merged, params)"
   ]
  },
  {
   "cell_type": "code",
   "execution_count": 209,
   "metadata": {
    "scrolled": false
   },
   "outputs": [
    {
     "data": {
      "text/html": [
       "<div>\n",
       "<style scoped>\n",
       "    .dataframe tbody tr th:only-of-type {\n",
       "        vertical-align: middle;\n",
       "    }\n",
       "\n",
       "    .dataframe tbody tr th {\n",
       "        vertical-align: top;\n",
       "    }\n",
       "\n",
       "    .dataframe thead th {\n",
       "        text-align: right;\n",
       "    }\n",
       "</style>\n",
       "<table border=\"1\" class=\"dataframe\">\n",
       "  <thead>\n",
       "    <tr style=\"text-align: right;\">\n",
       "      <th></th>\n",
       "      <th>_from</th>\n",
       "      <th>_to</th>\n",
       "      <th>weight</th>\n",
       "      <th>_key</th>\n",
       "      <th>interactions</th>\n",
       "      <th>first</th>\n",
       "      <th>last</th>\n",
       "      <th>nSent</th>\n",
       "      <th>nCc</th>\n",
       "      <th>nActivities</th>\n",
       "      <th>nDeals</th>\n",
       "      <th>nJob</th>\n",
       "      <th>nEvents</th>\n",
       "    </tr>\n",
       "  </thead>\n",
       "  <tbody>\n",
       "    <tr>\n",
       "      <th>0</th>\n",
       "      <td>peopleMaster/1571760048-101557862</td>\n",
       "      <td>peopleMaster/1571814086-48906921</td>\n",
       "      <td>0.999982</td>\n",
       "      <td>1571760048-101557862_edge_1571814086-48906921</td>\n",
       "      <td>1</td>\n",
       "      <td>2015-07-08T15:00:00.000Z</td>\n",
       "      <td>2015-07-08T20:00:00.000Z</td>\n",
       "      <td>0</td>\n",
       "      <td>0</td>\n",
       "      <td>0</td>\n",
       "      <td>0</td>\n",
       "      <td>0</td>\n",
       "      <td>1</td>\n",
       "    </tr>\n",
       "  </tbody>\n",
       "</table>\n",
       "</div>"
      ],
      "text/plain": [
       "                               _from                               _to  \\\n",
       "0  peopleMaster/1571760048-101557862  peopleMaster/1571814086-48906921   \n",
       "\n",
       "     weight                                           _key interactions  \\\n",
       "0  0.999982  1571760048-101557862_edge_1571814086-48906921  1             \n",
       "\n",
       "                      first                      last nSent nCc nActivities  \\\n",
       "0  2015-07-08T15:00:00.000Z  2015-07-08T20:00:00.000Z  0     0   0            \n",
       "\n",
       "  nDeals nJob nEvents  \n",
       "0  0      0    1       "
      ]
     },
     "execution_count": 209,
     "metadata": {},
     "output_type": "execute_result"
    }
   ],
   "source": [
    "pd_weight.head(1)"
   ]
  },
  {
   "cell_type": "markdown",
   "metadata": {},
   "source": [
    "Algunas comprobaciones"
   ]
  },
  {
   "cell_type": "code",
   "execution_count": 216,
   "metadata": {},
   "outputs": [
    {
     "name": "stdout",
     "output_type": "stream",
     "text": [
      "3.0\n",
      "0.0\n",
      "7.0\n"
     ]
    },
    {
     "ename": "IndexError",
     "evalue": "index 0 is out of bounds for axis 0 with size 0",
     "output_type": "error",
     "traceback": [
      "\u001b[0;31m---------------------------------------------------------------------------\u001b[0m",
      "\u001b[0;31mIndexError\u001b[0m                                Traceback (most recent call last)",
      "\u001b[0;32m<ipython-input-216-667b7e70fc31>\u001b[0m in \u001b[0;36m<module>\u001b[0;34m\u001b[0m\n\u001b[1;32m     25\u001b[0m \u001b[0;34m\u001b[0m\u001b[0m\n\u001b[1;32m     26\u001b[0m \u001b[0;31m#Sendagorta -> Viktor Fritzen\u001b[0m\u001b[0;34m\u001b[0m\u001b[0;34m\u001b[0m\u001b[0;34m\u001b[0m\u001b[0m\n\u001b[0;32m---> 27\u001b[0;31m \u001b[0mwAB\u001b[0m \u001b[0;34m=\u001b[0m \u001b[0mpd_weight\u001b[0m\u001b[0;34m.\u001b[0m\u001b[0mloc\u001b[0m\u001b[0;34m[\u001b[0m\u001b[0;34m(\u001b[0m\u001b[0mpd_weight\u001b[0m\u001b[0;34m[\u001b[0m\u001b[0;34m\"_from\"\u001b[0m\u001b[0;34m]\u001b[0m \u001b[0;34m==\u001b[0m \u001b[0;34m'peopleMaster/'\u001b[0m\u001b[0;34m+\u001b[0m\u001b[0mkey_jaime_sendagorta\u001b[0m\u001b[0;34m)\u001b[0m \u001b[0;34m&\u001b[0m \u001b[0;34m(\u001b[0m\u001b[0mpd_weight\u001b[0m\u001b[0;34m[\u001b[0m\u001b[0;34m\"_to\"\u001b[0m\u001b[0;34m]\u001b[0m \u001b[0;34m==\u001b[0m \u001b[0;34m'peopleMaster/'\u001b[0m\u001b[0;34m+\u001b[0m\u001b[0mkey_viktor_fritzen\u001b[0m\u001b[0;34m)\u001b[0m\u001b[0;34m,\u001b[0m \u001b[0;34m'weight'\u001b[0m\u001b[0;34m]\u001b[0m\u001b[0;34m.\u001b[0m\u001b[0mvalues\u001b[0m\u001b[0;34m[\u001b[0m\u001b[0;36m0\u001b[0m\u001b[0;34m]\u001b[0m\u001b[0;34m\u001b[0m\u001b[0;34m\u001b[0m\u001b[0m\n\u001b[0m\u001b[1;32m     28\u001b[0m \u001b[0mwBA\u001b[0m \u001b[0;34m=\u001b[0m \u001b[0mpd_weight\u001b[0m\u001b[0;34m.\u001b[0m\u001b[0mloc\u001b[0m\u001b[0;34m[\u001b[0m\u001b[0;34m(\u001b[0m\u001b[0mpd_weight\u001b[0m\u001b[0;34m[\u001b[0m\u001b[0;34m\"_to\"\u001b[0m\u001b[0;34m]\u001b[0m \u001b[0;34m==\u001b[0m \u001b[0;34m'peopleMaster/'\u001b[0m\u001b[0;34m+\u001b[0m\u001b[0mkey_jaime_sendagorta\u001b[0m\u001b[0;34m)\u001b[0m \u001b[0;34m&\u001b[0m \u001b[0;34m(\u001b[0m\u001b[0mpd_weight\u001b[0m\u001b[0;34m[\u001b[0m\u001b[0;34m\"_from\"\u001b[0m\u001b[0;34m]\u001b[0m \u001b[0;34m==\u001b[0m \u001b[0;34m'peopleMaster/'\u001b[0m\u001b[0;34m+\u001b[0m\u001b[0mkey_viktor_fritzen\u001b[0m\u001b[0;34m)\u001b[0m\u001b[0;34m,\u001b[0m \u001b[0;34m'weight'\u001b[0m\u001b[0;34m]\u001b[0m\u001b[0;34m.\u001b[0m\u001b[0mvalues\u001b[0m\u001b[0;34m[\u001b[0m\u001b[0;36m0\u001b[0m\u001b[0;34m]\u001b[0m\u001b[0;34m\u001b[0m\u001b[0;34m\u001b[0m\u001b[0m\n\u001b[1;32m     29\u001b[0m \u001b[0mw\u001b[0m \u001b[0;34m=\u001b[0m \u001b[0;34m(\u001b[0m\u001b[0mwAB\u001b[0m \u001b[0;34m+\u001b[0m \u001b[0mwBA\u001b[0m\u001b[0;34m)\u001b[0m\u001b[0;34m/\u001b[0m\u001b[0;36m2\u001b[0m\u001b[0;34m\u001b[0m\u001b[0;34m\u001b[0m\u001b[0m\n",
      "\u001b[0;31mIndexError\u001b[0m: index 0 is out of bounds for axis 0 with size 0"
     ]
    }
   ],
   "source": [
    "#Sendagorta -> Casartelli, 3\n",
    "\n",
    "wAB = pd_weight.loc[(pd_weight[\"_from\"] == 'peopleMaster/'+key_jaime_sendagorta) & (pd_weight[\"_to\"] == 'peopleMaster/'+key_casartelli), 'weight'].values[0]\n",
    "wBA = pd_weight.loc[(pd_weight[\"_to\"] == 'peopleMaster/'+key_jaime_sendagorta) & (pd_weight[\"_from\"] == 'peopleMaster/'+key_casartelli), 'weight'].values[0]\n",
    "w = (wAB + wBA)/2\n",
    "print(round(1-w,1)*10)\n",
    "\n",
    "#Sendagorta -> Eduadrdo F. 1\n",
    "#wAB = pd_weight.loc[(pd_weight[\"_from\"] == 'peopleMaster/'+key_jaime_sendagorta) & (pd_weight[\"_to\"] == 'peopleMaster/'+key_eduardo_fernandez), 'weight'].values[0]\n",
    "#wBA = pd_weight.loc[(pd_weight[\"_to\"] == 'peopleMaster/'+key_jaime_sendagorta) & (pd_weight[\"_from\"] == 'peopleMaster/'+key_eduardo_fernandez), 'weight'].values[0]\n",
    "#w = (wAB + wBA)/2\n",
    "#print(round(1-w,3)*10)\n",
    "\n",
    "#Sendagorta -> Ernesto 2\n",
    "wAB = pd_weight.loc[(pd_weight[\"_from\"] == 'peopleMaster/'+key_jaime_sendagorta) & (pd_weight[\"_to\"] == 'peopleMaster/'+key_ernesto_funes), 'weight'].values[0]\n",
    "wBA = pd_weight.loc[(pd_weight[\"_to\"] == 'peopleMaster/'+key_jaime_sendagorta) & (pd_weight[\"_from\"] == 'peopleMaster/'+key_ernesto_funes), 'weight'].values[0]\n",
    "w = (wAB + wBA)/2\n",
    "print(round(1-w,1)*10)\n",
    "\n",
    "#Sendagorta -> Gioia , 9\n",
    "wAB = pd_weight.loc[(pd_weight[\"_from\"] == 'peopleMaster/'+key_jaime_sendagorta) & (pd_weight[\"_to\"] == 'peopleMaster/'+key_gioia_cerbelli), 'weight'].values[0]\n",
    "wBA = pd_weight.loc[(pd_weight[\"_to\"] == 'peopleMaster/'+key_jaime_sendagorta) & (pd_weight[\"_from\"] == 'peopleMaster/'+key_gioia_cerbelli), 'weight'].values[0]\n",
    "w = (wAB + wBA)/2\n",
    "print(round(1-w,1)*10)\n",
    "\n",
    "#Sendagorta -> Viktor Fritzen\n",
    "wAB = pd_weight.loc[(pd_weight[\"_from\"] == 'peopleMaster/'+key_jaime_sendagorta) & (pd_weight[\"_to\"] == 'peopleMaster/'+key_viktor_fritzen), 'weight'].values[0]\n",
    "wBA = pd_weight.loc[(pd_weight[\"_to\"] == 'peopleMaster/'+key_jaime_sendagorta) & (pd_weight[\"_from\"] == 'peopleMaster/'+key_viktor_fritzen), 'weight'].values[0]\n",
    "w = (wAB + wBA)/2\n",
    "print(round(1-w,1)*10)\n",
    "\n"
   ]
  },
  {
   "cell_type": "code",
   "execution_count": null,
   "metadata": {},
   "outputs": [],
   "source": []
  },
  {
   "cell_type": "code",
   "execution_count": null,
   "metadata": {},
   "outputs": [],
   "source": []
  },
  {
   "cell_type": "code",
   "execution_count": null,
   "metadata": {},
   "outputs": [],
   "source": []
  }
 ],
 "metadata": {
  "kernelspec": {
   "display_name": "Python 3",
   "language": "python",
   "name": "python3"
  },
  "language_info": {
   "codemirror_mode": {
    "name": "ipython",
    "version": 3
   },
   "file_extension": ".py",
   "mimetype": "text/x-python",
   "name": "python",
   "nbconvert_exporter": "python",
   "pygments_lexer": "ipython3",
   "version": "3.6.8"
  }
 },
 "nbformat": 4,
 "nbformat_minor": 2
}
