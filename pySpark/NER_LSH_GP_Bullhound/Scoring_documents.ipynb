{
 "cells": [
  {
   "cell_type": "raw",
   "metadata": {},
   "source": [
    "-- Scoring de documento: score people relations found in documents\n",
    "-- Author: Alvaro Calle Cordon (acalle@stratio.com)  \n",
    "-- Created: Noviembre 2019  \n",
    "-- Code: Python 3.x  "
   ]
  },
  {
   "cell_type": "code",
   "execution_count": 1,
   "metadata": {},
   "outputs": [],
   "source": [
    "import pandas as pd\n",
    "import numpy as np\n",
    "import time\n",
    "import matplotlib.pylab as plt\n",
    "from datetime import timezone\n",
    "import json\n",
    "\n",
    "pd.set_option('display.max_colwidth', -1)\n",
    "\n",
    "import warnings\n",
    "warnings.filterwarnings('ignore')"
   ]
  },
  {
   "cell_type": "code",
   "execution_count": 2,
   "metadata": {},
   "outputs": [],
   "source": [
    "from sklearn import preprocessing"
   ]
  },
  {
   "cell_type": "code",
   "execution_count": 3,
   "metadata": {},
   "outputs": [],
   "source": [
    "import arango\n",
    "from arango import ArangoClient\n",
    "from arango.response import Response\n",
    "from arango.http import HTTPClient"
   ]
  },
  {
   "cell_type": "markdown",
   "metadata": {},
   "source": [
    "### Funciones auxiliares"
   ]
  },
  {
   "cell_type": "code",
   "execution_count": 4,
   "metadata": {},
   "outputs": [],
   "source": [
    "def read_arango_to_pandas(db, collection):\n",
    "    \"\"\"\n",
    "    read an ArangoDB collection and pandas\n",
    "    \n",
    "    :param: db - Arango collection    \n",
    "    :param: collection - Calection to retrieve\n",
    "    \"\"\"\n",
    "\n",
    "    col = db.collection(collection)\n",
    "    return pd.DataFrame(list(col))"
   ]
  },
  {
   "cell_type": "code",
   "execution_count": 5,
   "metadata": {},
   "outputs": [],
   "source": [
    "from functools import wraps\n",
    "import time\n",
    "\n",
    "def timing(f):\n",
    "    @wraps(f)\n",
    "    def wrapper(*args, **kwargs):\n",
    "        start = time.time()\n",
    "        result = f(*args, **kwargs)\n",
    "        end = time.time()\n",
    "        print('Elapsed time: {}'.format(end-start))\n",
    "        return result\n",
    "    return wrapper"
   ]
  },
  {
   "cell_type": "code",
   "execution_count": 6,
   "metadata": {},
   "outputs": [],
   "source": [
    "import logging\n",
    "\n",
    "from requests.adapters import HTTPAdapter\n",
    "from requests import Session\n",
    "\n",
    "from arango.response import Response\n",
    "from arango.http import HTTPClient\n",
    "\n",
    "\n",
    "class CustomHTTPClient(HTTPClient):\n",
    "    \"\"\"My custom HTTP client with cool features.\"\"\"\n",
    "\n",
    "    def __init__(self):\n",
    "        self._session = Session()\n",
    "        # Initialize your logger.\n",
    "        self._logger = logging.getLogger('my_logger')\n",
    "\n",
    "    def create_session(self, host):\n",
    "        session = Session()\n",
    "\n",
    "        # Add request header.\n",
    "        session.headers.update({'x-my-header': 'true'})\n",
    "\n",
    "        # Enable retries.\n",
    "        adapter = HTTPAdapter(max_retries=5)\n",
    "        self._session.mount('https://', adapter)\n",
    "\n",
    "        return session\n",
    "\n",
    "    def send_request(self,\n",
    "                     session,\n",
    "                     method,\n",
    "                     url,\n",
    "                     params=None,\n",
    "                     data=None,\n",
    "                     headers=None,\n",
    "                     auth=None):\n",
    "        # Add your own debug statement.\n",
    "        self._logger.debug('Sending request to {}'.format(url))\n",
    "\n",
    "        # Send a request.\n",
    "        response = session.request(\n",
    "            method=method,\n",
    "            url=url,\n",
    "            params=params,\n",
    "            data=data,\n",
    "            headers=headers,\n",
    "            auth=auth,\n",
    "            verify=False  # Disable SSL verification\n",
    "        )\n",
    "        self._logger.debug('Got {}'.format(response.status_code))\n",
    "\n",
    "        # Return an instance of arango.response.Response.\n",
    "        return Response(\n",
    "            method=response.request.method,\n",
    "            url=response.url,\n",
    "            headers=response.headers,\n",
    "            status_code=response.status_code,\n",
    "            status_text=response.reason,\n",
    "            raw_body=response.text,\n",
    "        )"
   ]
  },
  {
   "cell_type": "code",
   "execution_count": 7,
   "metadata": {},
   "outputs": [],
   "source": [
    "@timing\n",
    "def execute(query):\n",
    "    cursor = aql.execute(query)\n",
    "    item_keys = [doc for doc in cursor]\n",
    "    return item_keys"
   ]
  },
  {
   "cell_type": "markdown",
   "metadata": {},
   "source": [
    "## Data: relaciones A $\\to$ B documentales"
   ]
  },
  {
   "cell_type": "code",
   "execution_count": 8,
   "metadata": {},
   "outputs": [
    {
     "name": "stdout",
     "output_type": "stream",
     "text": [
      "RETURN LENGTH(documents_NER)\n",
      "Elapsed time: 0.114410400390625\n"
     ]
    },
    {
     "data": {
      "text/plain": [
       "[745]"
      ]
     },
     "execution_count": 8,
     "metadata": {},
     "output_type": "execute_result"
    }
   ],
   "source": [
    "# Tunel local de Yessika \n",
    "client = ArangoClient(hosts='http://XX.XX.X.XX:XXXX', http_client=CustomHTTPClient())\n",
    "db = client.db('gp', username='root', password='openSesame')\n",
    "aql = db.aql\n",
    "pregel = db.pregel\n",
    "\n",
    "#-------------------------------------------------------------\n",
    "# PRUEBA DE CONEXION - Nº de documentos\n",
    "\n",
    "collection = 'documents_NER'\n",
    "query=r'''RETURN LENGTH(''' + collection + ''')'''\n",
    "print(query)\n",
    "execute(query)"
   ]
  },
  {
   "cell_type": "code",
   "execution_count": 41,
   "metadata": {
    "scrolled": true
   },
   "outputs": [
    {
     "name": "stdout",
     "output_type": "stream",
     "text": [
      "(1830, 13)\n"
     ]
    },
    {
     "data": {
      "text/html": [
       "<div>\n",
       "<style scoped>\n",
       "    .dataframe tbody tr th:only-of-type {\n",
       "        vertical-align: middle;\n",
       "    }\n",
       "\n",
       "    .dataframe tbody tr th {\n",
       "        vertical-align: top;\n",
       "    }\n",
       "\n",
       "    .dataframe thead th {\n",
       "        text-align: right;\n",
       "    }\n",
       "</style>\n",
       "<table border=\"1\" class=\"dataframe\">\n",
       "  <thead>\n",
       "    <tr style=\"text-align: right;\">\n",
       "      <th></th>\n",
       "      <th>_key</th>\n",
       "      <th>_id</th>\n",
       "      <th>_rev</th>\n",
       "      <th>id_document</th>\n",
       "      <th>doc_extraction</th>\n",
       "      <th>master_extraction</th>\n",
       "      <th>key_master</th>\n",
       "      <th>type_ner</th>\n",
       "      <th>created</th>\n",
       "      <th>updated</th>\n",
       "      <th>uploader</th>\n",
       "      <th>key_job_company</th>\n",
       "      <th>dateIngested</th>\n",
       "    </tr>\n",
       "  </thead>\n",
       "  <tbody>\n",
       "    <tr>\n",
       "      <th>0</th>\n",
       "      <td>documents-76d3d678-8ec1-4979-b299-8019b19750c5_orgsMaster-1573068564-122993522</td>\n",
       "      <td>documents_NER/documents-76d3d678-8ec1-4979-b299-8019b19750c5_orgsMaster-1573068564-122993522</td>\n",
       "      <td>_ZipHs-W---</td>\n",
       "      <td>documents/76d3d678-8ec1-4979-b299-8019b19750c5</td>\n",
       "      <td>company</td>\n",
       "      <td>accompany</td>\n",
       "      <td>orgsMaster/1573068564-122993522</td>\n",
       "      <td>org</td>\n",
       "      <td>2016-12-26T00:17:07.000Z</td>\n",
       "      <td>2016-12-26T00:17:07.536Z</td>\n",
       "      <td>ndave</td>\n",
       "      <td></td>\n",
       "      <td>2019-11-08T11:32:44.144Z</td>\n",
       "    </tr>\n",
       "  </tbody>\n",
       "</table>\n",
       "</div>"
      ],
      "text/plain": [
       "                                                                             _key  \\\n",
       "0  documents-76d3d678-8ec1-4979-b299-8019b19750c5_orgsMaster-1573068564-122993522   \n",
       "\n",
       "                                                                                            _id  \\\n",
       "0  documents_NER/documents-76d3d678-8ec1-4979-b299-8019b19750c5_orgsMaster-1573068564-122993522   \n",
       "\n",
       "          _rev                                     id_document doc_extraction  \\\n",
       "0  _ZipHs-W---  documents/76d3d678-8ec1-4979-b299-8019b19750c5  company         \n",
       "\n",
       "  master_extraction                       key_master type_ner  \\\n",
       "0  accompany         orgsMaster/1573068564-122993522  org       \n",
       "\n",
       "                    created                   updated uploader  \\\n",
       "0  2016-12-26T00:17:07.000Z  2016-12-26T00:17:07.536Z  ndave     \n",
       "\n",
       "  key_job_company              dateIngested  \n",
       "0                  2019-11-08T11:32:44.144Z  "
      ]
     },
     "execution_count": 41,
     "metadata": {},
     "output_type": "execute_result"
    }
   ],
   "source": [
    "#get NER collection\n",
    "col = db.collection('documents_NER')\n",
    "pd_documents_ner = pd.DataFrame(list(col))\n",
    "print(pd_documents_ner.shape)\n",
    "pd_documents_ner.head(1)"
   ]
  },
  {
   "cell_type": "code",
   "execution_count": 42,
   "metadata": {},
   "outputs": [
    {
     "data": {
      "text/html": [
       "<div>\n",
       "<style scoped>\n",
       "    .dataframe tbody tr th:only-of-type {\n",
       "        vertical-align: middle;\n",
       "    }\n",
       "\n",
       "    .dataframe tbody tr th {\n",
       "        vertical-align: top;\n",
       "    }\n",
       "\n",
       "    .dataframe thead th {\n",
       "        text-align: right;\n",
       "    }\n",
       "</style>\n",
       "<table border=\"1\" class=\"dataframe\">\n",
       "  <thead>\n",
       "    <tr style=\"text-align: right;\">\n",
       "      <th></th>\n",
       "      <th>id_doc</th>\n",
       "      <th>ner_entity</th>\n",
       "      <th>master_entity</th>\n",
       "      <th>ner_type</th>\n",
       "      <th>date</th>\n",
       "      <th>doc_uploader</th>\n",
       "      <th>key_job_company</th>\n",
       "    </tr>\n",
       "  </thead>\n",
       "  <tbody>\n",
       "    <tr>\n",
       "      <th>0</th>\n",
       "      <td>76d3d678-8ec1-4979-b299-8019b19750c5</td>\n",
       "      <td>company</td>\n",
       "      <td>accompany</td>\n",
       "      <td>org</td>\n",
       "      <td>2016-12-26</td>\n",
       "      <td>ndave</td>\n",
       "      <td></td>\n",
       "    </tr>\n",
       "  </tbody>\n",
       "</table>\n",
       "</div>"
      ],
      "text/plain": [
       "                                 id_doc ner_entity master_entity ner_type  \\\n",
       "0  76d3d678-8ec1-4979-b299-8019b19750c5  company    accompany     org       \n",
       "\n",
       "         date doc_uploader key_job_company  \n",
       "0  2016-12-26  ndave                        "
      ]
     },
     "execution_count": 42,
     "metadata": {},
     "output_type": "execute_result"
    }
   ],
   "source": [
    "#limpia el dataframe\n",
    "pd_documents_ner = pd_documents_ner[[\"id_document\", \"doc_extraction\", \"master_extraction\", \"type_ner\", \"updated\", \"uploader\", \"key_job_company\"]]\n",
    "pd_documents_ner.columns = [\"id_doc\", \"ner_entity\", \"master_entity\", \"ner_type\", \"date\", \"doc_uploader\", \"key_job_company\"]\n",
    "pd_documents_ner['date'] = pd_documents_ner.date.apply(lambda x: str(x)[0:10])\n",
    "pd_documents_ner['id_doc'] = pd_documents_ner['id_doc'].apply(lambda x: str(x).replace('documents/',''))\n",
    "pd_documents_ner['key_job_company'] = pd_documents_ner['key_job_company'].apply(lambda x: str(x).replace('orgsMaster/',''))\n",
    "pd_documents_ner.head(1)"
   ]
  },
  {
   "cell_type": "code",
   "execution_count": 43,
   "metadata": {},
   "outputs": [
    {
     "data": {
      "text/plain": [
       "00d68b2f-7466-4405-9562-0ef7ea391a01    100\n",
       "00f16a6d-4543-405f-a0c7-bb6da54935a4    94 \n",
       "00cb122d-5b00-420b-9f91-874c7d553b6c    93 \n",
       "012039ee-b0bc-4693-bb28-e62bb282b743    91 \n",
       "00f2c626-141e-4478-a2d2-ebddd4354df1    73 \n",
       "                                        .. \n",
       "00c7f3a6-63f9-4525-8269-f056892e35d0    1  \n",
       "00e9bf7b-ebbe-4e4e-8775-88fe9ca906a0    1  \n",
       "002c4b68-6da5-444f-81ff-c9567b0ad3bf    1  \n",
       "00729703-6b4a-47a4-8eba-3d430be588be    1  \n",
       "00c70508-c7eb-4fe9-ad62-4288b36b7856    1  \n",
       "Name: id_doc, Length: 101, dtype: int64"
      ]
     },
     "execution_count": 43,
     "metadata": {},
     "output_type": "execute_result"
    }
   ],
   "source": [
    "#numero entidades por documento:\n",
    "pd_documents_ner['id_doc'].value_counts()"
   ]
  },
  {
   "cell_type": "code",
   "execution_count": 44,
   "metadata": {},
   "outputs": [
    {
     "data": {
      "text/plain": [
       "array(['org', 'person'], dtype=object)"
      ]
     },
     "execution_count": 44,
     "metadata": {},
     "output_type": "execute_result"
    }
   ],
   "source": [
    "#tipos de entidades reconocidas por NER:\n",
    "pd_documents_ner.ner_type.unique()"
   ]
  },
  {
   "cell_type": "code",
   "execution_count": 45,
   "metadata": {},
   "outputs": [],
   "source": [
    "pd_ner_person = pd_documents_ner[pd_documents_ner.ner_type == 'person']"
   ]
  },
  {
   "cell_type": "code",
   "execution_count": 46,
   "metadata": {},
   "outputs": [
    {
     "data": {
      "text/plain": [
       "00d68b2f-7466-4405-9562-0ef7ea391a01    30\n",
       "00cb122d-5b00-420b-9f91-874c7d553b6c    27\n",
       "0002890d-a244-44a5-ae58-d54b4c8caf29    26\n",
       "00e2ea53-461d-430e-b23a-038ad153dc21    26\n",
       "00c94c03-f547-42f2-82ec-af4a5af98042    21\n",
       "00f2c626-141e-4478-a2d2-ebddd4354df1    21\n",
       "00c81ad1-489d-40f3-b742-386773a30b86    19\n",
       "012039ee-b0bc-4693-bb28-e62bb282b743    15\n",
       "004de596-295a-4409-8511-ea40ab8331d9    14\n",
       "00fa6221-85f8-4ba2-b2c8-273260e382df    10\n",
       "0002c246-92fe-4a26-a284-d64f7066e038    9 \n",
       "012ca8ad-0940-428f-909b-51e9e58252a5    8 \n",
       "00f16a6d-4543-405f-a0c7-bb6da54935a4    8 \n",
       "00494a2e-fc6c-411f-8fc9-e19008d0c83c    6 \n",
       "005be05f-26fb-442d-afe6-d7747715bd7b    6 \n",
       "0049aaa5-77ac-4a70-9c59-5b41632c5678    3 \n",
       "011b954f-879c-405a-b477-59e78f72dfde    3 \n",
       "01087a59-c968-43a4-8f3f-51515bd4aba9    2 \n",
       "00a9bfc6-a5f0-42dc-a6c2-3874371a8752    2 \n",
       "00a51ee2-d525-410b-b46d-6956f610f83d    2 \n",
       "0125780e-1d9a-442d-988b-4d39cc5ab203    2 \n",
       "008b7025-e64c-4d2d-abd7-22fb988d5f7d    2 \n",
       "00a3d562-215c-4505-8f3d-e585af6580c7    2 \n",
       "010b93d2-cf22-4079-94b3-e1f1b212f79a    1 \n",
       "0128fc99-252c-4caa-b2b2-392b6b422a78    1 \n",
       "00ee6688-ec2e-48ad-900e-1351113457f9    1 \n",
       "009f86ae-1641-4463-b7cf-3aaf1cffcdaa    1 \n",
       "00617f4e-4e0e-4f86-b475-3f4a3d1471e9    1 \n",
       "01364ea4-a5be-446f-817a-78fae2f01f1f    1 \n",
       "0063f0f5-4302-4988-8536-b29086ab3f31    1 \n",
       "004d47c7-13f7-4eee-bb53-21acf5bef168    1 \n",
       "009b6033-1f8d-4ff5-8e2b-04ea5af796b5    1 \n",
       "00a28938-a33a-419a-8f77-66882b6393be    1 \n",
       "0050716b-66f7-4eca-8761-3fda8e8275c7    1 \n",
       "00d3070c-6c4d-4bcf-86dc-fe4fee64c567    1 \n",
       "005e4ee0-b36b-44a6-90b3-a689afda7620    1 \n",
       "007b21e3-8378-43dc-acc1-21d9c436db50    1 \n",
       "Name: id_doc, dtype: int64"
      ]
     },
     "execution_count": 46,
     "metadata": {},
     "output_type": "execute_result"
    }
   ],
   "source": [
    "#numero de personas reconocidas por documento:\n",
    "pd_ner_person['id_doc'].value_counts()"
   ]
  },
  {
   "cell_type": "code",
   "execution_count": 50,
   "metadata": {},
   "outputs": [
    {
     "data": {
      "text/html": [
       "<div>\n",
       "<style scoped>\n",
       "    .dataframe tbody tr th:only-of-type {\n",
       "        vertical-align: middle;\n",
       "    }\n",
       "\n",
       "    .dataframe tbody tr th {\n",
       "        vertical-align: top;\n",
       "    }\n",
       "\n",
       "    .dataframe thead th {\n",
       "        text-align: right;\n",
       "    }\n",
       "</style>\n",
       "<table border=\"1\" class=\"dataframe\">\n",
       "  <thead>\n",
       "    <tr style=\"text-align: right;\">\n",
       "      <th></th>\n",
       "      <th>id_doc</th>\n",
       "      <th>ner_entity</th>\n",
       "      <th>master_entity</th>\n",
       "      <th>ner_type</th>\n",
       "      <th>date</th>\n",
       "      <th>doc_uploader</th>\n",
       "      <th>key_job_company</th>\n",
       "    </tr>\n",
       "  </thead>\n",
       "  <tbody>\n",
       "    <tr>\n",
       "      <th>1400</th>\n",
       "      <td>00f16a6d-4543-405f-a0c7-bb6da54935a4</td>\n",
       "      <td>larizadeh duggan</td>\n",
       "      <td>avid larizadeh duggan</td>\n",
       "      <td>person</td>\n",
       "      <td>2019-08-22</td>\n",
       "      <td>__del__220__carl.elfving</td>\n",
       "      <td>1573056623-122450453</td>\n",
       "    </tr>\n",
       "    <tr>\n",
       "      <th>1401</th>\n",
       "      <td>00f16a6d-4543-405f-a0c7-bb6da54935a4</td>\n",
       "      <td>sam nurmi</td>\n",
       "      <td>sam nurmi</td>\n",
       "      <td>person</td>\n",
       "      <td>2019-08-22</td>\n",
       "      <td>__del__220__carl.elfving</td>\n",
       "      <td>1573061301-134878036</td>\n",
       "    </tr>\n",
       "    <tr>\n",
       "      <th>1402</th>\n",
       "      <td>00f16a6d-4543-405f-a0c7-bb6da54935a4</td>\n",
       "      <td>johan roslund</td>\n",
       "      <td>johan roslund</td>\n",
       "      <td>person</td>\n",
       "      <td>2019-08-22</td>\n",
       "      <td>__del__220__carl.elfving</td>\n",
       "      <td>1573064376-27422297</td>\n",
       "    </tr>\n",
       "    <tr>\n",
       "      <th>1420</th>\n",
       "      <td>00f16a6d-4543-405f-a0c7-bb6da54935a4</td>\n",
       "      <td>satya nadella</td>\n",
       "      <td>satya nadella</td>\n",
       "      <td>person</td>\n",
       "      <td>2019-08-22</td>\n",
       "      <td>__del__220__carl.elfving</td>\n",
       "      <td>1573079019-37843220</td>\n",
       "    </tr>\n",
       "    <tr>\n",
       "      <th>1423</th>\n",
       "      <td>00f16a6d-4543-405f-a0c7-bb6da54935a4</td>\n",
       "      <td>felix bratell</td>\n",
       "      <td>mr  felix bratell</td>\n",
       "      <td>person</td>\n",
       "      <td>2019-08-22</td>\n",
       "      <td>__del__220__carl.elfving</td>\n",
       "      <td>1573064376-27422297</td>\n",
       "    </tr>\n",
       "    <tr>\n",
       "      <th>1425</th>\n",
       "      <td>00f16a6d-4543-405f-a0c7-bb6da54935a4</td>\n",
       "      <td>andreas liffgarden</td>\n",
       "      <td>andreas liffgarden</td>\n",
       "      <td>person</td>\n",
       "      <td>2019-08-22</td>\n",
       "      <td>__del__220__carl.elfving</td>\n",
       "      <td>1573056119-74906496</td>\n",
       "    </tr>\n",
       "    <tr>\n",
       "      <th>1428</th>\n",
       "      <td>00f16a6d-4543-405f-a0c7-bb6da54935a4</td>\n",
       "      <td>tom hall</td>\n",
       "      <td>tom hall</td>\n",
       "      <td>person</td>\n",
       "      <td>2019-08-22</td>\n",
       "      <td>__del__220__carl.elfving</td>\n",
       "      <td>1573056119-127499038</td>\n",
       "    </tr>\n",
       "    <tr>\n",
       "      <th>1429</th>\n",
       "      <td>00f16a6d-4543-405f-a0c7-bb6da54935a4</td>\n",
       "      <td>johan roslund</td>\n",
       "      <td>johan roslund</td>\n",
       "      <td>person</td>\n",
       "      <td>2019-08-22</td>\n",
       "      <td>__del__220__carl.elfving</td>\n",
       "      <td>1573081538-5272434</td>\n",
       "    </tr>\n",
       "  </tbody>\n",
       "</table>\n",
       "</div>"
      ],
      "text/plain": [
       "                                    id_doc          ner_entity  \\\n",
       "1400  00f16a6d-4543-405f-a0c7-bb6da54935a4  larizadeh duggan     \n",
       "1401  00f16a6d-4543-405f-a0c7-bb6da54935a4  sam nurmi            \n",
       "1402  00f16a6d-4543-405f-a0c7-bb6da54935a4  johan roslund        \n",
       "1420  00f16a6d-4543-405f-a0c7-bb6da54935a4  satya nadella        \n",
       "1423  00f16a6d-4543-405f-a0c7-bb6da54935a4  felix bratell        \n",
       "1425  00f16a6d-4543-405f-a0c7-bb6da54935a4  andreas liffgarden   \n",
       "1428  00f16a6d-4543-405f-a0c7-bb6da54935a4  tom hall             \n",
       "1429  00f16a6d-4543-405f-a0c7-bb6da54935a4  johan roslund        \n",
       "\n",
       "              master_entity ner_type        date              doc_uploader  \\\n",
       "1400  avid larizadeh duggan  person   2019-08-22  __del__220__carl.elfving   \n",
       "1401  sam nurmi              person   2019-08-22  __del__220__carl.elfving   \n",
       "1402  johan roslund          person   2019-08-22  __del__220__carl.elfving   \n",
       "1420  satya nadella          person   2019-08-22  __del__220__carl.elfving   \n",
       "1423  mr  felix bratell      person   2019-08-22  __del__220__carl.elfving   \n",
       "1425  andreas liffgarden     person   2019-08-22  __del__220__carl.elfving   \n",
       "1428  tom hall               person   2019-08-22  __del__220__carl.elfving   \n",
       "1429  johan roslund          person   2019-08-22  __del__220__carl.elfving   \n",
       "\n",
       "           key_job_company  \n",
       "1400  1573056623-122450453  \n",
       "1401  1573061301-134878036  \n",
       "1402  1573064376-27422297   \n",
       "1420  1573079019-37843220   \n",
       "1423  1573064376-27422297   \n",
       "1425  1573056119-74906496   \n",
       "1428  1573056119-127499038  \n",
       "1429  1573081538-5272434    "
      ]
     },
     "execution_count": 50,
     "metadata": {},
     "output_type": "execute_result"
    }
   ],
   "source": [
    "pd_ner_person[pd_ner_person['id_doc'] == '00f16a6d-4543-405f-a0c7-bb6da54935a4']"
   ]
  },
  {
   "cell_type": "markdown",
   "metadata": {},
   "source": [
    "## Cálculo de pesos"
   ]
  },
  {
   "cell_type": "code",
   "execution_count": null,
   "metadata": {},
   "outputs": [],
   "source": [
    "pd_ner_person = pd_documents_ner[pd_documents_ner.ner_type == 'person']\n"
   ]
  },
  {
   "cell_type": "code",
   "execution_count": 10,
   "metadata": {},
   "outputs": [],
   "source": [
    "alpha = 0.5\n",
    "q = 1.6\n",
    "p = 1\n",
    "factor = 10**7\n",
    "\n",
    "#min-max scaler\n",
    "scaler = preprocessing.MinMaxScaler()\n",
    "\n",
    "#current utc timestamp\n",
    "t0 = time.time()/factor\n",
    "\n",
    "pd_sent = pd_master[pd_master.type == 'sent']\n",
    "    \n",
    "#set timezone of datetime object to utc and calculates the timestamp\n",
    "pd_sent['t'] = pd.to_datetime(pd_sent.date).apply(lambda x: x.replace(tzinfo=timezone.utc).timestamp()/factor)\n",
    "#weight is decreasing with time\n",
    "pd_sent['t-t0'] = pd_sent['t'] - t0\n",
    "pd_sent['weight'] = q * np.exp( alpha * pd_sent['t-t0'] )\n",
    "#sum over interaction pairs\n",
    "final = pd_sent[['from', 'to', 'weight']].groupby(['from', 'to']).sum().reset_index()\n",
    "#apply log-transformation to compensate for highly interecting people\n",
    "final['weight'] = np.log1p( final['weight'] )\n",
    "#scale to be a number in range [0,1] and return the complement \n",
    "final['weight'] = (1 - scaler.fit_transform(final['weight'].values.reshape(-1,1)))\n"
   ]
  },
  {
   "cell_type": "code",
   "execution_count": 11,
   "metadata": {},
   "outputs": [
    {
     "data": {
      "text/plain": [
       "[0.0, 1.0]"
      ]
     },
     "execution_count": 11,
     "metadata": {},
     "output_type": "execute_result"
    }
   ],
   "source": [
    "[final.weight.min(), final.weight.max()]"
   ]
  },
  {
   "cell_type": "code",
   "execution_count": 12,
   "metadata": {
    "scrolled": false
   },
   "outputs": [
    {
     "data": {
      "text/plain": [
       "<matplotlib.axes._subplots.AxesSubplot at 0x7f8b1d616eb8>"
      ]
     },
     "execution_count": 12,
     "metadata": {},
     "output_type": "execute_result"
    },
    {
     "data": {
      "image/png": "[encoded data removed]",
      "text/plain": [
       "<Figure size 432x288 with 1 Axes>"
      ]
     },
     "metadata": {
      "needs_background": "light"
     },
     "output_type": "display_data"
    }
   ],
   "source": [
    "final.weight.hist(bins=100)"
   ]
  }
 ],
 "metadata": {
  "kernelspec": {
   "display_name": "Python 3",
   "language": "python",
   "name": "python3"
  },
  "language_info": {
   "codemirror_mode": {
    "name": "ipython",
    "version": 3
   },
   "file_extension": ".py",
   "mimetype": "text/x-python",
   "name": "python",
   "nbconvert_exporter": "python",
   "pygments_lexer": "ipython3",
   "version": "3.6.8"
  }
 },
 "nbformat": 4,
 "nbformat_minor": 2
}
