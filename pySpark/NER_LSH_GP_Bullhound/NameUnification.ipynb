{
 "cells": [
  {
   "cell_type": "raw",
   "metadata": {},
   "source": [
    "-- Name Unification: clean and format names with correct Name, Surname  \n",
    "-- Author: Alvaro Calle Cordon (acalle@stratio.com)  \n",
    "-- Created: Noviembre 2019  \n",
    "-- Code: Python 3.x  "
   ]
  },
  {
   "cell_type": "code",
   "execution_count": null,
   "metadata": {},
   "outputs": [],
   "source": [
    "import pandas as pd\n",
    "import numpy as np\n",
    "import time\n",
    "import re\n",
    "import urllib3\n",
    "\n",
    "import requests\n",
    "from requests.adapters import HTTPAdapter\n",
    "from requests import Session\n",
    "\n",
    "import arango\n",
    "from arango import ArangoClient\n",
    "from arango.response import Response\n",
    "from arango.http import HTTPClient"
   ]
  },
  {
   "cell_type": "code",
   "execution_count": null,
   "metadata": {},
   "outputs": [],
   "source": [
    "pd.set_option('display.max_colwidth', -1)\n",
    "urllib3.disable_warnings(urllib3.exceptions.InsecureRequestWarning)\n",
    "import warnings\n",
    "warnings.filterwarnings(\"ignore\")"
   ]
  },
  {
   "cell_type": "markdown",
   "metadata": {},
   "source": [
    "## Funciones auxiliares"
   ]
  },
  {
   "cell_type": "code",
   "execution_count": null,
   "metadata": {},
   "outputs": [],
   "source": [
    "from functools import wraps\n",
    "from time import time\n",
    "\n",
    "def timing(f):\n",
    "    @wraps(f)\n",
    "    def wrapper(*args, **kwargs):\n",
    "        start = time()\n",
    "        result = f(*args, **kwargs)\n",
    "        end = time()\n",
    "        print('Elapsed time: {}'.format(end-start))\n",
    "        return result\n",
    "    return wrapper"
   ]
  },
  {
   "cell_type": "code",
   "execution_count": null,
   "metadata": {},
   "outputs": [],
   "source": [
    "import logging\n",
    "\n",
    "from requests.adapters import HTTPAdapter\n",
    "from requests import Session\n",
    "\n",
    "from arango.response import Response\n",
    "from arango.http import HTTPClient\n",
    "\n",
    "\n",
    "class CustomHTTPClient(HTTPClient):\n",
    "    \"\"\"My custom HTTP client with cool features.\"\"\"\n",
    "\n",
    "    def __init__(self):\n",
    "        self._session = Session()\n",
    "        # Initialize your logger.\n",
    "        self._logger = logging.getLogger('my_logger')\n",
    "\n",
    "    def create_session(self, host):\n",
    "        session = Session()\n",
    "\n",
    "        # Add request header.\n",
    "        session.headers.update({'x-my-header': 'true'})\n",
    "\n",
    "        # Enable retries.\n",
    "        adapter = HTTPAdapter(max_retries=5)\n",
    "        self._session.mount('https://', adapter)\n",
    "\n",
    "        return session\n",
    "\n",
    "    def send_request(self,\n",
    "                     session,\n",
    "                     method,\n",
    "                     url,\n",
    "                     params=None,\n",
    "                     data=None,\n",
    "                     headers=None,\n",
    "                     auth=None):\n",
    "        # Add your own debug statement.\n",
    "        self._logger.debug('Sending request to {}'.format(url))\n",
    "\n",
    "        # Send a request.\n",
    "        response = session.request(\n",
    "            method=method,\n",
    "            url=url,\n",
    "            params=params,\n",
    "            data=data,\n",
    "            headers=headers,\n",
    "            auth=auth,\n",
    "            verify=False  # Disable SSL verification\n",
    "        )\n",
    "        self._logger.debug('Got {}'.format(response.status_code))\n",
    "\n",
    "        # Return an instance of arango.response.Response.\n",
    "        return Response(\n",
    "            method=response.request.method,\n",
    "            url=response.url,\n",
    "            headers=response.headers,\n",
    "            status_code=response.status_code,\n",
    "            status_text=response.reason,\n",
    "            raw_body=response.text,\n",
    "        )"
   ]
  },
  {
   "cell_type": "code",
   "execution_count": null,
   "metadata": {},
   "outputs": [],
   "source": [
    "@timing\n",
    "def execute(query):\n",
    "    cursor = aql.execute(query)\n",
    "    item_keys = [doc for doc in cursor]\n",
    "    return item_keys"
   ]
  },
  {
   "cell_type": "markdown",
   "metadata": {},
   "source": [
    "## Carga `peopleMaster`"
   ]
  },
  {
   "cell_type": "code",
   "execution_count": null,
   "metadata": {},
   "outputs": [],
   "source": [
    "client = ArangoClient(hosts='https://localhost:XXXX/', http_client=CustomHTTPClient())\n",
    "db = client.db('gp', username='root', password='kXaHdJJoKi')\n",
    "aql = db.aql\n",
    "pregel = db.pregel\n",
    "\n",
    "# PRUEBA DE CONEXION - Nº de documentos\n",
    "collection = 'peopleMaster'\n",
    "query=r'''RETURN LENGTH(''' + collection + ''')'''\n",
    "print(query)\n",
    "execute(query)"
   ]
  },
  {
   "cell_type": "code",
   "execution_count": null,
   "metadata": {},
   "outputs": [],
   "source": [
    "#col = db.collection('peopleMaster')\n",
    "#pd_peopleMaster = pd.DataFrame(list(col))\n",
    "#pd_peopleMaster.to_csv('output/pd_peopleMaster.csv', index=False)\n",
    "pd_peopleMaster = pd.read_csv('collections/pd_peopleMaster.csv')"
   ]
  },
  {
   "cell_type": "code",
   "execution_count": null,
   "metadata": {},
   "outputs": [],
   "source": [
    "pd_peopleMaster.head(1)"
   ]
  },
  {
   "cell_type": "code",
   "execution_count": null,
   "metadata": {},
   "outputs": [],
   "source": [
    "pd_peopleMaster[pd_peopleMaster['_key'] == '1571818679-29140509']"
   ]
  },
  {
   "cell_type": "code",
   "execution_count": null,
   "metadata": {},
   "outputs": [],
   "source": [
    "pd_people = pd_peopleMaster[['_key', 'name', 'principal_name']]"
   ]
  },
  {
   "cell_type": "code",
   "execution_count": null,
   "metadata": {},
   "outputs": [],
   "source": [
    "pd_people.describe()"
   ]
  },
  {
   "cell_type": "code",
   "execution_count": null,
   "metadata": {},
   "outputs": [],
   "source": [
    "def titleRemoval(text):\n",
    "    \"\"\"\n",
    "    Remove common title prefix from names\n",
    "    \"\"\"    \n",
    "    \n",
    "    commonTitles = [\"MR\", \"MRS\", \"MS\", \"MISS\", \n",
    "                    \"SIR\", \"SISTER\", \"LADY\", \"LORD\",\n",
    "                    \"DR\", \"DR ING\", \"DRA\", \"DRS\",\n",
    "                    \"HERR\", \"HR\",\n",
    "                    \"MONSIEUR\", \"MADAME\", \"MADEMOISELLE\", \"MLLE\", \"MME\",\n",
    "                    \"CHIEF\", \"HRA\", \"ING\",\n",
    "                    \"PROF\", \"PROF DR\", \"PROF SIR\", \"PROFESSOR\",\n",
    "                    \"SR\", \"SR D\", \"SRA\", \"EXMA SRA\", \"EXMO SR\", \"SRTA\"]\n",
    "\n",
    "    regex = r'\\b(?:' + '|'.join(commonTitles) + r').\\s*' + '|(, \\w+)'\n",
    "\n",
    "    text = re.sub(regex, '', text.upper())\n",
    "    text = re.sub('\\.', ' ', text)\n",
    "    return str(text).lower().strip()"
   ]
  },
  {
   "cell_type": "code",
   "execution_count": null,
   "metadata": {},
   "outputs": [],
   "source": [
    "def bannedRemoval(text):\n",
    "    \"\"\"\n",
    "    Remove some words from names that do not make sense\n",
    "    \"\"\"\n",
    "\n",
    "    banned = [\"personal assistant\", \"\\{external\\}\", 'unquote', 'equity', \n",
    "              'europe', 'risk', 'summit', 'invest in bavaria', 'corporate',\n",
    "              'notification', 'reporting', 'fax', 'message', 'bgf quarterly newsletter',\n",
    "              'Bgf Tech Track 1', '- premium cars']\n",
    "    \n",
    "    regex = '|'.join(banned)\n",
    "    text = re.sub(regex, '', text.lower())\n",
    "    return str(text).strip()"
   ]
  },
  {
   "cell_type": "code",
   "execution_count": null,
   "metadata": {},
   "outputs": [],
   "source": [
    "def rareRemoval(text):\n",
    "    \"\"\"\n",
    "    Remove rare names like webpages, etc. In fact any name that contains the set of characters {=,:,/,(,)}\n",
    "    \"\"\"\n",
    "    pattern = re.compile(\"[=:/\\(\\)]\")\n",
    "    if re.search(pattern, text):\n",
    "        return str('')\n",
    "    else:\n",
    "        return text"
   ]
  },
  {
   "cell_type": "code",
   "execution_count": null,
   "metadata": {},
   "outputs": [],
   "source": [
    "def manualSub(text):\n",
    "    \"\"\"\n",
    "    Replace user selected strings\n",
    "    \"\"\"    \n",
    "    if \"with exclusive site\" in text.lower():\n",
    "        return \"biorefinery visit\"\n",
    "    else:\n",
    "        return text"
   ]
  },
  {
   "cell_type": "markdown",
   "metadata": {},
   "source": [
    "## Extracción del nombre:\n",
    "\n",
    "- Paso 1: limpieza con `cleanName`. En este paso se aplica\n",
    "    - Aplica `titleRemoval` - elimina los títulos del nombre\n",
    "    - Aplica `bannedRemoval` - elimina nombres baneados\n",
    "    - Elimina apellidos o nombres con caracter / en mitad\n",
    "    - Elimina los corchetes []\n",
    "    - Aplica `rareRemoval` para eliminar nombres raros\n",
    "    - Aplica `manualSub` para eliminar filtros manuales\n",
    "    - Sustituye dobres espacios por simples espacios\n",
    "\n",
    "- Paso 2: elige estrategia de extracción de nombre\n",
    "    - `extractLongestName`: extrae el nombre más largo\n",
    "    - `extractMostFrequentName`: extrae como nombre el conjunto de palabras más repetidas de forma consecutiva"
   ]
  },
  {
   "cell_type": "code",
   "execution_count": null,
   "metadata": {},
   "outputs": [],
   "source": [
    "from collections import Counter\n",
    "import itertools\n",
    "\n",
    "def cleanName(name):\n",
    "    \n",
    "    name = titleRemoval(name)\n",
    "    name = bannedRemoval(name)\n",
    "    name = re.sub(r'\\s*(?:[\\w_]*[/\\\\](?:[\\w_]*[/\\\\])*[\\w_]*)', '', name)\n",
    "    name = re.sub('\\[|\\]', '', name)\n",
    "    name = rareRemoval(name)\n",
    "    name = manualSub(name)\n",
    "    name = re.sub('  ', ' ', name)\n",
    "\n",
    "    return name\n",
    "\n",
    "\n",
    "def extractLongestName(x):\n",
    "    \"\"\"\n",
    "    from a string of names extract the longest one\n",
    "    \"\"\"    \n",
    "    names = list()\n",
    "    \n",
    "    # si name=NaN devuelve NaN\n",
    "    if type(x) is float:\n",
    "        return 'NaN'\n",
    "\n",
    "    for i in x.split('\\''):\n",
    "        \n",
    "        # si name no esta vacio lo appendes\n",
    "        if len(i.strip()) > 1:    \n",
    "            i = cleanName(i.lower())\n",
    "            names.append(i)\n",
    "            \n",
    "    counter = Counter([name for name in names])\n",
    "\n",
    "    if len(list(counter.elements())) > 0:\n",
    "        return max(list(counter.elements()), key=len).title()\n",
    "\n",
    "def word_fequency(name_list):\n",
    "    \"\"\"\n",
    "    count frequency of words in a string of names\n",
    "    \"\"\"\n",
    "    \n",
    "    flat_list = list(itertools.chain(*[l.split(' ') for l in name_list]))\n",
    "    counter = Counter([l for l in flat_list])\n",
    "    words = [word for word,_ in counter.most_common(2)]\n",
    "    counts = [count for _,count in counter.most_common(2)]\n",
    "    \n",
    "    return words, counts\n",
    "\n",
    "def most_frequent_name(name_list):\n",
    "    \"\"\"\n",
    "    calculates the most frequent consecutive words\n",
    "    \"\"\"\n",
    "    \n",
    "    words, counts = word_fequency(name_list)\n",
    "    \n",
    "    # si no, calcula igual de frecuentes devuelve la cadena más larga\n",
    "    if len(words) > 1:\n",
    "\n",
    "        w1 = words[0] + ' ' + words[1]\n",
    "        w2 = words[1] + ' ' + words[0]\n",
    "        \n",
    "        w1_count = sum([name.count(w1) for name in name_list])\n",
    "        w2_count = sum([name.count(w2) for name in name_list])\n",
    "\n",
    "        if w1_count > w2_count:\n",
    "            return w1\n",
    "        else:\n",
    "            return w2\n",
    "    else:\n",
    "        return words\n",
    "\n",
    "\n",
    "def extractMostFrequentName(x):\n",
    "    \"\"\"\n",
    "    from a string of names extract the most frequent two-words name\n",
    "    \"\"\"\n",
    "\n",
    "    names = list()\n",
    "    \n",
    "    # si name=NaN devuelve NaN\n",
    "    if type(x) is float:\n",
    "        return 'NaN'\n",
    "\n",
    "    for i in x.split('\\''):\n",
    "        \n",
    "        # si name no esta vacio lo limpias y lo agregas\n",
    "        if len(i.strip()) > 1:    \n",
    "            i = cleanName(i.lower())\n",
    "            names.append(i)\n",
    "    \n",
    "    print(names)\n",
    "    if len(names) > 1: #si hay mas de un nombre, calcula la forma correcta\n",
    "        name = most_frequent_name(names)\n",
    "    elif not names:\n",
    "        name = ''\n",
    "    else:\n",
    "        name = names[0]\n",
    "    \n",
    "    return str(name).title()"
   ]
  },
  {
   "cell_type": "code",
   "execution_count": null,
   "metadata": {
    "scrolled": true
   },
   "outputs": [],
   "source": [
    "pd_people['longest_name'] = pd_people['name'].apply(lambda x: extractLongestName(x))\n",
    "pd_people['most_frequent_name'] = pd_people['name'].apply(lambda x: extractMostFrequentName(x))"
   ]
  },
  {
   "cell_type": "code",
   "execution_count": null,
   "metadata": {},
   "outputs": [],
   "source": [
    "pd_people.to_csv('output/renames.csv', sep='|')"
   ]
  }
 ],
 "metadata": {
  "kernelspec": {
   "display_name": "Python 3",
   "language": "python",
   "name": "python3"
  },
  "language_info": {
   "codemirror_mode": {
    "name": "ipython",
    "version": 3
   },
   "file_extension": ".py",
   "mimetype": "text/x-python",
   "name": "python",
   "nbconvert_exporter": "python",
   "pygments_lexer": "ipython3",
   "version": "3.6.8"
  }
 },
 "nbformat": 4,
 "nbformat_minor": 2
}
