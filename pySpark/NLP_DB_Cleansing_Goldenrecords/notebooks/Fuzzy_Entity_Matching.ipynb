{
 "cells": [
  {
   "cell_type": "markdown",
   "metadata": {},
   "source": [
    "# MVP Campofrío - Fuzzy Entity Matching\n",
    "\n",
    "\n",
    "Good reference: [Efficiently fuzzy match strings with machine learning in PySpark](http://gregbiegel.net/blog/using-machine-learning-in-python-to-fuzzily-match-strings)\n"
   ]
  },
  {
   "cell_type": "markdown",
   "metadata": {},
   "source": [
    "![](img/mmds.png)"
   ]
  },
  {
   "cell_type": "code",
   "execution_count": 1,
   "metadata": {},
   "outputs": [
    {
     "data": {
      "text/html": [
       "<style>.container { width:100% !important; }</style>"
      ],
      "text/plain": [
       "<IPython.core.display.HTML object>"
      ]
     },
     "metadata": {},
     "output_type": "display_data"
    }
   ],
   "source": [
    "from IPython.core.display import display, HTML\n",
    "display(HTML(\"<style>.container { width:100% !important; }</style>\"))"
   ]
  },
  {
   "cell_type": "code",
   "execution_count": 2,
   "metadata": {},
   "outputs": [],
   "source": [
    "%load_ext autoreload\n",
    "%autoreload 2"
   ]
  },
  {
   "cell_type": "code",
   "execution_count": 3,
   "metadata": {},
   "outputs": [],
   "source": [
    "import sys\n",
    "import os"
   ]
  },
  {
   "cell_type": "code",
   "execution_count": 4,
   "metadata": {},
   "outputs": [],
   "source": [
    "# add parent directory to path\n",
    "parent_dir = '/'.join(os.getcwd().split('/')[:-1])\n",
    "sys.path.append(parent_dir)"
   ]
  },
  {
   "cell_type": "code",
   "execution_count": 5,
   "metadata": {},
   "outputs": [
    {
     "data": {
      "text/plain": [
       "'/home/acalle/PycharmProjects/campofrio'"
      ]
     },
     "execution_count": 5,
     "metadata": {},
     "output_type": "execute_result"
    }
   ],
   "source": [
    "parent_dir"
   ]
  },
  {
   "cell_type": "code",
   "execution_count": 6,
   "metadata": {},
   "outputs": [],
   "source": [
    "from pyspark.sql import SparkSession, DataFrame\n",
    "from pyspark.sql import functions as F\n",
    "from pyspark.sql import types as T\n",
    "from pyspark import StorageLevel"
   ]
  },
  {
   "cell_type": "code",
   "execution_count": 7,
   "metadata": {},
   "outputs": [
    {
     "name": "stderr",
     "output_type": "stream",
     "text": [
      "22/03/30 16:58:53 WARN Utils: Your hostname, acalle resolves to a loopback address: 127.0.1.1; using 192.168.1.155 instead (on interface wlp59s0)\n",
      "22/03/30 16:58:53 WARN Utils: Set SPARK_LOCAL_IP if you need to bind to another address\n",
      "WARNING: An illegal reflective access operation has occurred\n",
      "WARNING: Illegal reflective access by org.apache.spark.unsafe.Platform (file:/home/acalle/miniconda3/envs/campofrio/lib/python3.8/site-packages/pyspark/jars/spark-unsafe_2.12-3.1.2.jar) to constructor java.nio.DirectByteBuffer(long,int)\n",
      "WARNING: Please consider reporting this to the maintainers of org.apache.spark.unsafe.Platform\n",
      "WARNING: Use --illegal-access=warn to enable warnings of further illegal reflective access operations\n",
      "WARNING: All illegal access operations will be denied in a future release\n",
      "22/03/30 16:58:53 WARN NativeCodeLoader: Unable to load native-hadoop library for your platform... using builtin-java classes where applicable\n",
      "Using Spark's default log4j profile: org/apache/spark/log4j-defaults.properties\n",
      "Setting default log level to \"WARN\".\n",
      "To adjust logging level use sc.setLogLevel(newLevel). For SparkR, use setLogLevel(newLevel).\n"
     ]
    }
   ],
   "source": [
    "spark = SparkSession.builder.appName(\"campofrio\").config(\"spark.driver.memory\", \"8g\") \\\n",
    "    .config(\"spark.cleaner.referenceTracking.cleanCheckpoints\",\"true\") \\\n",
    "    .config(\"spark.checkpoint.compress\",\"true\") \\\n",
    "    .config(\"spark.io.compression.codec\",\"lz4\") \\\n",
    "    .config(\"spark.shuffle.mapStatus.compression.codec\",\"lz4\") \\\n",
    "    .config(\"spark.shuffle.spill.compress\",\"true\") \\\n",
    "    .config(\"spark.shuffle.compress\",\"true\") \\\n",
    "    .config(\"spark.rdd.compress\",\"true\") \\\n",
    "    .getOrCreate()"
   ]
  },
  {
   "cell_type": "code",
   "execution_count": 8,
   "metadata": {},
   "outputs": [
    {
     "data": {
      "text/html": [
       "\n",
       "            <div>\n",
       "                <p><b>SparkSession - in-memory</b></p>\n",
       "                \n",
       "        <div>\n",
       "            <p><b>SparkContext</b></p>\n",
       "\n",
       "            <p><a href=\"http://192.168.1.155:4040\">Spark UI</a></p>\n",
       "\n",
       "            <dl>\n",
       "              <dt>Version</dt>\n",
       "                <dd><code>v3.1.2</code></dd>\n",
       "              <dt>Master</dt>\n",
       "                <dd><code>local[*]</code></dd>\n",
       "              <dt>AppName</dt>\n",
       "                <dd><code>campofrio</code></dd>\n",
       "            </dl>\n",
       "        </div>\n",
       "        \n",
       "            </div>\n",
       "        "
      ],
      "text/plain": [
       "<pyspark.sql.session.SparkSession at 0x7f44a0533520>"
      ]
     },
     "execution_count": 8,
     "metadata": {},
     "output_type": "execute_result"
    }
   ],
   "source": [
    "spark"
   ]
  },
  {
   "cell_type": "markdown",
   "metadata": {},
   "source": [
    "## Data"
   ]
  },
  {
   "cell_type": "code",
   "execution_count": 13,
   "metadata": {},
   "outputs": [
    {
     "name": "stdout",
     "output_type": "stream",
     "text": [
      "part-00000-a04248b5-e914-4e26-83ff-9a8db5679fdb-c000.snappy.parquet  _SUCCESS\r\n"
     ]
    }
   ],
   "source": [
    "! ls ../data/maktx/"
   ]
  },
  {
   "cell_type": "code",
   "execution_count": 14,
   "metadata": {},
   "outputs": [],
   "source": [
    "df = spark.read.parquet(\"../data/maktx\")\\\n",
    "            .repartition(2*spark.getActiveSession().sparkContext.defaultParallelism,\"row_id\")\\\n",
    "            .persist(StorageLevel.MEMORY_AND_DISK)"
   ]
  },
  {
   "cell_type": "code",
   "execution_count": 15,
   "metadata": {},
   "outputs": [
    {
     "data": {
      "text/plain": [
       "7808"
      ]
     },
     "execution_count": 15,
     "metadata": {},
     "output_type": "execute_result"
    }
   ],
   "source": [
    "df.count()"
   ]
  },
  {
   "cell_type": "code",
   "execution_count": 17,
   "metadata": {},
   "outputs": [
    {
     "name": "stdout",
     "output_type": "stream",
     "text": [
      "+-----------+-----------------------------+----------------------------------------+---------+--------+\n",
      "|row_id     |E1MARCM[Plants]--WERKS[Plant]|MAKTX                                   |SPRAS_ISO|MATNR   |\n",
      "+-----------+-----------------------------+----------------------------------------+---------+--------+\n",
      "|60129543143|[FB16]                       |POLEA BRIDA INOX ARMORINOX SPDIV0164511 |EN       |50190829|\n",
      "|60129543310|[FD01]                       |KIT 4 BOCAIS P/PISTOLA JATO AREIA       |PT       |50190917|\n",
      "|60129543348|[FB12]                       |RODAMIENTO (401965) LOGITRANS HL-1004-RF|ES       |50190938|\n",
      "+-----------+-----------------------------+----------------------------------------+---------+--------+\n",
      "only showing top 3 rows\n",
      "\n"
     ]
    }
   ],
   "source": [
    "df.show(3, truncate=False)"
   ]
  },
  {
   "cell_type": "raw",
   "metadata": {},
   "source": [
    "all_maktx = df.select(F.collect_set(\"row_id\").alias(\"maktx_row_ids\"), F.collect_set(\"maktx\").alias(\"maktx_values\"))\n"
   ]
  },
  {
   "cell_type": "raw",
   "metadata": {},
   "source": [
    "all_maktx.show(5)"
   ]
  },
  {
   "cell_type": "raw",
   "metadata": {},
   "source": [
    "df.crossJoin(all_maktx).show(3)"
   ]
  },
  {
   "cell_type": "markdown",
   "metadata": {},
   "source": [
    "## Data cleansing & normalization"
   ]
  },
  {
   "cell_type": "raw",
   "metadata": {},
   "source": [
    "def textCleansing(text):\n",
    "    text = re.sub('[^A-Za-z0-9@ _.+-]+', ' ', text)\n",
    "    return str(text).replace('  ', ' ')\n",
    "\n",
    "def emailExtraction(text):\n",
    "    emails = list()    \n",
    "    pattern = \"([a-zA-Z0-9_.+-]+@[a-zA-Z0-9-]+\\.[a-zA-Z0-9-.]+)\"\n",
    "    return re.findall(pattern, text)\n",
    "    \n",
    "# text2 = textCleansing(text)\n",
    "# emails = emailExtraction(textCleansing(text2))\n",
    "# emails = list(dict.fromkeys(emails))"
   ]
  },
  {
   "cell_type": "code",
   "execution_count": 16,
   "metadata": {},
   "outputs": [],
   "source": [
    "# ojo! tenemos que ver como limpiamos y normalizamos el texto\n",
    "#df = df.withColumn('maktx_ndf', \n",
    "#                   F.trim(F.lower(F.regexp_replace('MAKTX', \"[^a-zA-Z\\\\s]\", \"\"))))"
   ]
  },
  {
   "cell_type": "code",
   "execution_count": 19,
   "metadata": {},
   "outputs": [
    {
     "name": "stdout",
     "output_type": "stream",
     "text": [
      "+-----------+-----------------------------+----------------------------------------+---------+--------+\n",
      "|row_id     |E1MARCM[Plants]--WERKS[Plant]|MAKTX                                   |SPRAS_ISO|MATNR   |\n",
      "+-----------+-----------------------------+----------------------------------------+---------+--------+\n",
      "|60129543143|[FB16]                       |POLEA BRIDA INOX ARMORINOX SPDIV0164511 |EN       |50190829|\n",
      "|60129543310|[FD01]                       |KIT 4 BOCAIS P/PISTOLA JATO AREIA       |PT       |50190917|\n",
      "|60129543348|[FB12]                       |RODAMIENTO (401965) LOGITRANS HL-1004-RF|ES       |50190938|\n",
      "|60129543786|[FD01]                       |PORCA CRAVAR PRETA M6 094875 60 005     |EN       |50191153|\n",
      "|60129544382|[FA05]                       |DETECTEUR SECURITE EPINUS2KNT/MKTS      |FR       |50191490|\n",
      "|60129544653|[FB11]                       |PERFIL GUIA DISCO 3 CORTE PRIM 2005X1905|EN       |50191627|\n",
      "|60129545237|[FB07]                       |RETEN 45x65x8 NBR                       |ES       |50191925|\n",
      "|60129545658|[FB16]                       |REJA HIG.PRO BLUCHER 150x500 69725015020|EN       |50192133|\n",
      "|60129545989|[FD01]                       |KIT PUNCOES ALFABET/NUMER. 5/16         |PT       |50192297|\n",
      "|60129546010|[FB12]                       |PULSADOR ABRIR PINZA GEA (4016021014)   |EN       |50192309|\n",
      "|60129546274|[FB06]                       |CILINDRO FAC (XFA28118 081B) 120*100*350|ES       |50192446|\n",
      "|60129546745|[FB11]                       |RODILLO INTERROLL RD-11DZS20D03 RL: 95;A|ES       |50192683|\n",
      "|60129546950|[FA07]                       |GALET DE CAME INOX (SSLRN25ENS)         |FR       |50192800|\n",
      "|60129547160|[FA05]                       |COURROIE PFM (8709947) 50ATN20/10800 TPU|FR       |50192943|\n",
      "|60129547364|[FA05]                       |GUIDE PFM (GT20DYH006) SC=50 NOIR       |FR       |50193049|\n",
      "|60129547419|[FA05]                       |APIA PIPE (82 FDA TEPA ATEX L 6M)       |EN       |50193077|\n",
      "|60129547631|[FD01]                       |LAMELA C/HASTE GRAO 80 30X20X6          |PT       |50193204|\n",
      "|60129547796|[FA02]                       |ECHAPPEMENT RAPIDE SMC R1/4MX8MM ASV410F|EN       |50193313|\n",
      "|60129547836|[FB06]                       |INTERRUPTOR AMIDATA (443-0708)          |ES       |50193345|\n",
      "|60129548148|[FB06]                       |MODULO SIEMENS (6ES7-132-6BH01-0BA0)    |ES       |50193529|\n",
      "+-----------+-----------------------------+----------------------------------------+---------+--------+\n",
      "only showing top 20 rows\n",
      "\n"
     ]
    }
   ],
   "source": [
    "df.show(truncate=False)"
   ]
  },
  {
   "cell_type": "markdown",
   "metadata": {},
   "source": [
    "## Fuzzy Model"
   ]
  },
  {
   "cell_type": "code",
   "execution_count": 23,
   "metadata": {},
   "outputs": [],
   "source": [
    "from pyspark.ml import Pipeline\n",
    "from pyspark.ml.feature import RegexTokenizer, NGram, HashingTF, MinHashLSH, CountVectorizer"
   ]
  },
  {
   "cell_type": "markdown",
   "metadata": {},
   "source": [
    "### Ejemplo\n",
    "\n",
    "---"
   ]
  },
  {
   "cell_type": "code",
   "execution_count": 21,
   "metadata": {},
   "outputs": [
    {
     "name": "stdout",
     "output_type": "stream",
     "text": [
      "+-----+-------------+------------+\n",
      "|Index|Column_1     |Column_2    |\n",
      "+-----+-------------+------------+\n",
      "|1    |John Smyth   |Bob Jones   |\n",
      "|2    |John Smith   |Ned Flanders|\n",
      "|3    |Jo Smith     |Lisa Short  |\n",
      "|4    |Bob Jones    |Joe Tan     |\n",
      "|5    |Tim Jones    |Jim Jones   |\n",
      "|6    |Laura Tully  |John Smith  |\n",
      "|7    |Sheena Easton|John Smith  |\n",
      "|8    |Hilary Jones |Jon Smithers|\n",
      "|9    |Hannah Short |Chris Smith |\n",
      "|10   |Greg Norman  |Norm Smith  |\n",
      "+-----+-------------+------------+\n",
      "\n"
     ]
    }
   ],
   "source": [
    "import pandas as pd\n",
    "\n",
    "data = [[1 , \"John Smyth\",  \"Bob Jones\"],\n",
    "[2 , \"John Smith\",  \"Ned Flanders\"],\n",
    "[3 , \"Jo Smith\",    \"Lisa Short\"],\n",
    "[4 , \"Bob Jones\",   \"Joe Tan\"],\n",
    "[5 , \"Tim Jones\",   \"Jim Jones\"],\n",
    "[6 , \"Laura Tully\", \"John Smith\"],\n",
    "[7 , \"Sheena Easton\",   \"John Smith\"],\n",
    "[8 , \"Hilary Jones\",    \"Jon Smithers\"],\n",
    "[9 , \"Hannah Short\",    \"Chris Smith\"],\n",
    "[10, \"Greg Norman\", \"Norm Smith\"]]\n",
    "\n",
    "\n",
    "schema = T.StructType([\n",
    "    T.StructField(\"Index\", T.IntegerType(), True),\n",
    "    T.StructField(\"Column_1\", T.StringType(), True),\n",
    "    T.StructField(\"Column_2\", T.StringType(), True)])\n",
    "\n",
    "df = spark.createDataFrame(pd.DataFrame(data, columns=['index', 'col_1', 'col_2']), schema=schema)\n",
    "df.show(truncate=False)"
   ]
  },
  {
   "cell_type": "code",
   "execution_count": 38,
   "metadata": {},
   "outputs": [],
   "source": [
    "#hashing model\n",
    "model = Pipeline(stages=[\n",
    "\n",
    "    RegexTokenizer(pattern=\"\", inputCol=\"name\", outputCol=\"tokens\", minTokenLength=1),    \n",
    "    NGram(n=3, inputCol=\"tokens\", outputCol=\"ngrams\"),\n",
    "    HashingTF(inputCol=\"ngrams\", outputCol=\"vectors\",),\n",
    "    MinHashLSH(inputCol=\"vectors\", outputCol=\"lsh\", numHashTables=5)\n",
    "])"
   ]
  },
  {
   "cell_type": "code",
   "execution_count": 40,
   "metadata": {
    "scrolled": true
   },
   "outputs": [
    {
     "name": "stdout",
     "output_type": "stream",
     "text": [
      "+-----+-------------+\n",
      "|Index|         name|\n",
      "+-----+-------------+\n",
      "|    1|   John Smyth|\n",
      "|    2|   John Smith|\n",
      "|    3|     Jo Smith|\n",
      "|    4|    Bob Jones|\n",
      "|    5|    Tim Jones|\n",
      "|    6|  Laura Tully|\n",
      "|    7|Sheena Easton|\n",
      "|    8| Hilary Jones|\n",
      "|    9| Hannah Short|\n",
      "|   10|  Greg Norman|\n",
      "+-----+-------------+\n",
      "\n"
     ]
    }
   ],
   "source": [
    "ngrams_length = 3\n",
    "df_1 = df.select('Index', 'Column_1').withColumnRenamed('Column_1', 'name')\n",
    "df_1 = df_1.filter(F.length('name')>=ngrams_length)\n",
    "df_1.show()"
   ]
  },
  {
   "cell_type": "code",
   "execution_count": 42,
   "metadata": {},
   "outputs": [
    {
     "name": "stdout",
     "output_type": "stream",
     "text": [
      "+-----+------------+\n",
      "|Index|        name|\n",
      "+-----+------------+\n",
      "|    1|   Bob Jones|\n",
      "|    2|Ned Flanders|\n",
      "|    3|  Lisa Short|\n",
      "|    4|     Joe Tan|\n",
      "|    5|   Jim Jones|\n",
      "|    6|  John Smith|\n",
      "|    7|  John Smith|\n",
      "|    8|Jon Smithers|\n",
      "|    9| Chris Smith|\n",
      "|   10|  Norm Smith|\n",
      "+-----+------------+\n",
      "\n"
     ]
    }
   ],
   "source": [
    "ngrams_length = 3\n",
    "df_2 = df.select('Index', 'Column_2').withColumnRenamed('Column_2', 'name')\n",
    "df_2 = df_2.filter(F.length('name')>=ngrams_length)\n",
    "df_2.show()"
   ]
  },
  {
   "cell_type": "code",
   "execution_count": 41,
   "metadata": {},
   "outputs": [],
   "source": [
    "model = model.fit(df_1)    "
   ]
  },
  {
   "cell_type": "code",
   "execution_count": 43,
   "metadata": {},
   "outputs": [],
   "source": [
    "df_1_hashed = model.transform(df_1)\n",
    "df_2_hashed = model.transform(df_2)"
   ]
  },
  {
   "cell_type": "code",
   "execution_count": 45,
   "metadata": {},
   "outputs": [
    {
     "name": "stdout",
     "output_type": "stream",
     "text": [
      "+-----+-------------+--------------------+--------------------+--------------------+--------------------+\n",
      "|Index|         name|              tokens|              ngrams|             vectors|                 lsh|\n",
      "+-----+-------------+--------------------+--------------------+--------------------+--------------------+\n",
      "|    1|   John Smyth|[j, o, h, n,  , s...|[j o h, o h n, h ...|(262144,[3028,767...|[[4.6847381E7], [...|\n",
      "|    2|   John Smith|[j, o, h, n,  , s...|[j o h, o h n, h ...|(262144,[3028,767...|[[4.6847381E7], [...|\n",
      "|    3|     Jo Smith|[j, o,  , s, m, i...|[j o  , o   s,   ...|(262144,[4272,767...|[[2.06700422E8], ...|\n",
      "|    4|    Bob Jones|[b, o, b,  , j, o...|[b o b, o b  , b ...|(262144,[4162,632...|[[6.6092098E7], [...|\n",
      "|    5|    Tim Jones|[t, i, m,  , j, o...|[t i m, i m  , m ...|(262144,[10366,77...|[[6.6092098E7], [...|\n",
      "|    6|  Laura Tully|[l, a, u, r, a,  ...|[l a u, a u r, u ...|(262144,[14214,82...|[[3.9339039E7], [...|\n",
      "|    7|Sheena Easton|[s, h, e, e, n, a...|[s h e, h e e, e ...|(262144,[2735,223...|[[1.4606927E7], [...|\n",
      "|    8| Hilary Jones|[h, i, l, a, r, y...|[h i l, i l a, l ...|(262144,[27804,77...|[[6.6092098E7], [...|\n",
      "|    9| Hannah Short|[h, a, n, n, a, h...|[h a n, a n n, n ...|(262144,[23423,48...|[[8.487655E7], [5...|\n",
      "|   10|  Greg Norman|[g, r, e, g,  , n...|[g r e, r e g, e ...|(262144,[7283,319...|[[1.55742408E8], ...|\n",
      "+-----+-------------+--------------------+--------------------+--------------------+--------------------+\n",
      "\n"
     ]
    }
   ],
   "source": [
    "df_1_hashed.show()"
   ]
  },
  {
   "cell_type": "code",
   "execution_count": 46,
   "metadata": {},
   "outputs": [
    {
     "name": "stdout",
     "output_type": "stream",
     "text": [
      "+-----+------------+--------------------+--------------------+--------------------+--------------------+\n",
      "|Index|        name|              tokens|              ngrams|             vectors|                 lsh|\n",
      "+-----+------------+--------------------+--------------------+--------------------+--------------------+\n",
      "|    1|   Bob Jones|[b, o, b,  , j, o...|[b o b, o b  , b ...|(262144,[4162,632...|[[6.6092098E7], [...|\n",
      "|    2|Ned Flanders|[n, e, d,  , f, l...|[n e d, e d  , d ...|(262144,[18620,39...|[[1.10767686E8], ...|\n",
      "|    3|  Lisa Short|[l, i, s, a,  , s...|[l i s, i s a, s ...|(262144,[23423,48...|[[5224079.0], [1....|\n",
      "|    4|     Joe Tan|[j, o, e,  , t, a...|[j o e, o e  , e ...|(262144,[58656,88...|[[1.42790588E8], ...|\n",
      "|    5|   Jim Jones|[j, i, m,  , j, o...|[j i m, i m  , m ...|(262144,[47949,77...|[[6.6092098E7], [...|\n",
      "|    6|  John Smith|[j, o, h, n,  , s...|[j o h, o h n, h ...|(262144,[3028,767...|[[4.6847381E7], [...|\n",
      "|    7|  John Smith|[j, o, h, n,  , s...|[j o h, o h n, h ...|(262144,[3028,767...|[[4.6847381E7], [...|\n",
      "|    8|Jon Smithers|[j, o, n,  , s, m...|[j o n, o n  , n ...|(262144,[7670,487...|[[2.84792211E8], ...|\n",
      "|    9| Chris Smith|[c, h, r, i, s,  ...|[c h r, h r i, r ...|(262144,[7670,297...|[[2.61503567E8], ...|\n",
      "|   10|  Norm Smith|[n, o, r, m,  , s...|[n o r, o r m, r ...|(262144,[7670,126...|[[1.55742408E8], ...|\n",
      "+-----+------------+--------------------+--------------------+--------------------+--------------------+\n",
      "\n"
     ]
    }
   ],
   "source": [
    "df_2_hashed.show()"
   ]
  },
  {
   "cell_type": "code",
   "execution_count": 37,
   "metadata": {},
   "outputs": [
    {
     "data": {
      "text/plain": [
       "[RegexTokenizer_229dc81fb0b7,\n",
       " NGram_c30577eb8a41,\n",
       " HashingTF_a5ddddc50e0b,\n",
       " MinHashLSHModel: uid=MinHashLSH_c12dbdfa26ac, numHashTables=5]"
      ]
     },
     "execution_count": 37,
     "metadata": {},
     "output_type": "execute_result"
    }
   ],
   "source": [
    "model.stages"
   ]
  },
  {
   "cell_type": "code",
   "execution_count": 49,
   "metadata": {},
   "outputs": [
    {
     "name": "stdout",
     "output_type": "stream",
     "text": [
      "+------------+------------+------------------+-----+-----+\n",
      "|name        |name        |dist_jaccard      |Index|Index|\n",
      "+------------+------------+------------------+-----+-----+\n",
      "|Hannah Short|Lisa Short  |0.7142857142857143|9    |3    |\n",
      "|Hilary Jones|Jim Jones   |0.6923076923076923|8    |5    |\n",
      "|Hilary Jones|Bob Jones   |0.6923076923076923|8    |1    |\n",
      "|John Smith  |Chris Smith |0.6923076923076923|2    |9    |\n",
      "|John Smith  |Norm Smith  |0.6666666666666667|2    |10   |\n",
      "|Jo Smith    |Jon Smithers|0.6666666666666667|3    |8    |\n",
      "|Jo Smith    |Chris Smith |0.6363636363636364|3    |9    |\n",
      "|John Smith  |Jon Smithers|0.6153846153846154|2    |8    |\n",
      "|Jo Smith    |John Smith  |0.6               |3    |6    |\n",
      "|Tim Jones   |Bob Jones   |0.6               |5    |1    |\n",
      "|Jo Smith    |John Smith  |0.6               |3    |7    |\n",
      "|Jo Smith    |Norm Smith  |0.6               |3    |10   |\n",
      "|Bob Jones   |Jim Jones   |0.6               |4    |5    |\n",
      "|John Smyth  |John Smith  |0.5454545454545454|1    |7    |\n",
      "|John Smyth  |John Smith  |0.5454545454545454|1    |6    |\n",
      "|Bob Jones   |Bob Jones   |0.0               |4    |1    |\n",
      "|John Smith  |John Smith  |0.0               |2    |6    |\n",
      "|John Smith  |John Smith  |0.0               |2    |7    |\n",
      "+------------+------------+------------------+-----+-----+\n",
      "\n"
     ]
    }
   ],
   "source": [
    "#usa el modelo minhash para encontrar similitud:\n",
    "\n",
    "threshold = .8\n",
    "results_names = model.stages[-1]\\\n",
    "                 .approxSimilarityJoin(df_1_hashed, df_2_hashed, threshold, distCol=\"dist_jaccard\")\\\n",
    "                 .select(                 #       F.col(\"datasetA.id_originally\"),\n",
    "                        F.col(\"datasetA.name\"),\n",
    "                        F.col(\"datasetB.name\"),\n",
    "                        F.col(\"dist_jaccard\"), \n",
    "                        F.col(\"datasetA.Index\"),\n",
    "                        F.col(\"datasetB.Index\"))\\\n",
    "                  .filter(F.col(\"datasetA.Index\") != F.col(\"datasetB.Index\"))\\\n",
    "                  .orderBy(F.col(\"dist_jaccard\").desc())\n",
    "                    \n",
    "results_names.show(100, truncate=False)"
   ]
  },
  {
   "cell_type": "markdown",
   "metadata": {},
   "source": [
    "---"
   ]
  },
  {
   "cell_type": "code",
   "execution_count": 28,
   "metadata": {},
   "outputs": [],
   "source": [
    "ngrams_length = 3\n",
    "df_1 = df.select('row_id', 'MAKTX').withColumnRenamed('MAKTX', 'name')\n",
    "df_1 = df_1.filter(F.length(\"MAKTX\")>=ngrams_length)\n",
    "\n",
    "###df_1 = df.select('maktx_ndf').withColumnRenamed('maktx_ndf', 'name').limit(1000)\n",
    "###df_2 = df.select('maktx_ndf').withColumnRenamed('maktx_ndf', 'name')"
   ]
  },
  {
   "cell_type": "code",
   "execution_count": 29,
   "metadata": {},
   "outputs": [
    {
     "name": "stdout",
     "output_type": "stream",
     "text": [
      "+-----------+----------------------------------------+\n",
      "|row_id     |name                                    |\n",
      "+-----------+----------------------------------------+\n",
      "|60129543143|POLEA BRIDA INOX ARMORINOX SPDIV0164511 |\n",
      "|60129543310|KIT 4 BOCAIS P/PISTOLA JATO AREIA       |\n",
      "|60129543348|RODAMIENTO (401965) LOGITRANS HL-1004-RF|\n",
      "|60129543786|PORCA CRAVAR PRETA M6 094875 60 005     |\n",
      "|60129544382|DETECTEUR SECURITE EPINUS2KNT/MKTS      |\n",
      "|60129544653|PERFIL GUIA DISCO 3 CORTE PRIM 2005X1905|\n",
      "|60129545237|RETEN 45x65x8 NBR                       |\n",
      "|60129545658|REJA HIG.PRO BLUCHER 150x500 69725015020|\n",
      "|60129545989|KIT PUNCOES ALFABET/NUMER. 5/16         |\n",
      "|60129546010|PULSADOR ABRIR PINZA GEA (4016021014)   |\n",
      "|60129546274|CILINDRO FAC (XFA28118 081B) 120*100*350|\n",
      "|60129546745|RODILLO INTERROLL RD-11DZS20D03 RL: 95;A|\n",
      "|60129546950|GALET DE CAME INOX (SSLRN25ENS)         |\n",
      "|60129547160|COURROIE PFM (8709947) 50ATN20/10800 TPU|\n",
      "|60129547364|GUIDE PFM (GT20DYH006) SC=50 NOIR       |\n",
      "|60129547419|APIA PIPE (82 FDA TEPA ATEX L 6M)       |\n",
      "|60129547631|LAMELA C/HASTE GRAO 80 30X20X6          |\n",
      "|60129547796|ECHAPPEMENT RAPIDE SMC R1/4MX8MM ASV410F|\n",
      "|60129547836|INTERRUPTOR AMIDATA (443-0708)          |\n",
      "|60129548148|MODULO SIEMENS (6ES7-132-6BH01-0BA0)    |\n",
      "+-----------+----------------------------------------+\n",
      "only showing top 20 rows\n",
      "\n"
     ]
    }
   ],
   "source": [
    "df_1.show(truncate=False) "
   ]
  },
  {
   "cell_type": "code",
   "execution_count": 30,
   "metadata": {},
   "outputs": [],
   "source": [
    "#hashing model\n",
    "model = Pipeline(stages=[\n",
    "\n",
    "    RegexTokenizer(pattern=\"\", inputCol=\"name\", outputCol=\"tokens\", minTokenLength=1),    \n",
    "    NGram(n=3, inputCol=\"tokens\", outputCol=\"ngrams\"),\n",
    "    HashingTF(inputCol=\"ngrams\", outputCol=\"vectors\",),\n",
    "    MinHashLSH(inputCol=\"vectors\", outputCol=\"lsh\", numHashTables=5)\n",
    "])"
   ]
  },
  {
   "cell_type": "code",
   "execution_count": 31,
   "metadata": {},
   "outputs": [],
   "source": [
    "model = model.fit(df_1)\n",
    "df_hashed = model.transform(df_1)"
   ]
  },
  {
   "cell_type": "code",
   "execution_count": 32,
   "metadata": {},
   "outputs": [
    {
     "name": "stdout",
     "output_type": "stream",
     "text": [
      "+-----------+--------------------+--------------------+--------------------+--------------------+--------------------+\n",
      "|     row_id|                name|              tokens|              ngrams|             vectors|                 lsh|\n",
      "+-----------+--------------------+--------------------+--------------------+--------------------+--------------------+\n",
      "|60129543143|POLEA BRIDA INOX ...|[p, o, l, e, a,  ...|[p o l, o l e, l ...|(262144,[924,2866...|[[2496939.0], [8....|\n",
      "|60129543310|KIT 4 BOCAIS P/PI...|[k, i, t,  , 4,  ...|[k i t, i t  , t ...|(262144,[2735,965...|[[4.6850384E7], [...|\n",
      "|60129543348|RODAMIENTO (40196...|[r, o, d, a, m, i...|[r o d, o d a, d ...|(262144,[4445,961...|[[6.7745083E7], [...|\n",
      "|60129543786|PORCA CRAVAR PRET...|[p, o, r, c, a,  ...|[p o r, o r c, r ...|(262144,[5926,171...|[[1.66041761E8], ...|\n",
      "|60129544382|DETECTEUR SECURIT...|[d, e, t, e, c, t...|[d e t, e t e, t ...|(262144,[15761,16...|[[1.6836316E7], [...|\n",
      "|60129544653|PERFIL GUIA DISCO...|[p, e, r, f, i, l...|[p e r, e r f, r ...|(262144,[8813,166...|[[6.8244231E7], [...|\n",
      "|60129545237|   RETEN 45x65x8 NBR|[r, e, t, e, n,  ...|[r e t, e t e, t ...|(262144,[5397,592...|[[2.0278016E7], [...|\n",
      "|60129545658|REJA HIG.PRO BLUC...|[r, e, j, a,  , h...|[r e j, e j a, j ...|(262144,[4433,875...|[[6396300.0], [1....|\n",
      "|60129545989|KIT PUNCOES ALFAB...|[k, i, t,  , p, u...|[k i t, i t  , t ...|(262144,[3810,127...|[[1.8841848E7], [...|\n",
      "|60129546010|PULSADOR ABRIR PI...|[p, u, l, s, a, d...|[p u l, u l s, l ...|(262144,[425,1570...|[[4.4021444E7], [...|\n",
      "|60129546274|CILINDRO FAC (XFA...|[c, i, l, i, n, d...|[c i l, i l i, l ...|(262144,[6673,915...|[[6.7745083E7], [...|\n",
      "|60129546745|RODILLO INTERROLL...|[r, o, d, i, l, l...|[r o d, o d i, d ...|(262144,[652,1145...|[[6.087635E7], [1...|\n",
      "|60129546950|GALET DE CAME INO...|[g, a, l, e, t,  ...|[g a l, a l e, l ...|(262144,[9923,286...|[[3.1891216E7], [...|\n",
      "|60129547160|COURROIE PFM (870...|[c, o, u, r, r, o...|[c o u, o u r, u ...|(262144,[507,2396...|[[2.5489084E7], [...|\n",
      "|60129547364|GUIDE PFM (GT20DY...|[g, u, i, d, e,  ...|[g u i, u i d, i ...|(262144,[31,3465,...|[[1.0483341E8], [...|\n",
      "|60129547419|APIA PIPE (82 FDA...|[a, p, i, a,  , p...|[a p i, p i a, i ...|(262144,[2315,113...|[[7.8390625E7], [...|\n",
      "|60129547631|LAMELA C/HASTE GR...|[l, a, m, e, l, a...|[l a m, a m e, m ...|(262144,[2949,548...|[[7.2612102E7], [...|\n",
      "|60129547796|ECHAPPEMENT RAPID...|[e, c, h, a, p, p...|[e c h, c h a, h ...|(262144,[3838,402...|[[1.25393E8], [4....|\n",
      "|60129547836|INTERRUPTOR AMIDA...|[i, n, t, e, r, r...|[i n t, n t e, t ...|(262144,[15895,22...|[[6.087635E7], [6...|\n",
      "|60129548148|MODULO SIEMENS (6...|[m, o, d, u, l, o...|[m o d, o d u, d ...|(262144,[4272,844...|[[7.3192315E7], [...|\n",
      "+-----------+--------------------+--------------------+--------------------+--------------------+--------------------+\n",
      "only showing top 20 rows\n",
      "\n"
     ]
    }
   ],
   "source": [
    "df_hashed.show()"
   ]
  },
  {
   "cell_type": "code",
   "execution_count": 26,
   "metadata": {},
   "outputs": [
    {
     "data": {
      "text/plain": [
       "[RegexTokenizer_eba7d65d9886,\n",
       " NGram_0432f1d695d1,\n",
       " HashingTF_24f535d5bd53,\n",
       " MinHashLSHModel: uid=MinHashLSH_29b2a72df97d, numHashTables=5]"
      ]
     },
     "execution_count": 26,
     "metadata": {},
     "output_type": "execute_result"
    }
   ],
   "source": [
    "model.stages"
   ]
  },
  {
   "cell_type": "code",
   "execution_count": 35,
   "metadata": {
    "scrolled": false
   },
   "outputs": [
    {
     "name": "stderr",
     "output_type": "stream",
     "text": [
      "[Stage 39:===========================================>         (164 + 12) / 200]\r"
     ]
    },
    {
     "name": "stdout",
     "output_type": "stream",
     "text": [
      "+----------------------------------------+----------------------------------------+-------------------+-----------+-----------+\n",
      "|name                                    |name                                    |dist_jaccard       |row_id     |row_id     |\n",
      "+----------------------------------------+----------------------------------------+-------------------+-----------+-----------+\n",
      "|FIRST SLICE REF. 3000008949 - CUTTER FUM|FIRST SLICE REF. 3000008967 - CUTTER FUM|0.19999999999999996|60129548888|60129548953|\n",
      "|FUNDA TERMORETRACTIL 13MM               |FUNDA TERMORETRACTIL 3MM                |0.19999999999999996|60129544666|60129544658|\n",
      "|FIRST SLICE REF. 3000008980 - CUTTER FUM|FIRST SLICE REF. 3000008967 - CUTTER FUM|0.19999999999999996|60129548958|60129548954|\n",
      "|DETECTOR SECURITE EPINUS2KNT/MKTS       |DETECTEUR SECURITE EPINUS2KNT/MKTS      |0.19999999999999996|60129544381|60129544382|\n",
      "|FUNDA TERMORETRACTIL 3MM                |FUNDA TERMORETRACTIL 13MM               |0.19999999999999996|60129544658|60129544666|\n",
      "|PORCA REDUCAO INOX 1/2\" X 3/8\"          |PORCA REDUCAO INOX 1/2\" X 1/4\"          |0.19999999999999996|60129543750|60129543748|\n",
      "|EJE EXCENTRICO TAVIL 116633LL           |EJE EXCENTRICO TAVIL 116635LL           |0.19999999999999996|60129543962|60129543963|\n",
      "|VEIO INOX AISI 304 - 30MM               |VEIO INOX AISI 304 - 40MM               |0.19999999999999996|60129546856|60129546857|\n",
      "|FILTRO INTERIOR SMC AME-EL350           |FILTRO INTERIOR SMC AMF-EL350           |0.19999999999999996|60129543634|60129543635|\n",
      "|TUYAU 35M VERT FOODCLEAN40MM 048235011  |TUYAU 35M VERT FOODCLEAN40MM 048135014  |0.19999999999999996|60129546589|60129546588|\n",
      "|VEIO INOX AISI 304 - 40MM               |VEIO INOX AISI 304 - 30MM               |0.19999999999999996|60129546857|60129546856|\n",
      "|VEIO INOX AISI 304 - 40MM               |VEIO INOX AISI 304 - 30MM               |0.19999999999999996|60129546858|60129546856|\n",
      "|FIRST SLICE REF. 3000008949 - CUTTER FUM|FIRST SLICE REF. 3000008980 - CUTTER FUM|0.19999999999999996|60129548886|60129548956|\n",
      "|FIRST SLICE REF. 3000008980 - CUTTER FUM|FIRST SLICE REF. 3000008949 - CUTTER FUM|0.19999999999999996|60129548958|60129548886|\n",
      "|FILTRO INTERIOR SMC AMF-EL350           |FILTRO INTERIOR SMC AME-EL350           |0.19999999999999996|60129543635|60129543633|\n",
      "|FIRST SLICE REF. 3000008980 - CUTTER FUM|FIRST SLICE REF. 3000008949 - CUTTER FUM|0.19999999999999996|60129548956|60129548887|\n",
      "|FIRST SLICE REF. 3000008967 - CUTTER FUM|FIRST SLICE REF. 3000008949 - CUTTER FUM|0.19999999999999996|60129548955|60129548887|\n",
      "|FILTRO INTERIOR SMC AMF-EL350           |FILTRO INTERIOR SMC AMH-EL350           |0.19999999999999996|60129543636|60129543632|\n",
      "|FILTRO INTERIOR SMC AMF-EL350           |FILTRO INTERIOR SMC AME-EL350           |0.19999999999999996|60129543636|60129543634|\n",
      "|FIRST SLICE REF. 3000008980 - CUTTER FUM|FIRST SLICE REF. 3000008967 - CUTTER FUM|0.19999999999999996|60129548957|60129548953|\n",
      "|VEIO INOX AISI 304 - 30MM               |VEIO INOX AISI 304 - 40MM               |0.19999999999999996|60129546856|60129546858|\n",
      "|FIRST SLICE REF. 3000008980 - CUTTER FUM|FIRST SLICE REF. 3000008949 - CUTTER FUM|0.19999999999999996|60129548958|60129548888|\n",
      "|FIRST SLICE REF. 3000008967 - CUTTER FUM|FIRST SLICE REF. 3000008949 - CUTTER FUM|0.19999999999999996|60129548955|60129548888|\n",
      "|FIRST SLICE REF. 3000008949 - CUTTER FUM|FIRST SLICE REF. 3000008967 - CUTTER FUM|0.19999999999999996|60129548887|60129548954|\n",
      "|FIRST SLICE REF. 3000008967 - CUTTER FUM|FIRST SLICE REF. 3000008980 - CUTTER FUM|0.19999999999999996|60129548955|60129548958|\n",
      "|FIRST SLICE REF. 3000008980 - CUTTER FUM|FIRST SLICE REF. 3000008967 - CUTTER FUM|0.19999999999999996|60129548958|60129548953|\n",
      "|FILTRO INTERIOR SMC AME-EL350           |FILTRO INTERIOR SMC AMH-EL350           |0.19999999999999996|60129543633|60129543632|\n",
      "|BICO PC55 (23015356)                    |BICO PC55 (23015357)                    |0.19999999999999996|60129543766|60129543768|\n",
      "|VEMAG SOCKET (215511021) ENTRAIN COUPE  |VEMAG SOCKET (215511032) ENTRAIN COUPE  |0.19999999999999996|60129545825|60129545827|\n",
      "|FIRST SLICE REF. 3000008949 - CUTTER FUM|FIRST SLICE REF. 3000008980 - CUTTER FUM|0.19999999999999996|60129548887|60129548957|\n",
      "|FIRST SLICE REF. 3000008949 - CUTTER FUM|FIRST SLICE REF. 3000008980 - CUTTER FUM|0.19999999999999996|60129548888|60129548958|\n",
      "|FILTRO INTERIOR SMC AMH-EL350           |FILTRO INTERIOR SMC AMF-EL350           |0.19999999999999996|60129543632|60129543636|\n",
      "|PORCA REDUCAO INOX 1/2\" X 1/4\"          |PORCA REDUCAO INOX 1/2\" X 3/8\"          |0.19999999999999996|60129543748|60129543750|\n",
      "|BICO PC55 (23015356)                    |BICO PC55 (23015357)                    |0.19999999999999996|60129543767|60129543768|\n",
      "|FILTRO INTERIOR SMC AMH-EL350           |FILTRO INTERIOR SMC AME-EL350           |0.19999999999999996|60129543632|60129543633|\n",
      "|FIRST SLICE REF. 3000008980 - CUTTER FUM|FIRST SLICE REF. 3000008949 - CUTTER FUM|0.19999999999999996|60129548957|60129548886|\n",
      "|FIRST SLICE REF. 3000008967 - CUTTER FUM|FIRST SLICE REF. 3000008980 - CUTTER FUM|0.19999999999999996|60129548953|60129548956|\n",
      "|EJE EXCENTRICO TAVIL 116635LL           |EJE EXCENTRICO TAVIL 116633LL           |0.19999999999999996|60129543964|60129543962|\n",
      "|FIRST SLICE REF. 3000008967 - CUTTER FUM|FIRST SLICE REF. 3000008980 - CUTTER FUM|0.19999999999999996|60129548955|60129548956|\n",
      "|BICO PC55 (23015357)                    |BICO PC55 (23015356)                    |0.19999999999999996|60129543769|60129543766|\n",
      "|FILTRO INTERIOR SMC AMF-EL350           |FILTRO INTERIOR SMC AME-EL350           |0.19999999999999996|60129543635|60129543634|\n",
      "|FIRST SLICE REF. 3000008980 - CUTTER FUM|FIRST SLICE REF. 3000008967 - CUTTER FUM|0.19999999999999996|60129548957|60129548954|\n",
      "|FIRST SLICE REF. 3000008949 - CUTTER FUM|FIRST SLICE REF. 3000008967 - CUTTER FUM|0.19999999999999996|60129548888|60129548954|\n",
      "|FIRST SLICE REF. 3000008967 - CUTTER FUM|FIRST SLICE REF. 3000008980 - CUTTER FUM|0.19999999999999996|60129548954|60129548957|\n",
      "|EJE EXCENTRICO TAVIL 116633LL           |EJE EXCENTRICO TAVIL 116635LL           |0.19999999999999996|60129543962|60129543964|\n",
      "|FIRST SLICE REF. 3000008949 - CUTTER FUM|FIRST SLICE REF. 3000008967 - CUTTER FUM|0.19999999999999996|60129548887|60129548953|\n",
      "|FIRST SLICE REF. 3000008949 - CUTTER FUM|FIRST SLICE REF. 3000008980 - CUTTER FUM|0.19999999999999996|60129548886|60129548958|\n",
      "|FILTRO INTERIOR SMC AMH-EL350           |FILTRO INTERIOR SMC AME-EL350           |0.19999999999999996|60129543632|60129543634|\n",
      "|TUYAU 35M VERT FOODCLEAN40MM 048135014  |TUYAU 35M VERT FOODCLEAN40MM 048235011  |0.19999999999999996|60129546588|60129546589|\n",
      "|FIRST SLICE REF. 3000008967 - CUTTER FUM|FIRST SLICE REF. 3000008980 - CUTTER FUM|0.19999999999999996|60129548953|60129548958|\n",
      "|BICO PC55 (23015357)                    |BICO PC55 (23015356)                    |0.19999999999999996|60129543768|60129543767|\n",
      "|FIRST SLICE REF. 3000008949 - CUTTER FUM|FIRST SLICE REF. 3000008967 - CUTTER FUM|0.19999999999999996|60129548887|60129548955|\n",
      "|FIRST SLICE REF. 3000008949 - CUTTER FUM|FIRST SLICE REF. 3000008980 - CUTTER FUM|0.19999999999999996|60129548888|60129548957|\n",
      "|BICO PC55 (23015356)                    |BICO PC55 (23015357)                    |0.19999999999999996|60129543767|60129543769|\n",
      "|LINK-GRIPPER FORMAX (1-013345) POS.12   |LINK-GRIPPER FORMAX (1-013345)          |0.19999999999999996|60129546441|60129546440|\n",
      "|EJE EXCENTRICO TAVIL 116635LL           |EJE EXCENTRICO TAVIL 116633LL           |0.19999999999999996|60129543963|60129543962|\n",
      "|VEMAG SOCKET (215511032) ENTRAIN COUPE  |VEMAG SOCKET (215511021) ENTRAIN COUPE  |0.19999999999999996|60129545827|60129545825|\n",
      "|PORCA REDUCAO INOX 1/2\" X 3/8\"          |PORCA REDUCAO INOX 1/2\" X 1/4\"          |0.19999999999999996|60129543751|60129543749|\n",
      "|FIRST SLICE REF. 3000008980 - CUTTER FUM|FIRST SLICE REF. 3000008967 - CUTTER FUM|0.19999999999999996|60129548958|60129548955|\n",
      "|FUNDA TERMORETRACTIL 3MM                |FUNDA TERMORETRACTIL 13MM               |0.19999999999999996|60129544658|60129544665|\n",
      "|VEIO INOX AISI 304 - 30MM               |VEIO INOX AISI 304 - 40MM               |0.19999999999999996|60129546855|60129546858|\n",
      "|FIRST SLICE REF. 3000008980 - CUTTER FUM|FIRST SLICE REF. 3000008949 - CUTTER FUM|0.19999999999999996|60129548957|60129548888|\n",
      "|FIRST SLICE REF. 3000008967 - CUTTER FUM|FIRST SLICE REF. 3000008980 - CUTTER FUM|0.19999999999999996|60129548954|60129548958|\n",
      "|BICO PC55 (23015357)                    |BICO PC55 (23015356)                    |0.19999999999999996|60129543768|60129543766|\n",
      "|FILTRO INTERIOR SMC AMF-EL350           |FILTRO INTERIOR SMC AME-EL350           |0.19999999999999996|60129543636|60129543633|\n",
      "|FIRST SLICE REF. 3000008949 - CUTTER FUM|FIRST SLICE REF. 3000008980 - CUTTER FUM|0.19999999999999996|60129548888|60129548956|\n",
      "|FUNDA TERMORETRACTIL 3MM                |FUNDA TERMORETRACTIL 13MM               |0.19999999999999996|60129544657|60129544666|\n",
      "|FIRST SLICE REF. 3000008967 - CUTTER FUM|FIRST SLICE REF. 3000008949 - CUTTER FUM|0.19999999999999996|60129548953|60129548887|\n",
      "|FUNDA TERMORETRACTIL 13MM               |FUNDA TERMORETRACTIL 3MM                |0.19999999999999996|60129544665|60129544657|\n",
      "|DETECTEUR SECURITE EPINUS2KNT/MKTS      |DETECTOR SECURITE EPINUS2KNT/MKTS       |0.19999999999999996|60129544382|60129544381|\n",
      "|FIRST SLICE REF. 3000008949 - CUTTER FUM|FIRST SLICE REF. 3000008967 - CUTTER FUM|0.19999999999999996|60129548886|60129548953|\n",
      "|FIRST SLICE REF. 3000008967 - CUTTER FUM|FIRST SLICE REF. 3000008949 - CUTTER FUM|0.19999999999999996|60129548954|60129548887|\n",
      "|FIRST SLICE REF. 3000008949 - CUTTER FUM|FIRST SLICE REF. 3000008980 - CUTTER FUM|0.19999999999999996|60129548887|60129548956|\n",
      "|FILTRO INTERIOR SMC AME-EL350           |FILTRO INTERIOR SMC AMF-EL350           |0.19999999999999996|60129543634|60129543636|\n",
      "|FIRST SLICE REF. 3000008967 - CUTTER FUM|FIRST SLICE REF. 3000008949 - CUTTER FUM|0.19999999999999996|60129548954|60129548888|\n",
      "|EJE EXCENTRICO TAVIL 116633LL           |EJE EXCENTRICO TAVIL 116635LL           |0.19999999999999996|60129543961|60129543963|\n",
      "|VEIO INOX AISI 304 - 40MM               |VEIO INOX AISI 304 - 30MM               |0.19999999999999996|60129546858|60129546855|\n",
      "|FIRST SLICE REF. 3000008980 - CUTTER FUM|FIRST SLICE REF. 3000008967 - CUTTER FUM|0.19999999999999996|60129548956|60129548954|\n",
      "|VEIO INOX AISI 304 - 30MM               |VEIO INOX AISI 304 - 40MM               |0.19999999999999996|60129546855|60129546857|\n",
      "|FIRST SLICE REF. 3000008949 - CUTTER FUM|FIRST SLICE REF. 3000008967 - CUTTER FUM|0.19999999999999996|60129548886|60129548955|\n",
      "|EJE EXCENTRICO TAVIL 116635LL           |EJE EXCENTRICO TAVIL 116633LL           |0.19999999999999996|60129543964|60129543961|\n",
      "|FUNDA TERMORETRACTIL 13MM               |FUNDA TERMORETRACTIL 3MM                |0.19999999999999996|60129544665|60129544658|\n",
      "|FIRST SLICE REF. 3000008949 - CUTTER FUM|FIRST SLICE REF. 3000008980 - CUTTER FUM|0.19999999999999996|60129548886|60129548957|\n",
      "|FIRST SLICE REF. 3000008980 - CUTTER FUM|FIRST SLICE REF. 3000008949 - CUTTER FUM|0.19999999999999996|60129548958|60129548887|\n",
      "|FIRST SLICE REF. 3000008949 - CUTTER FUM|FIRST SLICE REF. 3000008967 - CUTTER FUM|0.19999999999999996|60129548888|60129548955|\n",
      "|EJE EXCENTRICO TAVIL 116633LL           |EJE EXCENTRICO TAVIL 116635LL           |0.19999999999999996|60129543961|60129543964|\n",
      "|FIRST SLICE REF. 3000008980 - CUTTER FUM|FIRST SLICE REF. 3000008967 - CUTTER FUM|0.19999999999999996|60129548956|60129548955|\n",
      "|FILTRO INTERIOR SMC AMH-EL350           |FILTRO INTERIOR SMC AMF-EL350           |0.19999999999999996|60129543632|60129543635|\n",
      "|FIRST SLICE REF. 3000008980 - CUTTER FUM|FIRST SLICE REF. 3000008967 - CUTTER FUM|0.19999999999999996|60129548956|60129548953|\n",
      "|FIRST SLICE REF. 3000008949 - CUTTER FUM|FIRST SLICE REF. 3000008967 - CUTTER FUM|0.19999999999999996|60129548886|60129548954|\n",
      "|FIRST SLICE REF. 3000008949 - CUTTER FUM|FIRST SLICE REF. 3000008980 - CUTTER FUM|0.19999999999999996|60129548887|60129548958|\n",
      "|FIRST SLICE REF. 3000008967 - CUTTER FUM|FIRST SLICE REF. 3000008980 - CUTTER FUM|0.19999999999999996|60129548955|60129548957|\n",
      "|FIRST SLICE REF. 3000008967 - CUTTER FUM|FIRST SLICE REF. 3000008949 - CUTTER FUM|0.19999999999999996|60129548953|60129548888|\n",
      "|PORCA REDUCAO INOX 1/2\" X 1/4\"          |PORCA REDUCAO INOX 1/2\" X 3/8\"          |0.19999999999999996|60129543749|60129543751|\n",
      "|FILTRO INTERIOR SMC AME-EL350           |FILTRO INTERIOR SMC AMF-EL350           |0.19999999999999996|60129543633|60129543636|\n",
      "|FIRST SLICE REF. 3000008967 - CUTTER FUM|FIRST SLICE REF. 3000008949 - CUTTER FUM|0.19999999999999996|60129548955|60129548886|\n",
      "|FUNDA TERMORETRACTIL 3MM                |FUNDA TERMORETRACTIL 13MM               |0.19999999999999996|60129544657|60129544665|\n",
      "|FIRST SLICE REF. 3000008980 - CUTTER FUM|FIRST SLICE REF. 3000008949 - CUTTER FUM|0.19999999999999996|60129548956|60129548888|\n",
      "|FIRST SLICE REF. 3000008967 - CUTTER FUM|FIRST SLICE REF. 3000008980 - CUTTER FUM|0.19999999999999996|60129548954|60129548956|\n",
      "|BICO PC55 (23015357)                    |BICO PC55 (23015356)                    |0.19999999999999996|60129543769|60129543767|\n",
      "+----------------------------------------+----------------------------------------+-------------------+-----------+-----------+\n",
      "only showing top 100 rows\n",
      "\n"
     ]
    },
    {
     "name": "stderr",
     "output_type": "stream",
     "text": [
      "\r\n",
      "                                                                                \r"
     ]
    }
   ],
   "source": [
    "#similitud\n",
    "threshold = .2\n",
    "results_names = model.stages[-1]\\\n",
    "                 .approxSimilarityJoin(df_hashed, df_hashed, threshold, distCol=\"dist_jaccard\")\\\n",
    "                 .select(                 #       F.col(\"datasetA.id_originally\"),\n",
    "                        F.col(\"datasetA.name\"),\n",
    "                        F.col(\"datasetB.name\"),\n",
    "                        F.col(\"dist_jaccard\"), \n",
    "                        F.col(\"datasetA.row_id\"),\n",
    "                        F.col(\"datasetB.row_id\"))\\\n",
    "                  .filter(F.col(\"datasetA.row_id\") != F.col(\"datasetB.row_id\"))\\\n",
    "                  .orderBy(F.col(\"dist_jaccard\").desc())\n",
    "                    \n",
    "\n",
    "results_names.show(100, truncate=False)\n"
   ]
  }
 ],
 "metadata": {
  "kernelspec": {
   "display_name": "Python 3 (ipykernel)",
   "language": "python",
   "name": "python3"
  },
  "language_info": {
   "codemirror_mode": {
    "name": "ipython",
    "version": 3
   },
   "file_extension": ".py",
   "mimetype": "text/x-python",
   "name": "python",
   "nbconvert_exporter": "python",
   "pygments_lexer": "ipython3",
   "version": "3.8.12"
  }
 },
 "nbformat": 4,
 "nbformat_minor": 2
}
