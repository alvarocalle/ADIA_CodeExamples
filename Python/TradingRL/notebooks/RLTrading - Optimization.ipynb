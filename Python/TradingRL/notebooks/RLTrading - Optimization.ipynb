{
 "cells": [
  {
   "cell_type": "markdown",
   "metadata": {},
   "source": [
    "# RL Trading\n",
    "\n",
    "## Optimization with [Optuna](https://optuna.org/)"
   ]
  },
  {
   "cell_type": "code",
   "execution_count": 2,
   "metadata": {},
   "outputs": [],
   "source": [
    "# this allows plots to appear directly in the notebook\n",
    "%matplotlib inline"
   ]
  },
  {
   "cell_type": "code",
   "execution_count": 3,
   "metadata": {},
   "outputs": [],
   "source": [
    "import warnings\n",
    "warnings.filterwarnings('ignore')"
   ]
  },
  {
   "cell_type": "code",
   "execution_count": 4,
   "metadata": {},
   "outputs": [],
   "source": [
    "import matplotlib as mpl\n",
    "mpl.rcParams['figure.figsize'] = (7,5)"
   ]
  },
  {
   "cell_type": "code",
   "execution_count": 5,
   "metadata": {},
   "outputs": [],
   "source": [
    "import pandas as pd\n",
    "import numpy as np\n",
    "import matplotlib.pylab as plt\n",
    "import optuna"
   ]
  },
  {
   "cell_type": "markdown",
   "metadata": {},
   "source": [
    "### Optuna example"
   ]
  },
  {
   "cell_type": "code",
   "execution_count": 6,
   "metadata": {},
   "outputs": [
    {
     "name": "stderr",
     "output_type": "stream",
     "text": [
      "\u001b[32m[I 2020-04-12 17:26:57,103]\u001b[0m A new study created with name: example\u001b[0m\n",
      "\u001b[32m[I 2020-04-12 17:26:57,207]\u001b[0m Finished trial#0 resulted in value: 53.15590523533225. Current best value is 53.15590523533225 with parameters: {'x': -5.290809641962424}.\u001b[0m\n",
      "\u001b[32m[I 2020-04-12 17:26:57,286]\u001b[0m Finished trial#1 resulted in value: 19.901253320255986. Current best value is 19.901253320255986 with parameters: {'x': 6.461082079524651}.\u001b[0m\n",
      "\u001b[32m[I 2020-04-12 17:26:57,367]\u001b[0m Finished trial#2 resulted in value: 12.074469939156902. Current best value is 12.074469939156902 with parameters: {'x': -1.4748338002207966}.\u001b[0m\n",
      "\u001b[32m[I 2020-04-12 17:26:57,440]\u001b[0m Finished trial#3 resulted in value: 121.82613595440297. Current best value is 12.074469939156902 with parameters: {'x': -1.4748338002207966}.\u001b[0m\n",
      "\u001b[32m[I 2020-04-12 17:26:57,522]\u001b[0m Finished trial#4 resulted in value: 0.13305678822433098. Current best value is 0.13305678822433098 with parameters: {'x': 1.6352304998710405}.\u001b[0m\n",
      "\u001b[32m[I 2020-04-12 17:26:57,605]\u001b[0m Finished trial#5 resulted in value: 20.683410262501457. Current best value is 0.13305678822433098 with parameters: {'x': 1.6352304998710405}.\u001b[0m\n",
      "\u001b[32m[I 2020-04-12 17:26:57,684]\u001b[0m Finished trial#6 resulted in value: 47.42176137365608. Current best value is 0.13305678822433098 with parameters: {'x': 1.6352304998710405}.\u001b[0m\n",
      "\u001b[32m[I 2020-04-12 17:26:57,777]\u001b[0m Finished trial#7 resulted in value: 0.004264266173924925. Current best value is 0.004264266173924925 with parameters: {'x': 2.0653013489441445}.\u001b[0m\n",
      "\u001b[32m[I 2020-04-12 17:26:57,860]\u001b[0m Finished trial#8 resulted in value: 14.714949407256693. Current best value is 0.004264266173924925 with parameters: {'x': 2.0653013489441445}.\u001b[0m\n",
      "\u001b[32m[I 2020-04-12 17:26:57,955]\u001b[0m Finished trial#9 resulted in value: 11.242029207283599. Current best value is 0.004264266173924925 with parameters: {'x': 2.0653013489441445}.\u001b[0m\n",
      "\u001b[32m[I 2020-04-12 17:26:58,039]\u001b[0m Finished trial#10 resulted in value: 61.035143011196524. Current best value is 0.004264266173924925 with parameters: {'x': 2.0653013489441445}.\u001b[0m\n",
      "\u001b[32m[I 2020-04-12 17:26:58,121]\u001b[0m Finished trial#11 resulted in value: 0.5830267282042864. Current best value is 0.004264266173924925 with parameters: {'x': 2.0653013489441445}.\u001b[0m\n",
      "\u001b[32m[I 2020-04-12 17:26:58,200]\u001b[0m Finished trial#12 resulted in value: 0.4750307508181841. Current best value is 0.004264266173924925 with parameters: {'x': 2.0653013489441445}.\u001b[0m\n",
      "\u001b[32m[I 2020-04-12 17:26:58,278]\u001b[0m Finished trial#13 resulted in value: 12.466253680768128. Current best value is 0.004264266173924925 with parameters: {'x': 2.0653013489441445}.\u001b[0m\n",
      "\u001b[32m[I 2020-04-12 17:26:58,358]\u001b[0m Finished trial#14 resulted in value: 0.8583911692334587. Current best value is 0.004264266173924925 with parameters: {'x': 2.0653013489441445}.\u001b[0m\n",
      "\u001b[32m[I 2020-04-12 17:26:58,437]\u001b[0m Finished trial#15 resulted in value: 1.1947185742260829. Current best value is 0.004264266173924925 with parameters: {'x': 2.0653013489441445}.\u001b[0m\n",
      "\u001b[32m[I 2020-04-12 17:26:58,517]\u001b[0m Finished trial#16 resulted in value: 53.171994092404546. Current best value is 0.004264266173924925 with parameters: {'x': 2.0653013489441445}.\u001b[0m\n",
      "\u001b[32m[I 2020-04-12 17:26:58,609]\u001b[0m Finished trial#17 resulted in value: 23.508742599757063. Current best value is 0.004264266173924925 with parameters: {'x': 2.0653013489441445}.\u001b[0m\n",
      "\u001b[32m[I 2020-04-12 17:26:58,688]\u001b[0m Finished trial#18 resulted in value: 1.7649082877201634. Current best value is 0.004264266173924925 with parameters: {'x': 2.0653013489441445}.\u001b[0m\n",
      "\u001b[32m[I 2020-04-12 17:26:58,775]\u001b[0m Finished trial#19 resulted in value: 2.9333721992468096. Current best value is 0.004264266173924925 with parameters: {'x': 2.0653013489441445}.\u001b[0m\n",
      "\u001b[32m[I 2020-04-12 17:26:58,856]\u001b[0m Finished trial#20 resulted in value: 38.278614757728796. Current best value is 0.004264266173924925 with parameters: {'x': 2.0653013489441445}.\u001b[0m\n",
      "\u001b[32m[I 2020-04-12 17:26:58,935]\u001b[0m Finished trial#21 resulted in value: 0.03867902188557477. Current best value is 0.004264266173924925 with parameters: {'x': 2.0653013489441445}.\u001b[0m\n",
      "\u001b[32m[I 2020-04-12 17:26:59,013]\u001b[0m Finished trial#22 resulted in value: 4.862939386919297. Current best value is 0.004264266173924925 with parameters: {'x': 2.0653013489441445}.\u001b[0m\n",
      "\u001b[32m[I 2020-04-12 17:26:59,092]\u001b[0m Finished trial#23 resulted in value: 0.18512643063703024. Current best value is 0.004264266173924925 with parameters: {'x': 2.0653013489441445}.\u001b[0m\n",
      "\u001b[32m[I 2020-04-12 17:26:59,170]\u001b[0m Finished trial#24 resulted in value: 7.208206709057999. Current best value is 0.004264266173924925 with parameters: {'x': 2.0653013489441445}.\u001b[0m\n",
      "\u001b[32m[I 2020-04-12 17:26:59,250]\u001b[0m Finished trial#25 resulted in value: 0.036225575441074034. Current best value is 0.004264266173924925 with parameters: {'x': 2.0653013489441445}.\u001b[0m\n",
      "\u001b[32m[I 2020-04-12 17:26:59,332]\u001b[0m Finished trial#26 resulted in value: 39.14083215686325. Current best value is 0.004264266173924925 with parameters: {'x': 2.0653013489441445}.\u001b[0m\n",
      "\u001b[32m[I 2020-04-12 17:26:59,433]\u001b[0m Finished trial#27 resulted in value: 6.4015823197905855. Current best value is 0.004264266173924925 with parameters: {'x': 2.0653013489441445}.\u001b[0m\n",
      "\u001b[32m[I 2020-04-12 17:26:59,512]\u001b[0m Finished trial#28 resulted in value: 25.471397006669577. Current best value is 0.004264266173924925 with parameters: {'x': 2.0653013489441445}.\u001b[0m\n",
      "\u001b[32m[I 2020-04-12 17:26:59,594]\u001b[0m Finished trial#29 resulted in value: 102.51198435871679. Current best value is 0.004264266173924925 with parameters: {'x': 2.0653013489441445}.\u001b[0m\n",
      "\u001b[32m[I 2020-04-12 17:26:59,679]\u001b[0m Finished trial#30 resulted in value: 5.524549869236252. Current best value is 0.004264266173924925 with parameters: {'x': 2.0653013489441445}.\u001b[0m\n",
      "\u001b[32m[I 2020-04-12 17:26:59,759]\u001b[0m Finished trial#31 resulted in value: 0.02807256176573321. Current best value is 0.004264266173924925 with parameters: {'x': 2.0653013489441445}.\u001b[0m\n",
      "\u001b[32m[I 2020-04-12 17:26:59,840]\u001b[0m Finished trial#32 resulted in value: 0.37827883960896197. Current best value is 0.004264266173924925 with parameters: {'x': 2.0653013489441445}.\u001b[0m\n",
      "\u001b[32m[I 2020-04-12 17:26:59,919]\u001b[0m Finished trial#33 resulted in value: 28.952541055214457. Current best value is 0.004264266173924925 with parameters: {'x': 2.0653013489441445}.\u001b[0m\n",
      "\u001b[32m[I 2020-04-12 17:27:00,004]\u001b[0m Finished trial#34 resulted in value: 4.66747956770074. Current best value is 0.004264266173924925 with parameters: {'x': 2.0653013489441445}.\u001b[0m\n",
      "\u001b[32m[I 2020-04-12 17:27:00,095]\u001b[0m Finished trial#35 resulted in value: 2.7516027156866563. Current best value is 0.004264266173924925 with parameters: {'x': 2.0653013489441445}.\u001b[0m\n",
      "\u001b[32m[I 2020-04-12 17:27:00,182]\u001b[0m Finished trial#36 resulted in value: 13.175190158974743. Current best value is 0.004264266173924925 with parameters: {'x': 2.0653013489441445}.\u001b[0m\n",
      "\u001b[32m[I 2020-04-12 17:27:00,280]\u001b[0m Finished trial#37 resulted in value: 0.16813459550363755. Current best value is 0.004264266173924925 with parameters: {'x': 2.0653013489441445}.\u001b[0m\n",
      "\u001b[32m[I 2020-04-12 17:27:00,377]\u001b[0m Finished trial#38 resulted in value: 10.648688388007288. Current best value is 0.004264266173924925 with parameters: {'x': 2.0653013489441445}.\u001b[0m\n",
      "\u001b[32m[I 2020-04-12 17:27:00,461]\u001b[0m Finished trial#39 resulted in value: 1.6772503657803428. Current best value is 0.004264266173924925 with parameters: {'x': 2.0653013489441445}.\u001b[0m\n",
      "\u001b[32m[I 2020-04-12 17:27:00,545]\u001b[0m Finished trial#40 resulted in value: 0.0020911421030849215. Current best value is 0.0020911421030849215 with parameters: {'x': 2.045729007239223}.\u001b[0m\n",
      "\u001b[32m[I 2020-04-12 17:27:00,626]\u001b[0m Finished trial#41 resulted in value: 0.002132626182083706. Current best value is 0.0020911421030849215 with parameters: {'x': 2.045729007239223}.\u001b[0m\n",
      "\u001b[32m[I 2020-04-12 17:27:00,719]\u001b[0m Finished trial#42 resulted in value: 2.674529942291608. Current best value is 0.0020911421030849215 with parameters: {'x': 2.045729007239223}.\u001b[0m\n",
      "\u001b[32m[I 2020-04-12 17:27:00,810]\u001b[0m Finished trial#43 resulted in value: 0.01526549264455664. Current best value is 0.0020911421030849215 with parameters: {'x': 2.045729007239223}.\u001b[0m\n"
     ]
    },
    {
     "name": "stderr",
     "output_type": "stream",
     "text": [
      "\u001b[32m[I 2020-04-12 17:27:00,892]\u001b[0m Finished trial#44 resulted in value: 9.359374787336542. Current best value is 0.0020911421030849215 with parameters: {'x': 2.045729007239223}.\u001b[0m\n",
      "\u001b[32m[I 2020-04-12 17:27:00,988]\u001b[0m Finished trial#45 resulted in value: 5.546246443230613. Current best value is 0.0020911421030849215 with parameters: {'x': 2.045729007239223}.\u001b[0m\n",
      "\u001b[32m[I 2020-04-12 17:27:01,076]\u001b[0m Finished trial#46 resulted in value: 0.8932733685026557. Current best value is 0.0020911421030849215 with parameters: {'x': 2.045729007239223}.\u001b[0m\n",
      "\u001b[32m[I 2020-04-12 17:27:01,162]\u001b[0m Finished trial#47 resulted in value: 10.64088609189996. Current best value is 0.0020911421030849215 with parameters: {'x': 2.045729007239223}.\u001b[0m\n",
      "\u001b[32m[I 2020-04-12 17:27:01,256]\u001b[0m Finished trial#48 resulted in value: 2.428557619627203. Current best value is 0.0020911421030849215 with parameters: {'x': 2.045729007239223}.\u001b[0m\n",
      "\u001b[32m[I 2020-04-12 17:27:01,345]\u001b[0m Finished trial#49 resulted in value: 13.942690319392069. Current best value is 0.0020911421030849215 with parameters: {'x': 2.045729007239223}.\u001b[0m\n",
      "\u001b[32m[I 2020-04-12 17:27:01,435]\u001b[0m Finished trial#50 resulted in value: 18.899254670415875. Current best value is 0.0020911421030849215 with parameters: {'x': 2.045729007239223}.\u001b[0m\n",
      "\u001b[32m[I 2020-04-12 17:27:01,524]\u001b[0m Finished trial#51 resulted in value: 0.054340123779055456. Current best value is 0.0020911421030849215 with parameters: {'x': 2.045729007239223}.\u001b[0m\n",
      "\u001b[32m[I 2020-04-12 17:27:01,659]\u001b[0m Finished trial#52 resulted in value: 0.039824783239029354. Current best value is 0.0020911421030849215 with parameters: {'x': 2.045729007239223}.\u001b[0m\n",
      "\u001b[32m[I 2020-04-12 17:27:01,742]\u001b[0m Finished trial#53 resulted in value: 21.22157881974276. Current best value is 0.0020911421030849215 with parameters: {'x': 2.045729007239223}.\u001b[0m\n",
      "\u001b[32m[I 2020-04-12 17:27:01,835]\u001b[0m Finished trial#54 resulted in value: 1.4666184924157453. Current best value is 0.0020911421030849215 with parameters: {'x': 2.045729007239223}.\u001b[0m\n",
      "\u001b[32m[I 2020-04-12 17:27:01,917]\u001b[0m Finished trial#55 resulted in value: 0.7496307370796417. Current best value is 0.0020911421030849215 with parameters: {'x': 2.045729007239223}.\u001b[0m\n",
      "\u001b[32m[I 2020-04-12 17:27:02,023]\u001b[0m Finished trial#56 resulted in value: 0.005843587681103811. Current best value is 0.0020911421030849215 with parameters: {'x': 2.045729007239223}.\u001b[0m\n",
      "\u001b[32m[I 2020-04-12 17:27:02,111]\u001b[0m Finished trial#57 resulted in value: 3.1905682757300164. Current best value is 0.0020911421030849215 with parameters: {'x': 2.045729007239223}.\u001b[0m\n",
      "\u001b[32m[I 2020-04-12 17:27:02,204]\u001b[0m Finished trial#58 resulted in value: 0.5136375348055917. Current best value is 0.0020911421030849215 with parameters: {'x': 2.045729007239223}.\u001b[0m\n",
      "\u001b[32m[I 2020-04-12 17:27:02,287]\u001b[0m Finished trial#59 resulted in value: 3.5260239373997218. Current best value is 0.0020911421030849215 with parameters: {'x': 2.045729007239223}.\u001b[0m\n",
      "\u001b[32m[I 2020-04-12 17:27:02,375]\u001b[0m Finished trial#60 resulted in value: 1.160023640675808. Current best value is 0.0020911421030849215 with parameters: {'x': 2.045729007239223}.\u001b[0m\n",
      "\u001b[32m[I 2020-04-12 17:27:02,464]\u001b[0m Finished trial#61 resulted in value: 0.0017184003241803283. Current best value is 0.0017184003241803283 with parameters: {'x': 2.041453592415861}.\u001b[0m\n",
      "\u001b[32m[I 2020-04-12 17:27:02,548]\u001b[0m Finished trial#62 resulted in value: 0.003586752550432601. Current best value is 0.0017184003241803283 with parameters: {'x': 2.041453592415861}.\u001b[0m\n",
      "\u001b[32m[I 2020-04-12 17:27:02,635]\u001b[0m Finished trial#63 resulted in value: 0.11821125932155878. Current best value is 0.0017184003241803283 with parameters: {'x': 2.041453592415861}.\u001b[0m\n",
      "\u001b[32m[I 2020-04-12 17:27:02,719]\u001b[0m Finished trial#64 resulted in value: 7.165946924892591. Current best value is 0.0017184003241803283 with parameters: {'x': 2.041453592415861}.\u001b[0m\n",
      "\u001b[32m[I 2020-04-12 17:27:02,804]\u001b[0m Finished trial#65 resulted in value: 1.4824569610518201. Current best value is 0.0017184003241803283 with parameters: {'x': 2.041453592415861}.\u001b[0m\n",
      "\u001b[32m[I 2020-04-12 17:27:02,886]\u001b[0m Finished trial#66 resulted in value: 0.799803066859249. Current best value is 0.0017184003241803283 with parameters: {'x': 2.041453592415861}.\u001b[0m\n",
      "\u001b[32m[I 2020-04-12 17:27:02,971]\u001b[0m Finished trial#67 resulted in value: 6.765705891135327. Current best value is 0.0017184003241803283 with parameters: {'x': 2.041453592415861}.\u001b[0m\n",
      "\u001b[32m[I 2020-04-12 17:27:03,055]\u001b[0m Finished trial#68 resulted in value: 0.001695661424190317. Current best value is 0.001695661424190317 with parameters: {'x': 2.041178409685056}.\u001b[0m\n",
      "\u001b[32m[I 2020-04-12 17:27:03,140]\u001b[0m Finished trial#69 resulted in value: 3.3625992476225743. Current best value is 0.001695661424190317 with parameters: {'x': 2.041178409685056}.\u001b[0m\n",
      "\u001b[32m[I 2020-04-12 17:27:03,234]\u001b[0m Finished trial#70 resulted in value: 4.338681153651499. Current best value is 0.001695661424190317 with parameters: {'x': 2.041178409685056}.\u001b[0m\n",
      "\u001b[32m[I 2020-04-12 17:27:03,318]\u001b[0m Finished trial#71 resulted in value: 0.016711416760707278. Current best value is 0.001695661424190317 with parameters: {'x': 2.041178409685056}.\u001b[0m\n",
      "\u001b[32m[I 2020-04-12 17:27:03,406]\u001b[0m Finished trial#72 resulted in value: 0.23146227144809006. Current best value is 0.001695661424190317 with parameters: {'x': 2.041178409685056}.\u001b[0m\n",
      "\u001b[32m[I 2020-04-12 17:27:03,491]\u001b[0m Finished trial#73 resulted in value: 1.8035185020021864. Current best value is 0.001695661424190317 with parameters: {'x': 2.041178409685056}.\u001b[0m\n",
      "\u001b[32m[I 2020-04-12 17:27:03,578]\u001b[0m Finished trial#74 resulted in value: 0.4925558622404535. Current best value is 0.001695661424190317 with parameters: {'x': 2.041178409685056}.\u001b[0m\n",
      "\u001b[32m[I 2020-04-12 17:27:03,661]\u001b[0m Finished trial#75 resulted in value: 1.8387428454915664. Current best value is 0.001695661424190317 with parameters: {'x': 2.041178409685056}.\u001b[0m\n",
      "\u001b[32m[I 2020-04-12 17:27:03,767]\u001b[0m Finished trial#76 resulted in value: 0.22483715770798363. Current best value is 0.001695661424190317 with parameters: {'x': 2.041178409685056}.\u001b[0m\n",
      "\u001b[32m[I 2020-04-12 17:27:03,852]\u001b[0m Finished trial#77 resulted in value: 0.24140800936374263. Current best value is 0.001695661424190317 with parameters: {'x': 2.041178409685056}.\u001b[0m\n",
      "\u001b[32m[I 2020-04-12 17:27:03,937]\u001b[0m Finished trial#78 resulted in value: 10.43566768139065. Current best value is 0.001695661424190317 with parameters: {'x': 2.041178409685056}.\u001b[0m\n",
      "\u001b[32m[I 2020-04-12 17:27:04,021]\u001b[0m Finished trial#79 resulted in value: 6.766053504591806. Current best value is 0.001695661424190317 with parameters: {'x': 2.041178409685056}.\u001b[0m\n",
      "\u001b[32m[I 2020-04-12 17:27:04,104]\u001b[0m Finished trial#80 resulted in value: 0.0007152879213312612. Current best value is 0.0007152879213312612 with parameters: {'x': 2.0267448671959922}.\u001b[0m\n",
      "\u001b[32m[I 2020-04-12 17:27:04,181]\u001b[0m Finished trial#81 resulted in value: 0.0017944738652585022. Current best value is 0.0007152879213312612 with parameters: {'x': 2.0267448671959922}.\u001b[0m\n",
      "\u001b[32m[I 2020-04-12 17:27:04,271]\u001b[0m Finished trial#82 resulted in value: 1.6219483580226823. Current best value is 0.0007152879213312612 with parameters: {'x': 2.0267448671959922}.\u001b[0m\n",
      "\u001b[32m[I 2020-04-12 17:27:04,353]\u001b[0m Finished trial#83 resulted in value: 0.023209656906666522. Current best value is 0.0007152879213312612 with parameters: {'x': 2.0267448671959922}.\u001b[0m\n",
      "\u001b[32m[I 2020-04-12 17:27:04,444]\u001b[0m Finished trial#84 resulted in value: 0.6686703405430509. Current best value is 0.0007152879213312612 with parameters: {'x': 2.0267448671959922}.\u001b[0m\n",
      "\u001b[32m[I 2020-04-12 17:27:04,549]\u001b[0m Finished trial#85 resulted in value: 0.5298296579592152. Current best value is 0.0007152879213312612 with parameters: {'x': 2.0267448671959922}.\u001b[0m\n",
      "\u001b[32m[I 2020-04-12 17:27:04,662]\u001b[0m Finished trial#86 resulted in value: 3.470647202534767. Current best value is 0.0007152879213312612 with parameters: {'x': 2.0267448671959922}.\u001b[0m\n",
      "\u001b[32m[I 2020-04-12 17:27:04,753]\u001b[0m Finished trial#87 resulted in value: 4.796495975704166. Current best value is 0.0007152879213312612 with parameters: {'x': 2.0267448671959922}.\u001b[0m\n",
      "\u001b[32m[I 2020-04-12 17:27:04,838]\u001b[0m Finished trial#88 resulted in value: 2.415463560382544. Current best value is 0.0007152879213312612 with parameters: {'x': 2.0267448671959922}.\u001b[0m\n"
     ]
    },
    {
     "name": "stderr",
     "output_type": "stream",
     "text": [
      "\u001b[32m[I 2020-04-12 17:27:04,931]\u001b[0m Finished trial#89 resulted in value: 0.006835583400948744. Current best value is 0.0007152879213312612 with parameters: {'x': 2.0267448671959922}.\u001b[0m\n",
      "\u001b[32m[I 2020-04-12 17:27:05,018]\u001b[0m Finished trial#90 resulted in value: 0.9336590800371181. Current best value is 0.0007152879213312612 with parameters: {'x': 2.0267448671959922}.\u001b[0m\n",
      "\u001b[32m[I 2020-04-12 17:27:05,102]\u001b[0m Finished trial#91 resulted in value: 0.004705631973390708. Current best value is 0.0007152879213312612 with parameters: {'x': 2.0267448671959922}.\u001b[0m\n",
      "\u001b[32m[I 2020-04-12 17:27:05,187]\u001b[0m Finished trial#92 resulted in value: 0.5300628226772686. Current best value is 0.0007152879213312612 with parameters: {'x': 2.0267448671959922}.\u001b[0m\n",
      "\u001b[32m[I 2020-04-12 17:27:05,269]\u001b[0m Finished trial#93 resulted in value: 0.04710764603952551. Current best value is 0.0007152879213312612 with parameters: {'x': 2.0267448671959922}.\u001b[0m\n",
      "\u001b[32m[I 2020-04-12 17:27:05,361]\u001b[0m Finished trial#94 resulted in value: 1.2127035986005505. Current best value is 0.0007152879213312612 with parameters: {'x': 2.0267448671959922}.\u001b[0m\n",
      "\u001b[32m[I 2020-04-12 17:27:05,455]\u001b[0m Finished trial#95 resulted in value: 2.4100430863937485. Current best value is 0.0007152879213312612 with parameters: {'x': 2.0267448671959922}.\u001b[0m\n",
      "\u001b[32m[I 2020-04-12 17:27:05,560]\u001b[0m Finished trial#96 resulted in value: 0.4618635855992248. Current best value is 0.0007152879213312612 with parameters: {'x': 2.0267448671959922}.\u001b[0m\n",
      "\u001b[32m[I 2020-04-12 17:27:05,655]\u001b[0m Finished trial#97 resulted in value: 8.025336564946485. Current best value is 0.0007152879213312612 with parameters: {'x': 2.0267448671959922}.\u001b[0m\n",
      "\u001b[32m[I 2020-04-12 17:27:05,737]\u001b[0m Finished trial#98 resulted in value: 0.0975040845237384. Current best value is 0.0007152879213312612 with parameters: {'x': 2.0267448671959922}.\u001b[0m\n",
      "\u001b[32m[I 2020-04-12 17:27:05,818]\u001b[0m Finished trial#99 resulted in value: 5.289525497292062. Current best value is 0.0007152879213312612 with parameters: {'x': 2.0267448671959922}.\u001b[0m\n"
     ]
    }
   ],
   "source": [
    "def objective(trial):\n",
    "    x = trial.suggest_uniform('x', -10, 10)\n",
    "    return (x - 2) ** 2\n",
    "\n",
    "study = optuna.create_study(study_name='example', storage='sqlite:///params.db', load_if_exists=True)\n",
    "study.optimize(objective, n_trials=100)"
   ]
  },
  {
   "cell_type": "code",
   "execution_count": 7,
   "metadata": {},
   "outputs": [
    {
     "data": {
      "text/plain": [
       "{'x': 2.0267448671959922}"
      ]
     },
     "execution_count": 7,
     "metadata": {},
     "output_type": "execute_result"
    }
   ],
   "source": [
    "study.best_params"
   ]
  },
  {
   "cell_type": "code",
   "execution_count": 12,
   "metadata": {},
   "outputs": [],
   "source": [
    "dic= {'reward_len': 129, 'window_size': 1, 'confidence_interval': 0.8758170281880668}"
   ]
  },
  {
   "cell_type": "code",
   "execution_count": 13,
   "metadata": {},
   "outputs": [
    {
     "data": {
      "text/plain": [
       "129"
      ]
     },
     "execution_count": 13,
     "metadata": {},
     "output_type": "execute_result"
    }
   ],
   "source": [
    "dic['reward_len']"
   ]
  },
  {
   "cell_type": "code",
   "execution_count": 27,
   "metadata": {},
   "outputs": [],
   "source": [
    "b = np.array([])\n",
    "a = np.array([-2.1022723])"
   ]
  },
  {
   "cell_type": "code",
   "execution_count": 29,
   "metadata": {},
   "outputs": [
    {
     "data": {
      "text/plain": [
       "array([], dtype=float64)"
      ]
     },
     "execution_count": 29,
     "metadata": {},
     "output_type": "execute_result"
    }
   ],
   "source": [
    "b += a\n",
    "b"
   ]
  },
  {
   "cell_type": "code",
   "execution_count": 16,
   "metadata": {},
   "outputs": [
    {
     "data": {
      "text/plain": [
       "[-2.1022723]"
      ]
     },
     "execution_count": 16,
     "metadata": {},
     "output_type": "execute_result"
    }
   ],
   "source": [
    "b"
   ]
  },
  {
   "cell_type": "code",
   "execution_count": 25,
   "metadata": {},
   "outputs": [
    {
     "data": {
      "text/plain": [
       "array([0.75306498])"
      ]
     },
     "execution_count": 25,
     "metadata": {},
     "output_type": "execute_result"
    }
   ],
   "source": [
    "np.random.rand(1)"
   ]
  },
  {
   "cell_type": "code",
   "execution_count": 35,
   "metadata": {},
   "outputs": [
    {
     "name": "stdout",
     "output_type": "stream",
     "text": [
      "[0.47880613] [0.47880613]\n",
      "[0.47880613 0.83680286] [0.83680286]\n",
      "[0.47880613 0.83680286 0.50888572] [0.50888572]\n",
      "[0.47880613 0.83680286 0.50888572 0.59333242] [0.59333242]\n",
      "[0.47880613 0.83680286 0.50888572 0.59333242 0.67389404] [0.67389404]\n",
      "[0.47880613 0.83680286 0.50888572 0.59333242 0.67389404 0.21647247] [0.21647247]\n",
      "[0.47880613 0.83680286 0.50888572 0.59333242 0.67389404 0.21647247\n",
      " 0.75305039] [0.75305039]\n",
      "[0.47880613 0.83680286 0.50888572 0.59333242 0.67389404 0.21647247\n",
      " 0.75305039 0.19509586] [0.19509586]\n",
      "[0.47880613 0.83680286 0.50888572 0.59333242 0.67389404 0.21647247\n",
      " 0.75305039 0.19509586 0.65524513] [0.65524513]\n",
      "[0.47880613 0.83680286 0.50888572 0.59333242 0.67389404 0.21647247\n",
      " 0.75305039 0.19509586 0.65524513 0.57170308] [0.57170308]\n"
     ]
    }
   ],
   "source": [
    "rewards, done = [], False\n",
    "for i in range(10):\n",
    "    \n",
    "    reward = np.random.rand(1)\n",
    "    rewards = np.append(rewards, reward)\n",
    "    print(rewards, reward)\n"
   ]
  },
  {
   "cell_type": "code",
   "execution_count": 33,
   "metadata": {},
   "outputs": [
    {
     "name": "stdout",
     "output_type": "stream",
     "text": [
      "6.5\n"
     ]
    }
   ],
   "source": [
    "a = np.array([1, 2, 3])\n",
    "\n",
    "newArray = np.append (a, [10, 11, 12])\n",
    "\n",
    "print(np.mean(newArray))"
   ]
  },
  {
   "cell_type": "markdown",
   "metadata": {},
   "source": [
    "### Optuna reward optimization"
   ]
  },
  {
   "cell_type": "code",
   "execution_count": 5,
   "metadata": {},
   "outputs": [],
   "source": [
    "def optimize(n_trials = 5000, n_jobs = 4):\n",
    "    study = optuna.create_study(study_name='optimize_profit', storage='sqlite:///params.db', load_if_exists=True)\n",
    "    study.optimize(objective_fn, n_trials=n_trials, n_jobs=n_jobs)"
   ]
  },
  {
   "cell_type": "code",
   "execution_count": null,
   "metadata": {},
   "outputs": [],
   "source": [
    "def objective_fn(trial):\n",
    "    env_params = optimize_envs(trial)\n",
    "    agent_params = optimize_ppo2(trial)\n",
    "    \n",
    "    train_env, validation_env = initialize_envs(**env_params)\n",
    "    model = PPO2(MlpLstmPolicy, train_env, **agent_params)\n",
    "    \n",
    "    model.learn(len(train_env.df))\n",
    "    \n",
    "    rewards, done = [], False\n",
    "\n",
    "    obs = validation_env.reset()\n",
    "    for i in range(len(validation_env.df)):\n",
    "        action, _ = model.predict(obs)\n",
    "        obs, reward, done, _ = validation_env.step(action)\n",
    "        rewards += reward\n",
    "    \n",
    "    return -np.mean(rewards)"
   ]
  },
  {
   "cell_type": "code",
   "execution_count": null,
   "metadata": {},
   "outputs": [],
   "source": [
    "def optimize_ppo2(trial):\n",
    "    return {\n",
    "        'n_steps': int(trial.suggest_loguniform('n_steps', 16, 2048)),\n",
    "        'gamma': trial.suggest_loguniform('gamma', 0.9, 0.9999),\n",
    "        'learning_rate': trial.suggest_loguniform('learning_rate', 1e-5, 1.),\n",
    "        'ent_coef': trial.suggest_loguniform('ent_coef', 1e-8, 1e-1),\n",
    "        'cliprange': trial.suggest_uniform('cliprange', 0.1, 0.4),\n",
    "        'noptepochs': int(trial.suggest_loguniform('noptepochs', 1, 48)),\n",
    "        'lam': trial.suggest_uniform('lam', 0.8, 1.)\n",
    "    }"
   ]
  },
  {
   "cell_type": "code",
   "execution_count": null,
   "metadata": {},
   "outputs": [],
   "source": [
    "def optimize_envs(trial):\n",
    "    return {\n",
    "        'reward_len': int(trial.suggest_loguniform('reward_len', 1, 200)),\n",
    "        'forecast_len': int(trial.suggest_loguniform('forecast_len', 1, 200)),\n",
    "        'confidence_interval': trial.suggest_uniform('confidence_interval', 0.7, 0.99),\n",
    "    }"
   ]
  },
  {
   "cell_type": "code",
   "execution_count": 6,
   "metadata": {
    "scrolled": true
   },
   "outputs": [
    {
     "name": "stdout",
     "output_type": "stream",
     "text": [
      "bitstampUSD_1-min_data_2012-01-01_to_2019-08-12.csv\r\n",
      "coinbaseUSD_1-min_data_2014-12-01_to_2019-01-09.csv\r\n"
     ]
    }
   ],
   "source": [
    "ls ../data/kaggle/"
   ]
  },
  {
   "cell_type": "code",
   "execution_count": 7,
   "metadata": {},
   "outputs": [],
   "source": [
    "df = pd.read_csv('../data/kaggle/bitstampUSD_1-min_data_2012-01-01_to_2019-08-12.csv', sep=',', header=0,\n",
    "                 names=['Timestamp', 'Open', 'High', 'Low', 'Close', 'Volume', 'Volume_Currency', 'Weighted_Price'])\n",
    "df = df.fillna(method='bfill').reset_index(drop=True)"
   ]
  },
  {
   "cell_type": "code",
   "execution_count": 8,
   "metadata": {
    "scrolled": true
   },
   "outputs": [
    {
     "data": {
      "text/html": [
       "<div>\n",
       "<style scoped>\n",
       "    .dataframe tbody tr th:only-of-type {\n",
       "        vertical-align: middle;\n",
       "    }\n",
       "\n",
       "    .dataframe tbody tr th {\n",
       "        vertical-align: top;\n",
       "    }\n",
       "\n",
       "    .dataframe thead th {\n",
       "        text-align: right;\n",
       "    }\n",
       "</style>\n",
       "<table border=\"1\" class=\"dataframe\">\n",
       "  <thead>\n",
       "    <tr style=\"text-align: right;\">\n",
       "      <th></th>\n",
       "      <th>Timestamp</th>\n",
       "      <th>Open</th>\n",
       "      <th>High</th>\n",
       "      <th>Low</th>\n",
       "      <th>Close</th>\n",
       "      <th>Volume</th>\n",
       "      <th>Volume_Currency</th>\n",
       "      <th>Weighted_Price</th>\n",
       "    </tr>\n",
       "  </thead>\n",
       "  <tbody>\n",
       "    <tr>\n",
       "      <th>0</th>\n",
       "      <td>1325317920</td>\n",
       "      <td>4.39</td>\n",
       "      <td>4.39</td>\n",
       "      <td>4.39</td>\n",
       "      <td>4.39</td>\n",
       "      <td>0.455581</td>\n",
       "      <td>2.00</td>\n",
       "      <td>4.39</td>\n",
       "    </tr>\n",
       "    <tr>\n",
       "      <th>1</th>\n",
       "      <td>1325317980</td>\n",
       "      <td>4.39</td>\n",
       "      <td>4.39</td>\n",
       "      <td>4.39</td>\n",
       "      <td>4.39</td>\n",
       "      <td>48.000000</td>\n",
       "      <td>210.72</td>\n",
       "      <td>4.39</td>\n",
       "    </tr>\n",
       "    <tr>\n",
       "      <th>2</th>\n",
       "      <td>1325318040</td>\n",
       "      <td>4.39</td>\n",
       "      <td>4.39</td>\n",
       "      <td>4.39</td>\n",
       "      <td>4.39</td>\n",
       "      <td>48.000000</td>\n",
       "      <td>210.72</td>\n",
       "      <td>4.39</td>\n",
       "    </tr>\n",
       "    <tr>\n",
       "      <th>3</th>\n",
       "      <td>1325318100</td>\n",
       "      <td>4.39</td>\n",
       "      <td>4.39</td>\n",
       "      <td>4.39</td>\n",
       "      <td>4.39</td>\n",
       "      <td>48.000000</td>\n",
       "      <td>210.72</td>\n",
       "      <td>4.39</td>\n",
       "    </tr>\n",
       "    <tr>\n",
       "      <th>4</th>\n",
       "      <td>1325318160</td>\n",
       "      <td>4.39</td>\n",
       "      <td>4.39</td>\n",
       "      <td>4.39</td>\n",
       "      <td>4.39</td>\n",
       "      <td>48.000000</td>\n",
       "      <td>210.72</td>\n",
       "      <td>4.39</td>\n",
       "    </tr>\n",
       "  </tbody>\n",
       "</table>\n",
       "</div>"
      ],
      "text/plain": [
       "    Timestamp  Open  High   Low  Close     Volume  Volume_Currency  \\\n",
       "0  1325317920  4.39  4.39  4.39   4.39   0.455581             2.00   \n",
       "1  1325317980  4.39  4.39  4.39   4.39  48.000000           210.72   \n",
       "2  1325318040  4.39  4.39  4.39   4.39  48.000000           210.72   \n",
       "3  1325318100  4.39  4.39  4.39   4.39  48.000000           210.72   \n",
       "4  1325318160  4.39  4.39  4.39   4.39  48.000000           210.72   \n",
       "\n",
       "   Weighted_Price  \n",
       "0            4.39  \n",
       "1            4.39  \n",
       "2            4.39  \n",
       "3            4.39  \n",
       "4            4.39  "
      ]
     },
     "execution_count": 8,
     "metadata": {},
     "output_type": "execute_result"
    }
   ],
   "source": [
    "df.head()"
   ]
  },
  {
   "cell_type": "code",
   "execution_count": 9,
   "metadata": {},
   "outputs": [
    {
     "data": {
      "text/html": [
       "<div>\n",
       "<style scoped>\n",
       "    .dataframe tbody tr th:only-of-type {\n",
       "        vertical-align: middle;\n",
       "    }\n",
       "\n",
       "    .dataframe tbody tr th {\n",
       "        vertical-align: top;\n",
       "    }\n",
       "\n",
       "    .dataframe thead th {\n",
       "        text-align: right;\n",
       "    }\n",
       "</style>\n",
       "<table border=\"1\" class=\"dataframe\">\n",
       "  <thead>\n",
       "    <tr style=\"text-align: right;\">\n",
       "      <th></th>\n",
       "      <th>Timestamp</th>\n",
       "      <th>Open</th>\n",
       "      <th>High</th>\n",
       "      <th>Low</th>\n",
       "      <th>Close</th>\n",
       "      <th>Volume</th>\n",
       "      <th>Volume_Currency</th>\n",
       "      <th>Weighted_Price</th>\n",
       "      <th>Date</th>\n",
       "    </tr>\n",
       "  </thead>\n",
       "  <tbody>\n",
       "    <tr>\n",
       "      <th>0</th>\n",
       "      <td>1325317920</td>\n",
       "      <td>4.39</td>\n",
       "      <td>4.39</td>\n",
       "      <td>4.39</td>\n",
       "      <td>4.39</td>\n",
       "      <td>0.455581</td>\n",
       "      <td>2.00</td>\n",
       "      <td>4.39</td>\n",
       "      <td>2011-12-31 07:52:00</td>\n",
       "    </tr>\n",
       "    <tr>\n",
       "      <th>1</th>\n",
       "      <td>1325317980</td>\n",
       "      <td>4.39</td>\n",
       "      <td>4.39</td>\n",
       "      <td>4.39</td>\n",
       "      <td>4.39</td>\n",
       "      <td>48.000000</td>\n",
       "      <td>210.72</td>\n",
       "      <td>4.39</td>\n",
       "      <td>2011-12-31 07:53:00</td>\n",
       "    </tr>\n",
       "    <tr>\n",
       "      <th>2</th>\n",
       "      <td>1325318040</td>\n",
       "      <td>4.39</td>\n",
       "      <td>4.39</td>\n",
       "      <td>4.39</td>\n",
       "      <td>4.39</td>\n",
       "      <td>48.000000</td>\n",
       "      <td>210.72</td>\n",
       "      <td>4.39</td>\n",
       "      <td>2011-12-31 07:54:00</td>\n",
       "    </tr>\n",
       "    <tr>\n",
       "      <th>3</th>\n",
       "      <td>1325318100</td>\n",
       "      <td>4.39</td>\n",
       "      <td>4.39</td>\n",
       "      <td>4.39</td>\n",
       "      <td>4.39</td>\n",
       "      <td>48.000000</td>\n",
       "      <td>210.72</td>\n",
       "      <td>4.39</td>\n",
       "      <td>2011-12-31 07:55:00</td>\n",
       "    </tr>\n",
       "    <tr>\n",
       "      <th>4</th>\n",
       "      <td>1325318160</td>\n",
       "      <td>4.39</td>\n",
       "      <td>4.39</td>\n",
       "      <td>4.39</td>\n",
       "      <td>4.39</td>\n",
       "      <td>48.000000</td>\n",
       "      <td>210.72</td>\n",
       "      <td>4.39</td>\n",
       "      <td>2011-12-31 07:56:00</td>\n",
       "    </tr>\n",
       "  </tbody>\n",
       "</table>\n",
       "</div>"
      ],
      "text/plain": [
       "    Timestamp  Open  High   Low  Close     Volume  Volume_Currency  \\\n",
       "0  1325317920  4.39  4.39  4.39   4.39   0.455581             2.00   \n",
       "1  1325317980  4.39  4.39  4.39   4.39  48.000000           210.72   \n",
       "2  1325318040  4.39  4.39  4.39   4.39  48.000000           210.72   \n",
       "3  1325318100  4.39  4.39  4.39   4.39  48.000000           210.72   \n",
       "4  1325318160  4.39  4.39  4.39   4.39  48.000000           210.72   \n",
       "\n",
       "   Weighted_Price                Date  \n",
       "0            4.39 2011-12-31 07:52:00  \n",
       "1            4.39 2011-12-31 07:53:00  \n",
       "2            4.39 2011-12-31 07:54:00  \n",
       "3            4.39 2011-12-31 07:55:00  \n",
       "4            4.39 2011-12-31 07:56:00  "
      ]
     },
     "execution_count": 9,
     "metadata": {},
     "output_type": "execute_result"
    }
   ],
   "source": [
    "# create Date column\n",
    "df['Date'] = pd.to_datetime(df['Timestamp'], unit='s')\n",
    "df.index = pd.DatetimeIndex(df['Date'])\n",
    "df = df.sort_index()"
   ]
  }
 ],
 "metadata": {
  "kernelspec": {
   "display_name": "Python 3",
   "language": "python",
   "name": "python3"
  },
  "language_info": {
   "codemirror_mode": {
    "name": "ipython",
    "version": 3
   },
   "file_extension": ".py",
   "mimetype": "text/x-python",
   "name": "python",
   "nbconvert_exporter": "python",
   "pygments_lexer": "ipython3",
   "version": "3.6.10"
  }
 },
 "nbformat": 4,
 "nbformat_minor": 2
}
