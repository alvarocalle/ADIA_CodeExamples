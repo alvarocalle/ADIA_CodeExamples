{
 "cells": [
  {
   "cell_type": "markdown",
   "metadata": {},
   "source": [
    "# RL Trading\n",
    "\n",
    "## Data preprocessing: time series stationarity"
   ]
  },
  {
   "cell_type": "code",
   "execution_count": 1,
   "metadata": {},
   "outputs": [],
   "source": [
    "# this allows plots to appear directly in the notebook\n",
    "%matplotlib inline"
   ]
  },
  {
   "cell_type": "code",
   "execution_count": 2,
   "metadata": {},
   "outputs": [],
   "source": [
    "import warnings\n",
    "warnings.filterwarnings('ignore')"
   ]
  },
  {
   "cell_type": "code",
   "execution_count": 3,
   "metadata": {},
   "outputs": [],
   "source": [
    "import matplotlib as mpl\n",
    "mpl.rcParams['figure.figsize'] = (7,5)"
   ]
  },
  {
   "cell_type": "code",
   "execution_count": 4,
   "metadata": {},
   "outputs": [],
   "source": [
    "import pandas as pd\n",
    "import numpy as np\n",
    "import matplotlib.pylab as plt\n",
    "from matplotlib.dates import DateFormatter\n",
    "from datetime import datetime"
   ]
  },
  {
   "cell_type": "code",
   "execution_count": 5,
   "metadata": {},
   "outputs": [],
   "source": [
    "import statsmodels.tsa.stattools as stattools\n",
    "import statsmodels.graphics.tsaplots as tsaplots\n",
    "import statsmodels.tsa.arima_model as arima_model\n",
    "from statsmodels.graphics.gofplots import qqplot"
   ]
  },
  {
   "cell_type": "code",
   "execution_count": 6,
   "metadata": {
    "scrolled": true
   },
   "outputs": [
    {
     "name": "stdout",
     "output_type": "stream",
     "text": [
      "bitstampUSD_1-min_data_2012-01-01_to_2019-08-12.csv\r\n",
      "coinbaseUSD_1-min_data_2014-12-01_to_2019-01-09.csv\r\n"
     ]
    }
   ],
   "source": [
    "ls ../data/kaggle/"
   ]
  },
  {
   "cell_type": "code",
   "execution_count": 7,
   "metadata": {},
   "outputs": [],
   "source": [
    "df = pd.read_csv('../data/kaggle/bitstampUSD_1-min_data_2012-01-01_to_2019-08-12.csv', sep=',', header=0,\n",
    "                 names=['Timestamp', 'Open', 'High', 'Low', 'Close', 'Volume', 'Volume_Currency', 'Weighted_Price'])\n",
    "df = df.fillna(method='bfill').reset_index(drop=True)"
   ]
  },
  {
   "cell_type": "code",
   "execution_count": 8,
   "metadata": {
    "scrolled": true
   },
   "outputs": [
    {
     "data": {
      "text/html": [
       "<div>\n",
       "<style scoped>\n",
       "    .dataframe tbody tr th:only-of-type {\n",
       "        vertical-align: middle;\n",
       "    }\n",
       "\n",
       "    .dataframe tbody tr th {\n",
       "        vertical-align: top;\n",
       "    }\n",
       "\n",
       "    .dataframe thead th {\n",
       "        text-align: right;\n",
       "    }\n",
       "</style>\n",
       "<table border=\"1\" class=\"dataframe\">\n",
       "  <thead>\n",
       "    <tr style=\"text-align: right;\">\n",
       "      <th></th>\n",
       "      <th>Timestamp</th>\n",
       "      <th>Open</th>\n",
       "      <th>High</th>\n",
       "      <th>Low</th>\n",
       "      <th>Close</th>\n",
       "      <th>Volume</th>\n",
       "      <th>Volume_Currency</th>\n",
       "      <th>Weighted_Price</th>\n",
       "    </tr>\n",
       "  </thead>\n",
       "  <tbody>\n",
       "    <tr>\n",
       "      <th>0</th>\n",
       "      <td>1325317920</td>\n",
       "      <td>4.39</td>\n",
       "      <td>4.39</td>\n",
       "      <td>4.39</td>\n",
       "      <td>4.39</td>\n",
       "      <td>0.455581</td>\n",
       "      <td>2.00</td>\n",
       "      <td>4.39</td>\n",
       "    </tr>\n",
       "    <tr>\n",
       "      <th>1</th>\n",
       "      <td>1325317980</td>\n",
       "      <td>4.39</td>\n",
       "      <td>4.39</td>\n",
       "      <td>4.39</td>\n",
       "      <td>4.39</td>\n",
       "      <td>48.000000</td>\n",
       "      <td>210.72</td>\n",
       "      <td>4.39</td>\n",
       "    </tr>\n",
       "    <tr>\n",
       "      <th>2</th>\n",
       "      <td>1325318040</td>\n",
       "      <td>4.39</td>\n",
       "      <td>4.39</td>\n",
       "      <td>4.39</td>\n",
       "      <td>4.39</td>\n",
       "      <td>48.000000</td>\n",
       "      <td>210.72</td>\n",
       "      <td>4.39</td>\n",
       "    </tr>\n",
       "    <tr>\n",
       "      <th>3</th>\n",
       "      <td>1325318100</td>\n",
       "      <td>4.39</td>\n",
       "      <td>4.39</td>\n",
       "      <td>4.39</td>\n",
       "      <td>4.39</td>\n",
       "      <td>48.000000</td>\n",
       "      <td>210.72</td>\n",
       "      <td>4.39</td>\n",
       "    </tr>\n",
       "    <tr>\n",
       "      <th>4</th>\n",
       "      <td>1325318160</td>\n",
       "      <td>4.39</td>\n",
       "      <td>4.39</td>\n",
       "      <td>4.39</td>\n",
       "      <td>4.39</td>\n",
       "      <td>48.000000</td>\n",
       "      <td>210.72</td>\n",
       "      <td>4.39</td>\n",
       "    </tr>\n",
       "  </tbody>\n",
       "</table>\n",
       "</div>"
      ],
      "text/plain": [
       "    Timestamp  Open  High   Low  Close     Volume  Volume_Currency  \\\n",
       "0  1325317920  4.39  4.39  4.39   4.39   0.455581             2.00   \n",
       "1  1325317980  4.39  4.39  4.39   4.39  48.000000           210.72   \n",
       "2  1325318040  4.39  4.39  4.39   4.39  48.000000           210.72   \n",
       "3  1325318100  4.39  4.39  4.39   4.39  48.000000           210.72   \n",
       "4  1325318160  4.39  4.39  4.39   4.39  48.000000           210.72   \n",
       "\n",
       "   Weighted_Price  \n",
       "0            4.39  \n",
       "1            4.39  \n",
       "2            4.39  \n",
       "3            4.39  \n",
       "4            4.39  "
      ]
     },
     "execution_count": 8,
     "metadata": {},
     "output_type": "execute_result"
    }
   ],
   "source": [
    "df.head()"
   ]
  },
  {
   "cell_type": "code",
   "execution_count": 9,
   "metadata": {},
   "outputs": [
    {
     "data": {
      "text/html": [
       "<div>\n",
       "<style scoped>\n",
       "    .dataframe tbody tr th:only-of-type {\n",
       "        vertical-align: middle;\n",
       "    }\n",
       "\n",
       "    .dataframe tbody tr th {\n",
       "        vertical-align: top;\n",
       "    }\n",
       "\n",
       "    .dataframe thead th {\n",
       "        text-align: right;\n",
       "    }\n",
       "</style>\n",
       "<table border=\"1\" class=\"dataframe\">\n",
       "  <thead>\n",
       "    <tr style=\"text-align: right;\">\n",
       "      <th></th>\n",
       "      <th>Timestamp</th>\n",
       "      <th>Open</th>\n",
       "      <th>High</th>\n",
       "      <th>Low</th>\n",
       "      <th>Close</th>\n",
       "      <th>Volume</th>\n",
       "      <th>Volume_Currency</th>\n",
       "      <th>Weighted_Price</th>\n",
       "      <th>Date</th>\n",
       "    </tr>\n",
       "  </thead>\n",
       "  <tbody>\n",
       "    <tr>\n",
       "      <th>0</th>\n",
       "      <td>1325317920</td>\n",
       "      <td>4.39</td>\n",
       "      <td>4.39</td>\n",
       "      <td>4.39</td>\n",
       "      <td>4.39</td>\n",
       "      <td>0.455581</td>\n",
       "      <td>2.00</td>\n",
       "      <td>4.39</td>\n",
       "      <td>2011-12-31 07:52:00</td>\n",
       "    </tr>\n",
       "    <tr>\n",
       "      <th>1</th>\n",
       "      <td>1325317980</td>\n",
       "      <td>4.39</td>\n",
       "      <td>4.39</td>\n",
       "      <td>4.39</td>\n",
       "      <td>4.39</td>\n",
       "      <td>48.000000</td>\n",
       "      <td>210.72</td>\n",
       "      <td>4.39</td>\n",
       "      <td>2011-12-31 07:53:00</td>\n",
       "    </tr>\n",
       "    <tr>\n",
       "      <th>2</th>\n",
       "      <td>1325318040</td>\n",
       "      <td>4.39</td>\n",
       "      <td>4.39</td>\n",
       "      <td>4.39</td>\n",
       "      <td>4.39</td>\n",
       "      <td>48.000000</td>\n",
       "      <td>210.72</td>\n",
       "      <td>4.39</td>\n",
       "      <td>2011-12-31 07:54:00</td>\n",
       "    </tr>\n",
       "    <tr>\n",
       "      <th>3</th>\n",
       "      <td>1325318100</td>\n",
       "      <td>4.39</td>\n",
       "      <td>4.39</td>\n",
       "      <td>4.39</td>\n",
       "      <td>4.39</td>\n",
       "      <td>48.000000</td>\n",
       "      <td>210.72</td>\n",
       "      <td>4.39</td>\n",
       "      <td>2011-12-31 07:55:00</td>\n",
       "    </tr>\n",
       "    <tr>\n",
       "      <th>4</th>\n",
       "      <td>1325318160</td>\n",
       "      <td>4.39</td>\n",
       "      <td>4.39</td>\n",
       "      <td>4.39</td>\n",
       "      <td>4.39</td>\n",
       "      <td>48.000000</td>\n",
       "      <td>210.72</td>\n",
       "      <td>4.39</td>\n",
       "      <td>2011-12-31 07:56:00</td>\n",
       "    </tr>\n",
       "  </tbody>\n",
       "</table>\n",
       "</div>"
      ],
      "text/plain": [
       "    Timestamp  Open  High   Low  Close     Volume  Volume_Currency  \\\n",
       "0  1325317920  4.39  4.39  4.39   4.39   0.455581             2.00   \n",
       "1  1325317980  4.39  4.39  4.39   4.39  48.000000           210.72   \n",
       "2  1325318040  4.39  4.39  4.39   4.39  48.000000           210.72   \n",
       "3  1325318100  4.39  4.39  4.39   4.39  48.000000           210.72   \n",
       "4  1325318160  4.39  4.39  4.39   4.39  48.000000           210.72   \n",
       "\n",
       "   Weighted_Price                Date  \n",
       "0            4.39 2011-12-31 07:52:00  \n",
       "1            4.39 2011-12-31 07:53:00  \n",
       "2            4.39 2011-12-31 07:54:00  \n",
       "3            4.39 2011-12-31 07:55:00  \n",
       "4            4.39 2011-12-31 07:56:00  "
      ]
     },
     "execution_count": 9,
     "metadata": {},
     "output_type": "execute_result"
    }
   ],
   "source": [
    "# create Date column\n",
    "df['Date'] = pd.to_datetime(df['Timestamp'], unit='s')\n",
    "df.index = pd.DatetimeIndex(df['Date'])\n",
    "df = df.sort_index()"
   ]
  },
  {
   "cell_type": "code",
   "execution_count": 10,
   "metadata": {},
   "outputs": [
    {
     "data": {
      "image/png": "[encoded data removed]",
      "text/plain": [
       "<Figure size 504x360 with 1 Axes>"
      ]
     },
     "metadata": {
      "needs_background": "light"
     },
     "output_type": "display_data"
    }
   ],
   "source": [
    "# font used in plots:\n",
    "font = {'family': 'serif',\n",
    "        'color': 'black',\n",
    "        'weight': 'normal',\n",
    "        'size': 12}\n",
    "\n",
    "# calculate moving average\n",
    "ts_1D_MA = df.drop(columns='Date').rolling(window='D', on=df.index).mean().dropna()\n",
    "\n",
    "# calculate moving average\n",
    "ts_120D_MA = df.drop(columns='Date').rolling(window='120D', on=df.index).mean().dropna()\n",
    "\n",
    "# plot the series:\n",
    "plt.figure()\n",
    "plt.plot(df['Date'], df['Close'], '-')\n",
    "\n",
    "ts_1D_MA['Close'].plot(c='r', ls='--', label='1D MA')\n",
    "ts_120D_MA['Close'].plot(c='g', ls='--', label='120D MA')\n",
    "\n",
    "plt.title('BTCs', fontdict=font)\n",
    "plt.ylabel('Close (USD)', fontdict=font)\n",
    "plt.xticks(rotation=45)\n",
    "plt.tight_layout()\n",
    "plt.legend()\n",
    "plt.grid(False)\n",
    "plt.show()"
   ]
  },
  {
   "cell_type": "markdown",
   "metadata": {},
   "source": [
    "From the figure above we see that there is an obvious upward linear trend up to beginning 2017 which suggests that **first order** differencing might be needed for that period, but we have a very different behaviour from 2017 onward. The data has a curved upward trend accompanied by increasing variance, which calls for transforming the series into a logarithm series."
   ]
  },
  {
   "cell_type": "markdown",
   "metadata": {},
   "source": [
    "For computational reasons, for the study that follows we use the 120D MA time series "
   ]
  },
  {
   "cell_type": "markdown",
   "metadata": {},
   "source": [
    "## Augmented Dickey-Fuller (ADF) Test\n",
    "\n",
    "Let us apply the Augmented Dickey-Fuller (ADF) Test to see if data presents a unit root. We use adfuller function from [statsmodels](https://www.statsmodels.org/) module in Python:\n",
    "\n",
    "- Null hypothesis: There is a unit root (gamma = 0)\n",
    "- Alternative hypothesis: There is no unit root\n",
    "\n",
    "Let us first apply the test to the price series"
   ]
  },
  {
   "cell_type": "code",
   "execution_count": 12,
   "metadata": {},
   "outputs": [
    {
     "name": "stdout",
     "output_type": "stream",
     "text": [
      "Price p-value:  1.0\n",
      "We cannot reject the null hypothesis: there is a unit-root\n"
     ]
    }
   ],
   "source": [
    "ts = ts_120D_MA.Close\n",
    "\n",
    "# ADF Test of the prices:\n",
    "adf_res = stattools.adfuller(ts, maxlag=2, regression='c', autolag='AIC', store=False, regresults=False)\n",
    "p_value = adf_res[1]\n",
    "print (\"Price p-value: \", p_value)\n",
    "\n",
    "if p_value > 0.05:\n",
    "    print (\"We cannot reject the null hypothesis: there is a unit-root\")\n",
    "else:\n",
    "    print (\"We reject the null hypothesis: the process is stationary\")"
   ]
  },
  {
   "cell_type": "code",
   "execution_count": 13,
   "metadata": {},
   "outputs": [
    {
     "data": {
      "text/plain": [
       "<matplotlib.axes._subplots.AxesSubplot at 0x7fdaa102c828>"
      ]
     },
     "execution_count": 13,
     "metadata": {},
     "output_type": "execute_result"
    },
    {
     "data": {
      "image/png": "[encoded data removed]",
      "text/plain": [
       "<Figure size 504x360 with 1 Axes>"
      ]
     },
     "metadata": {
      "needs_background": "light"
     },
     "output_type": "display_data"
    }
   ],
   "source": [
    "# logs\n",
    "logts = np.log(ts)\n",
    "logts.plot()"
   ]
  },
  {
   "cell_type": "code",
   "execution_count": 14,
   "metadata": {},
   "outputs": [
    {
     "name": "stdout",
     "output_type": "stream",
     "text": [
      "We reject the null hypothesis: the process is stationary\n"
     ]
    }
   ],
   "source": [
    "# ADF Test of the logarithms:\n",
    "adf_res = stattools.adfuller(logts, maxlag=2, regression='c', autolag='AIC', store=False, regresults=False)\n",
    "p_value = adf_res[1]\n",
    "\n",
    "if p_value > 0.05:\n",
    "    print (\"We cannot reject the null hypothesis: there is a unit-root\")\n",
    "else:\n",
    "    print (\"We reject the null hypothesis: the process is stationary\")"
   ]
  },
  {
   "cell_type": "markdown",
   "metadata": {},
   "source": [
    "Taking logarithms of prices makes the series stationary"
   ]
  },
  {
   "cell_type": "markdown",
   "metadata": {},
   "source": [
    "## Implementation of the ARIMA(p,d,q) model\n",
    "\n",
    "We now determine the (p, d, q) ARIMA orders using the Box-Jenkins methodology. Some rules-of-thumb are the following:\n",
    "\n",
    "- AR models have theoretical PACFs with non-zero values at the AR terms in the model and zero values elsewhere. The ACF will taper to zero in some fashion.\n",
    "- An AR(2) has a sinusoidal ACF that converges to 0.\n",
    "- MA models have theoretical ACFs with non-zero values at the MA terms in the model and zero values elsewhere.\n",
    "- ARMA models (including both AR and MA terms) have ACFs and PACFs that both tail off to 0.  These are the trickiest because the order will not be particularly obvious. \n",
    "- If the ACF and PACF do not tail off, but instead have values that stay close to 1 over many lags, the series is non-stationary and differencing will be needed.  Try a first difference and then look at the ACF and PACF of the differenced data.\n",
    "- If all autocorrelations are non-significant, then the series is random (white noise). We are done at that point.\n",
    "- If after having taken first differences, all autocorrelations are non-significant, then the series is called a random walk and we are done."
   ]
  },
  {
   "cell_type": "code",
   "execution_count": 16,
   "metadata": {
    "scrolled": false
   },
   "outputs": [
    {
     "data": {
      "image/png": "[encoded data removed]",
      "text/plain": [
       "<Figure size 504x360 with 1 Axes>"
      ]
     },
     "metadata": {
      "needs_background": "light"
     },
     "output_type": "display_data"
    },
    {
     "data": {
      "image/png": "[encoded data removed]",
      "text/plain": [
       "<Figure size 504x360 with 1 Axes>"
      ]
     },
     "metadata": {
      "needs_background": "light"
     },
     "output_type": "display_data"
    }
   ],
   "source": [
    "# We first plot the acf() and the pacf() of the logarithmic series\n",
    "tsaplots.plot_acf(logts, lags=5);\n",
    "tsaplots.plot_pacf(logts, lags=5);"
   ]
  },
  {
   "cell_type": "markdown",
   "metadata": {},
   "source": [
    "Observations:\n",
    "\n",
    "1. As we can see the ACF does not go down to zero in any reasonable amount of time and we confirm the non-stationarity of the series.\n",
    "2. However, the PACF falls to zero after one lag which suggests that some AR(1) process is going on, at the very least.\n",
    "\n",
    "Lets remove the trend by differencing, and replot the ACF and PACF."
   ]
  },
  {
   "cell_type": "code",
   "execution_count": 15,
   "metadata": {},
   "outputs": [],
   "source": [
    "from numpy.linalg import LinAlgError\n",
    "\n",
    "def safe_arima_fit(y, order, trend, method, start_params=None):\n",
    "    \n",
    "    \"\"\"\n",
    "    Performs ARIMA fit\n",
    "\n",
    "    Parameters\n",
    "    ----------\n",
    "    y : array-like\n",
    "        Time-series data\n",
    "    order : iterable\n",
    "        The (p,d,q) order of the model for the number of AR parameters,\n",
    "        differences, and MA parameters to use.\n",
    "    trend : str\n",
    "        The trend to use when fitting the ARIMA models.\n",
    "        'c': constant trend; 'nc': no trend\n",
    "    model_kw : dict\n",
    "        Keyword arguments to be passed to the ``ARIMA`` model\n",
    "    fit_kw : dict\n",
    "        Keyword arguments to be passed to ``ARIMA.fit``.\n",
    "\n",
    "    Returns\n",
    "    -------\n",
    "    obj : Results object\n",
    "    \"\"\"\n",
    "    \n",
    "    try:\n",
    "        \n",
    "        model = arima_model.ARIMA(y, order=order)\n",
    "        return model.fit(disp=0, trend=trend,\n",
    "                         start_params=start_params, method=method)\n",
    "\n",
    "    except LinAlgError:\n",
    "        # SVD convergence failure on badly misspecified models\n",
    "        return\n",
    "\n",
    "    except ValueError as error:\n",
    "        if start_params is not None:  # don't recurse again\n",
    "            # user supplied start_params only get one chance\n",
    "            return\n",
    "        # try a little harder, should be handled in fit really\n",
    "        elif ('initial' not in error.args[0] or 'initial' in str(error)):\n",
    "            start_params = [.1] * sum(order)\n",
    "            if trend == 'c':\n",
    "                start_params = [.1] + start_params\n",
    "            return safe_arma_fit(y, order, trend, method, start_params)\n",
    "        else:\n",
    "            return\n",
    "    except:  # no idea what happened\n",
    "        return"
   ]
  },
  {
   "cell_type": "markdown",
   "metadata": {},
   "source": [
    "Now we fit different models:"
   ]
  },
  {
   "cell_type": "code",
   "execution_count": 16,
   "metadata": {},
   "outputs": [
    {
     "name": "stderr",
     "output_type": "stream",
     "text": [
      "/home/acalle/PycharmProjects/TradingRL/venv/lib/python3.6/site-packages/statsmodels/tsa/base/tsa_model.py:218: ValueWarning: A date index has been provided, but it has no associated frequency information and so will be ignored when e.g. forecasting.\n",
      "  ' ignored when e.g. forecasting.', ValueWarning)\n",
      "/home/acalle/PycharmProjects/TradingRL/venv/lib/python3.6/site-packages/statsmodels/tsa/base/tsa_model.py:218: ValueWarning: A date index has been provided, but it has no associated frequency information and so will be ignored when e.g. forecasting.\n",
      "  ' ignored when e.g. forecasting.', ValueWarning)\n",
      "/home/acalle/PycharmProjects/TradingRL/venv/lib/python3.6/site-packages/statsmodels/tsa/base/tsa_model.py:218: ValueWarning: A date index has been provided, but it has no associated frequency information and so will be ignored when e.g. forecasting.\n",
      "  ' ignored when e.g. forecasting.', ValueWarning)\n",
      "/home/acalle/PycharmProjects/TradingRL/venv/lib/python3.6/site-packages/statsmodels/tsa/base/tsa_model.py:218: ValueWarning: A date index has been provided, but it has no associated frequency information and so will be ignored when e.g. forecasting.\n",
      "  ' ignored when e.g. forecasting.', ValueWarning)\n",
      "/home/acalle/PycharmProjects/TradingRL/venv/lib/python3.6/site-packages/statsmodels/tsa/base/tsa_model.py:218: ValueWarning: A date index has been provided, but it has no associated frequency information and so will be ignored when e.g. forecasting.\n",
      "  ' ignored when e.g. forecasting.', ValueWarning)\n",
      "/home/acalle/PycharmProjects/TradingRL/venv/lib/python3.6/site-packages/statsmodels/tsa/base/tsa_model.py:218: ValueWarning: A date index has been provided, but it has no associated frequency information and so will be ignored when e.g. forecasting.\n",
      "  ' ignored when e.g. forecasting.', ValueWarning)\n",
      "/home/acalle/PycharmProjects/TradingRL/venv/lib/python3.6/site-packages/statsmodels/tsa/base/tsa_model.py:218: ValueWarning: A date index has been provided, but it has no associated frequency information and so will be ignored when e.g. forecasting.\n",
      "  ' ignored when e.g. forecasting.', ValueWarning)\n",
      "/home/acalle/PycharmProjects/TradingRL/venv/lib/python3.6/site-packages/statsmodels/tsa/base/tsa_model.py:218: ValueWarning: A date index has been provided, but it has no associated frequency information and so will be ignored when e.g. forecasting.\n",
      "  ' ignored when e.g. forecasting.', ValueWarning)\n",
      "/home/acalle/PycharmProjects/TradingRL/venv/lib/python3.6/site-packages/statsmodels/tsa/base/tsa_model.py:218: ValueWarning: A date index has been provided, but it has no associated frequency information and so will be ignored when e.g. forecasting.\n",
      "  ' ignored when e.g. forecasting.', ValueWarning)\n",
      "/home/acalle/PycharmProjects/TradingRL/venv/lib/python3.6/site-packages/statsmodels/tsa/base/tsa_model.py:218: ValueWarning: A date index has been provided, but it has no associated frequency information and so will be ignored when e.g. forecasting.\n",
      "  ' ignored when e.g. forecasting.', ValueWarning)\n",
      "/home/acalle/PycharmProjects/TradingRL/venv/lib/python3.6/site-packages/statsmodels/tsa/base/tsa_model.py:218: ValueWarning: A date index has been provided, but it has no associated frequency information and so will be ignored when e.g. forecasting.\n",
      "  ' ignored when e.g. forecasting.', ValueWarning)\n",
      "/home/acalle/PycharmProjects/TradingRL/venv/lib/python3.6/site-packages/statsmodels/tsa/base/tsa_model.py:218: ValueWarning: A date index has been provided, but it has no associated frequency information and so will be ignored when e.g. forecasting.\n",
      "  ' ignored when e.g. forecasting.', ValueWarning)\n"
     ]
    }
   ],
   "source": [
    "# ARIMA model selection:\n",
    "aic_df = pd.DataFrame(np.nan, index=range(18), columns = ['aic', 'i', 'j', 'k'])\n",
    "\n",
    "order_list = [(1,0,0), (2,0,0), # AR\n",
    "              (1,1,0), (2,1,0), (3,1,0), (4,1,0), (5,1,0), # AR + differencing\n",
    "              #(1,1,1), (2,1,1), # ARIMA(p,1,1)\n",
    "              #(1,1,2), # ARIMA(p,1,2)\n",
    "              #(1,1,3), (2,1,3), (4,1,3), (5,1,3)\n",
    "             ] # ARIMA(p,1,3)\n",
    "\n",
    "for i, order in zip(range(18), order_list):\n",
    "    \n",
    "    fit = safe_arima_fit(logts, order, trend='nc', method='css-mle')\n",
    "    \n",
    "    aic_df.loc[i, 'aic'] = fit.aic\n",
    "    aic_df.loc[i, 'i'] = order[0]   \n",
    "    aic_df.loc[i, 'j'] = order[1]    \n",
    "    aic_df.loc[i, 'k'] = order[2]\n",
    "    \n",
    "# drop unused rows\n",
    "aic_df=aic_df.dropna()"
   ]
  },
  {
   "cell_type": "code",
   "execution_count": 20,
   "metadata": {},
   "outputs": [
    {
     "data": {
      "text/html": [
       "<div>\n",
       "<style scoped>\n",
       "    .dataframe tbody tr th:only-of-type {\n",
       "        vertical-align: middle;\n",
       "    }\n",
       "\n",
       "    .dataframe tbody tr th {\n",
       "        vertical-align: top;\n",
       "    }\n",
       "\n",
       "    .dataframe thead th {\n",
       "        text-align: right;\n",
       "    }\n",
       "</style>\n",
       "<table border=\"1\" class=\"dataframe\">\n",
       "  <thead>\n",
       "    <tr style=\"text-align: right;\">\n",
       "      <th></th>\n",
       "      <th>aic</th>\n",
       "      <th>i</th>\n",
       "      <th>j</th>\n",
       "      <th>k</th>\n",
       "    </tr>\n",
       "  </thead>\n",
       "  <tbody>\n",
       "    <tr>\n",
       "      <th>0</th>\n",
       "      <td>-4.963338e+07</td>\n",
       "      <td>1.0</td>\n",
       "      <td>0.0</td>\n",
       "      <td>0.0</td>\n",
       "    </tr>\n",
       "    <tr>\n",
       "      <th>1</th>\n",
       "      <td>-5.281927e+07</td>\n",
       "      <td>2.0</td>\n",
       "      <td>0.0</td>\n",
       "      <td>0.0</td>\n",
       "    </tr>\n",
       "    <tr>\n",
       "      <th>2</th>\n",
       "      <td>-5.281974e+07</td>\n",
       "      <td>1.0</td>\n",
       "      <td>1.0</td>\n",
       "      <td>0.0</td>\n",
       "    </tr>\n",
       "    <tr>\n",
       "      <th>3</th>\n",
       "      <td>-5.326923e+07</td>\n",
       "      <td>2.0</td>\n",
       "      <td>1.0</td>\n",
       "      <td>0.0</td>\n",
       "    </tr>\n",
       "    <tr>\n",
       "      <th>4</th>\n",
       "      <td>-5.363034e+07</td>\n",
       "      <td>3.0</td>\n",
       "      <td>1.0</td>\n",
       "      <td>0.0</td>\n",
       "    </tr>\n",
       "    <tr>\n",
       "      <th>5</th>\n",
       "      <td>-5.363036e+07</td>\n",
       "      <td>4.0</td>\n",
       "      <td>1.0</td>\n",
       "      <td>0.0</td>\n",
       "    </tr>\n",
       "    <tr>\n",
       "      <th>6</th>\n",
       "      <td>-5.364012e+07</td>\n",
       "      <td>5.0</td>\n",
       "      <td>1.0</td>\n",
       "      <td>0.0</td>\n",
       "    </tr>\n",
       "  </tbody>\n",
       "</table>\n",
       "</div>"
      ],
      "text/plain": [
       "            aic    i    j    k\n",
       "0 -4.963338e+07  1.0  0.0  0.0\n",
       "1 -5.281927e+07  2.0  0.0  0.0\n",
       "2 -5.281974e+07  1.0  1.0  0.0\n",
       "3 -5.326923e+07  2.0  1.0  0.0\n",
       "4 -5.363034e+07  3.0  1.0  0.0\n",
       "5 -5.363036e+07  4.0  1.0  0.0\n",
       "6 -5.364012e+07  5.0  1.0  0.0"
      ]
     },
     "execution_count": 20,
     "metadata": {},
     "output_type": "execute_result"
    }
   ],
   "source": [
    "aic_df"
   ]
  },
  {
   "cell_type": "code",
   "execution_count": 31,
   "metadata": {},
   "outputs": [
    {
     "data": {
      "image/png": "[encoded data removed]",
      "text/plain": [
       "<Figure size 504x360 with 1 Axes>"
      ]
     },
     "metadata": {
      "needs_background": "light"
     },
     "output_type": "display_data"
    }
   ],
   "source": [
    "xoffset = 0.1\n",
    "yoffset = 0.01*10**7\n",
    "\n",
    "plt.figure()\n",
    "plt.scatter(aic_df.index, aic_df.aic)\n",
    "plt.plot(aic_df.aic, '-')\n",
    "plt.title('ARIMA(p,d,q) AIC evolution', fontdict=font)\n",
    "plt.ylabel('AIC', fontdict=font)\n",
    "plt.xlabel('Model number', fontdict=font)\n",
    "plt.xlim(0,aic_df.shape[0])\n",
    "plt.ylim(aic_df.aic.min()-yoffset, aic_df.aic.max()+(3*yoffset))\n",
    "plt.tight_layout()\n",
    "plt.grid(False)\n",
    "\n",
    "for i in range(aic_df.shape[0]):\n",
    "    \n",
    "    order = [int(l) for l in aic_df.iloc[i, 1:4].tolist()]\n",
    "    plt.text(aic_df.index[i]+xoffset, aic_df.iloc[i, 0]+yoffset, str(order),\n",
    "             color='red', fontsize = 8)\n",
    "\n",
    "    #plt.annotate(\n",
    "    #    aic_df.iloc[i, 1:4].tolist(),        \n",
    "    #    xy=(aic_df.index[i], aic_df.iloc[i, 0]), xytext=(0, 0),\n",
    "    #    textcoords='offset points', ha='right', va='bottom', fontdict = font)\n",
    "\n",
    "plt.show()"
   ]
  },
  {
   "cell_type": "code",
   "execution_count": 32,
   "metadata": {},
   "outputs": [
    {
     "name": "stderr",
     "output_type": "stream",
     "text": [
      "/home/acalle/PycharmProjects/TradingRL/venv/lib/python3.6/site-packages/statsmodels/tsa/base/tsa_model.py:218: ValueWarning: A date index has been provided, but it has no associated frequency information and so will be ignored when e.g. forecasting.\n",
      "  ' ignored when e.g. forecasting.', ValueWarning)\n",
      "/home/acalle/PycharmProjects/TradingRL/venv/lib/python3.6/site-packages/statsmodels/tsa/base/tsa_model.py:218: ValueWarning: A date index has been provided, but it has no associated frequency information and so will be ignored when e.g. forecasting.\n",
      "  ' ignored when e.g. forecasting.', ValueWarning)\n"
     ]
    },
    {
     "data": {
      "text/html": [
       "<table class=\"simpletable\">\n",
       "<tr>\n",
       "        <td>Model:</td>              <td>ARIMA</td>              <td>BIC:</td>         <td>-53630291.4640</td>\n",
       "</tr>\n",
       "<tr>\n",
       "  <td>Dependent Variable:</td>      <td>D.Close</td>        <td>Log-Likelihood:</td>     <td>2.6815e+07</td>  \n",
       "</tr>\n",
       "<tr>\n",
       "         <td>Date:</td>        <td>2020-03-08 18:56</td>        <td>Scale:</td>            <td>1.0000</td>    \n",
       "</tr>\n",
       "<tr>\n",
       "   <td>No. Observations:</td>       <td>2765818</td>            <td>Method:</td>           <td>css-mle</td>   \n",
       "</tr>\n",
       "<tr>\n",
       "       <td>Df Model:</td>              <td>3</td>               <td>Sample:</td>              <td>1</td>      \n",
       "</tr>\n",
       "<tr>\n",
       "     <td>Df Residuals:</td>         <td>2765815</td>               <td></td>                  <td>9</td>      \n",
       "</tr>\n",
       "<tr>\n",
       "      <td>Converged:</td>           <td>1.0000</td>      <td>S.D. of innovations:</td>      <td>0.000</td>    \n",
       "</tr>\n",
       "<tr>\n",
       "    <td>No. Iterations:</td>        <td>12.0000</td>             <td>HQIC:</td>         <td>-53630329.221</td>\n",
       "</tr>\n",
       "<tr>\n",
       "         <td>AIC:</td>          <td>-53630342.7954</td>            <td></td>                  <td></td>       \n",
       "</tr>\n",
       "</table>\n",
       "<table class=\"simpletable\">\n",
       "<tr>\n",
       "        <td></td>         <th>Coef.</th> <th>Std.Err.</th>     <th>t</th>     <th>P>|t|</th> <th>[0.025</th> <th>0.975]</th>\n",
       "</tr>\n",
       "<tr>\n",
       "  <th>ar.L1.D.Close</th> <td>0.3288</td>  <td>0.0006</td>  <td>540.5867</td> <td>0.0000</td> <td>0.3276</td> <td>0.3300</td>\n",
       "</tr>\n",
       "<tr>\n",
       "  <th>ar.L2.D.Close</th> <td>0.2222</td>  <td>0.0007</td>  <td>324.1620</td> <td>0.0000</td> <td>0.2209</td> <td>0.2236</td>\n",
       "</tr>\n",
       "<tr>\n",
       "  <th>ar.L3.D.Close</th> <td>0.3971</td>  <td>0.0006</td>  <td>621.0833</td> <td>0.0000</td> <td>0.3959</td> <td>0.3984</td>\n",
       "</tr>\n",
       "</table>\n",
       "<table class=\"simpletable\">\n",
       "<tr>\n",
       "    <td></td>    <th>Real</th>   <th>Imaginary</th> <th>Modulus</th> <th>Frequency</th>\n",
       "</tr>\n",
       "<tr>\n",
       "  <th>AR.1</th> <td>1.0259</td>   <td>-0.0000</td>  <td>1.0259</td>   <td>-0.0000</td> \n",
       "</tr>\n",
       "<tr>\n",
       "  <th>AR.2</th> <td>-0.7928</td>  <td>-1.3513</td>  <td>1.5667</td>   <td>-0.3344</td> \n",
       "</tr>\n",
       "<tr>\n",
       "  <th>AR.3</th> <td>-0.7928</td>  <td>1.3513</td>   <td>1.5667</td>   <td>0.3344</td>  \n",
       "</tr>\n",
       "</table>"
      ],
      "text/plain": [
       "<class 'statsmodels.iolib.summary2.Summary'>\n",
       "\"\"\"\n",
       "                             Results: ARIMA\n",
       "========================================================================\n",
       "Model:              ARIMA            BIC:                 -53630291.4640\n",
       "Dependent Variable: D.Close          Log-Likelihood:      2.6815e+07    \n",
       "Date:               2020-03-08 18:56 Scale:               1.0000        \n",
       "No. Observations:   2765818          Method:              css-mle       \n",
       "Df Model:           3                Sample:              1             \n",
       "Df Residuals:       2765815                               9             \n",
       "Converged:          1.0000           S.D. of innovations: 0.000         \n",
       "No. Iterations:     12.0000          HQIC:                -53630329.221 \n",
       "AIC:                -53630342.7954                                      \n",
       "--------------------------------------------------------------------------\n",
       "                   Coef.    Std.Err.      t       P>|t|    [0.025   0.975]\n",
       "--------------------------------------------------------------------------\n",
       "ar.L1.D.Close      0.3288     0.0006   540.5867   0.0000   0.3276   0.3300\n",
       "ar.L2.D.Close      0.2222     0.0007   324.1620   0.0000   0.2209   0.2236\n",
       "ar.L3.D.Close      0.3971     0.0006   621.0833   0.0000   0.3959   0.3984\n",
       "----------------------------------------------------------------------------------\n",
       "                   Real            Imaginary           Modulus           Frequency\n",
       "----------------------------------------------------------------------------------\n",
       "AR.1              1.0259             -0.0000            1.0259             -0.0000\n",
       "AR.2             -0.7928             -1.3513            1.5667             -0.3344\n",
       "AR.3             -0.7928              1.3513            1.5667              0.3344\n",
       "========================================================================\n",
       "\n",
       "\"\"\""
      ]
     },
     "execution_count": 32,
     "metadata": {},
     "output_type": "execute_result"
    }
   ],
   "source": [
    "order = (3,1,0)\n",
    "fit = safe_arima_fit(logts, order, trend='nc', method='css-mle')\n",
    "fit.summary2()"
   ]
  },
  {
   "cell_type": "markdown",
   "metadata": {},
   "source": [
    "Now we look for the gaussianity and autocorrelation of the residuals."
   ]
  },
  {
   "cell_type": "code",
   "execution_count": 33,
   "metadata": {},
   "outputs": [
    {
     "data": {
      "image/png": "[encoded data removed]",
      "text/plain": [
       "<Figure size 504x360 with 1 Axes>"
      ]
     },
     "metadata": {
      "needs_background": "light"
     },
     "output_type": "display_data"
    }
   ],
   "source": [
    "qqplot(fit.resid, line='q');"
   ]
  },
  {
   "cell_type": "code",
   "execution_count": null,
   "metadata": {},
   "outputs": [],
   "source": [
    "#####tsaplots.plot_acf(fit.resid);"
   ]
  },
  {
   "cell_type": "markdown",
   "metadata": {},
   "source": [
    "## Logarithmic differences: make the time series stationary"
   ]
  },
  {
   "cell_type": "code",
   "execution_count": 16,
   "metadata": {},
   "outputs": [],
   "source": [
    "df['diffed'] = df['Close'] - df['Close'].shift(1)\n",
    "df['logged_and_diffed'] = np.log(df['Close']) - np.log(df['Close'].shift(1))"
   ]
  },
  {
   "cell_type": "code",
   "execution_count": 24,
   "metadata": {},
   "outputs": [
    {
     "data": {
      "image/png": "[encoded data removed]",
      "text/plain": [
       "<Figure size 1296x360 with 3 Axes>"
      ]
     },
     "metadata": {
      "needs_background": "light"
     },
     "output_type": "display_data"
    }
   ],
   "source": [
    "# font used in plots:\n",
    "font = {'family': 'serif',\n",
    "        'color': 'black',\n",
    "        'weight': 'normal',\n",
    "        'size': 12}\n",
    "\n",
    "fig, axs = plt.subplots(nrows=1, ncols=3, figsize=(18, 5))\n",
    "\n",
    "axs[0].plot(df['Date'], df['Close'], '-')\n",
    "axs[0].set_title('BTCs Close Price', fontdict=font)\n",
    "axs[0].set_ylabel('USD', fontdict=font)\n",
    "axs[0].tick_params('x',labelrotation=45)\n",
    "\n",
    "axs[1].plot(df['Date'], df['diffed'], '-')\n",
    "axs[1].set_title('BTCs Differenced', fontdict=font)\n",
    "axs[1].set_ylabel('USD', fontdict=font)\n",
    "axs[1].tick_params('x',labelrotation=45)\n",
    "\n",
    "axs[2].plot(df['Date'], df['logged_and_diffed'], '-')\n",
    "axs[2].set_title('BTCs Logarithmic Difference', fontdict=font)\n",
    "axs[2].set_ylabel('USD', fontdict=font)\n",
    "axs[2].tick_params('x',labelrotation=45)\n",
    "axs[2].set_ylim(-1,1)\n",
    "\n",
    "plt.show()"
   ]
  },
  {
   "cell_type": "code",
   "execution_count": null,
   "metadata": {},
   "outputs": [],
   "source": [
    "result = stattools.adfuller(df['logged_and_diffed'].values[1:], autolag=\"AIC\")\n",
    "print('p-value: %f' % logged_and_diffed_result[1])"
   ]
  },
  {
   "cell_type": "markdown",
   "metadata": {},
   "source": [
    "## SARIMA\n",
    "\n",
    "https://www.digitalocean.com/community/tutorials/a-guide-to-time-series-forecasting-with-arima-in-python-3#step-7-%E2%80%94-producing-and-visualizing-forecasts"
   ]
  },
  {
   "cell_type": "code",
   "execution_count": 11,
   "metadata": {},
   "outputs": [],
   "source": [
    "from statsmodels.tsa.statespace.sarimax import SARIMAX"
   ]
  },
  {
   "cell_type": "code",
   "execution_count": 12,
   "metadata": {},
   "outputs": [],
   "source": [
    "stationary_df = np.log(df[['Open', 'High', 'Low', 'Close']]) - np.log(df[['Open', 'High', 'Low', 'Close']].shift(1))"
   ]
  },
  {
   "cell_type": "code",
   "execution_count": 13,
   "metadata": {},
   "outputs": [
    {
     "data": {
      "text/html": [
       "<div>\n",
       "<style scoped>\n",
       "    .dataframe tbody tr th:only-of-type {\n",
       "        vertical-align: middle;\n",
       "    }\n",
       "\n",
       "    .dataframe tbody tr th {\n",
       "        vertical-align: top;\n",
       "    }\n",
       "\n",
       "    .dataframe thead th {\n",
       "        text-align: right;\n",
       "    }\n",
       "</style>\n",
       "<table border=\"1\" class=\"dataframe\">\n",
       "  <thead>\n",
       "    <tr style=\"text-align: right;\">\n",
       "      <th></th>\n",
       "      <th>Open</th>\n",
       "      <th>High</th>\n",
       "      <th>Low</th>\n",
       "      <th>Close</th>\n",
       "    </tr>\n",
       "    <tr>\n",
       "      <th>Date</th>\n",
       "      <th></th>\n",
       "      <th></th>\n",
       "      <th></th>\n",
       "      <th></th>\n",
       "    </tr>\n",
       "  </thead>\n",
       "  <tbody>\n",
       "    <tr>\n",
       "      <th>2011-12-31 07:52:00</th>\n",
       "      <td>NaN</td>\n",
       "      <td>NaN</td>\n",
       "      <td>NaN</td>\n",
       "      <td>NaN</td>\n",
       "    </tr>\n",
       "    <tr>\n",
       "      <th>2011-12-31 07:53:00</th>\n",
       "      <td>0.0</td>\n",
       "      <td>0.0</td>\n",
       "      <td>0.0</td>\n",
       "      <td>0.0</td>\n",
       "    </tr>\n",
       "    <tr>\n",
       "      <th>2011-12-31 07:54:00</th>\n",
       "      <td>0.0</td>\n",
       "      <td>0.0</td>\n",
       "      <td>0.0</td>\n",
       "      <td>0.0</td>\n",
       "    </tr>\n",
       "    <tr>\n",
       "      <th>2011-12-31 07:55:00</th>\n",
       "      <td>0.0</td>\n",
       "      <td>0.0</td>\n",
       "      <td>0.0</td>\n",
       "      <td>0.0</td>\n",
       "    </tr>\n",
       "    <tr>\n",
       "      <th>2011-12-31 07:56:00</th>\n",
       "      <td>0.0</td>\n",
       "      <td>0.0</td>\n",
       "      <td>0.0</td>\n",
       "      <td>0.0</td>\n",
       "    </tr>\n",
       "  </tbody>\n",
       "</table>\n",
       "</div>"
      ],
      "text/plain": [
       "                     Open  High  Low  Close\n",
       "Date                                       \n",
       "2011-12-31 07:52:00   NaN   NaN  NaN    NaN\n",
       "2011-12-31 07:53:00   0.0   0.0  0.0    0.0\n",
       "2011-12-31 07:54:00   0.0   0.0  0.0    0.0\n",
       "2011-12-31 07:55:00   0.0   0.0  0.0    0.0\n",
       "2011-12-31 07:56:00   0.0   0.0  0.0    0.0"
      ]
     },
     "execution_count": 13,
     "metadata": {},
     "output_type": "execute_result"
    }
   ],
   "source": [
    "stationary_df.head()"
   ]
  },
  {
   "cell_type": "code",
   "execution_count": 15,
   "metadata": {},
   "outputs": [
    {
     "data": {
      "text/plain": [
       "<matplotlib.axes._subplots.AxesSubplot at 0x7f3a9232f630>"
      ]
     },
     "execution_count": 15,
     "metadata": {},
     "output_type": "execute_result"
    },
    {
     "data": {
      "image/png": "[encoded data removed]",
      "text/plain": [
       "<Figure size 504x360 with 1 Axes>"
      ]
     },
     "metadata": {
      "needs_background": "light"
     },
     "output_type": "display_data"
    }
   ],
   "source": [
    "stationary_df['Close'].plot()"
   ]
  },
  {
   "cell_type": "code",
   "execution_count": 61,
   "metadata": {},
   "outputs": [
    {
     "data": {
      "text/plain": [
       "datetime.datetime(2015, 1, 1, 0, 0)"
      ]
     },
     "execution_count": 61,
     "metadata": {},
     "output_type": "execute_result"
    }
   ],
   "source": [
    " datetime(2015, 1,1)"
   ]
  },
  {
   "cell_type": "code",
   "execution_count": 194,
   "metadata": {},
   "outputs": [],
   "source": [
    "window = 100\n",
    "start = 101230\n",
    "end = start + window\n",
    "n_forecasts = 10\n",
    "confidence_interval = 0.7\n",
    "past_df = stationary_df['Close'][start:end]"
   ]
  },
  {
   "cell_type": "code",
   "execution_count": 195,
   "metadata": {},
   "outputs": [
    {
     "name": "stdout",
     "output_type": "stream",
     "text": [
      "Warning: Desired error not necessarily achieved due to precision loss.\n",
      "         Current function value: -4.873222\n",
      "         Iterations: 32\n",
      "         Function evaluations: 125\n",
      "         Gradient evaluations: 113\n"
     ]
    },
    {
     "name": "stderr",
     "output_type": "stream",
     "text": [
      "/home/acalle/PycharmProjects/TradingRL/venv/lib/python3.6/site-packages/statsmodels/base/model.py:568: ConvergenceWarning: Maximum Likelihood optimization failed to converge. Check mle_retvals\n",
      "  \"Check mle_retvals\", ConvergenceWarning)\n"
     ]
    }
   ],
   "source": [
    "model = SARIMAX(past_df.values, order=(2, 1, 0), seasonal_order=(2, 1, 1, 6))\n",
    "model_fit = model.fit(method='bfgs')"
   ]
  },
  {
   "cell_type": "code",
   "execution_count": 176,
   "metadata": {
    "scrolled": false
   },
   "outputs": [
    {
     "data": {
      "image/png": "[encoded data removed]",
      "text/plain": [
       "<Figure size 720x576 with 4 Axes>"
      ]
     },
     "metadata": {
      "needs_background": "light"
     },
     "output_type": "display_data"
    }
   ],
   "source": [
    "model_fit.plot_diagnostics(figsize=(10,8));"
   ]
  },
  {
   "cell_type": "code",
   "execution_count": 158,
   "metadata": {
    "scrolled": true
   },
   "outputs": [
    {
     "data": {
      "text/plain": [
       "1101230"
      ]
     },
     "execution_count": 158,
     "metadata": {},
     "output_type": "execute_result"
    }
   ],
   "source": [
    "start"
   ]
  },
  {
   "cell_type": "code",
   "execution_count": 159,
   "metadata": {},
   "outputs": [
    {
     "data": {
      "text/plain": [
       "1101330"
      ]
     },
     "execution_count": 159,
     "metadata": {},
     "output_type": "execute_result"
    }
   ],
   "source": [
    "end"
   ]
  },
  {
   "cell_type": "code",
   "execution_count": 177,
   "metadata": {},
   "outputs": [],
   "source": [
    "pred = model_fit.get_prediction(start=0, dynamic=False)\n",
    "pred_mean = pred.predicted_mean\n",
    "pred_ci = pred.conf_int()"
   ]
  },
  {
   "cell_type": "code",
   "execution_count": 178,
   "metadata": {},
   "outputs": [
    {
     "data": {
      "text/plain": [
       "100"
      ]
     },
     "execution_count": 178,
     "metadata": {},
     "output_type": "execute_result"
    }
   ],
   "source": [
    "len(pred_mean)"
   ]
  },
  {
   "cell_type": "code",
   "execution_count": 179,
   "metadata": {},
   "outputs": [
    {
     "data": {
      "text/plain": [
       "array([-2.77180765e+03, -1.95996398e+03, -1.95996398e+03, -1.95996398e+03,\n",
       "       -1.95996398e+03, -1.95996398e+03, -1.38590382e+03, -3.92405583e-03,\n",
       "       -3.38177138e-03, -3.24557721e-03, -3.24331298e-03, -3.23216488e-03,\n",
       "       -3.10472496e-03, -2.92762821e-03, -2.84237356e-03, -2.81829191e-03,\n",
       "       -2.81737208e-03, -2.81271766e-03, -2.76093500e-03, -2.69573512e-03,\n",
       "       -2.65918992e-03, -2.64901963e-03, -2.64854206e-03, -2.64609040e-03,\n",
       "       -2.61915283e-03, -2.58653971e-03, -2.56709871e-03, -2.56188626e-03,\n",
       "       -2.56159391e-03, -2.56007962e-03, -2.54354904e-03, -2.52389698e-03,\n",
       "       -2.51183266e-03, -2.50869023e-03, -2.50849286e-03, -2.50746458e-03,\n",
       "       -2.49628298e-03, -2.48312330e-03, -2.47490796e-03, -2.47281512e-03,\n",
       "       -2.47267293e-03, -2.47192907e-03, -2.46386110e-03, -2.45442479e-03,\n",
       "       -2.44847064e-03, -2.44698000e-03, -2.44687271e-03, -2.44630965e-03,\n",
       "       -2.44021379e-03, -2.43311356e-03, -2.42860053e-03, -2.42748630e-03,\n",
       "       -2.42740247e-03, -2.42696149e-03, -2.42219367e-03, -2.41665647e-03,\n",
       "       -2.41311825e-03, -2.41225457e-03, -2.41218727e-03, -2.41183258e-03,\n",
       "       -2.40800175e-03, -2.40356227e-03, -2.40071415e-03, -2.40002545e-03,\n",
       "       -2.39997024e-03, -2.39967881e-03, -2.39653376e-03, -2.39289496e-03,\n",
       "       -2.39055325e-03, -2.38999150e-03, -2.38994539e-03, -2.38970171e-03,\n",
       "       -2.38707368e-03, -5.80581506e-03, -5.70830440e-03, -5.74015016e-03,\n",
       "       -2.38638679e-03, -2.39248511e-03, -3.09101902e-03, -2.16183514e-03,\n",
       "       -2.15940698e-03, -2.14021332e-03, -2.37863475e-03, -2.38391037e-03,\n",
       "       -2.97661058e-03, -2.18855099e-03, -2.18624656e-03, -2.16951338e-03,\n",
       "       -2.37203607e-03, -2.37667587e-03, -3.08190441e-03, -2.14275447e-03,\n",
       "       -2.14229613e-03, -2.12674282e-03, -2.36628830e-03, -2.37034528e-03,\n",
       "       -3.03032131e-03, -2.15127701e-03, -2.15117474e-03, -2.13728139e-03])"
      ]
     },
     "execution_count": 179,
     "metadata": {},
     "output_type": "execute_result"
    }
   ],
   "source": [
    "pred_ci[:, 0]"
   ]
  },
  {
   "cell_type": "code",
   "execution_count": 180,
   "metadata": {
    "scrolled": false
   },
   "outputs": [
    {
     "data": {
      "image/png": "[encoded data removed]",
      "text/plain": [
       "<Figure size 504x360 with 1 Axes>"
      ]
     },
     "metadata": {
      "needs_background": "light"
     },
     "output_type": "display_data"
    }
   ],
   "source": [
    "fig, ax = plt.subplots()\n",
    "ax.plot(past_df.index, past_df, label='observed')\n",
    "ax.plot(past_df.index, pred_mean, label='One-step ahead Forecast', alpha=.7,\n",
    "        color='red', linestyle=':', marker='o',\n",
    "        markersize=5)\n",
    "\n",
    "ax.fill_between(past_df.index[7:],\n",
    "                pred_ci[7:, 0],\n",
    "                pred_ci[7:, 1], color='k', alpha=.2)\n",
    "\n",
    "ax.set_xlabel('Date')\n",
    "ax.set_ylabel('Series')\n",
    "plt.legend()\n",
    "plt.show()"
   ]
  },
  {
   "cell_type": "markdown",
   "metadata": {},
   "source": [
    "**Forecast ahead**"
   ]
  },
  {
   "cell_type": "code",
   "execution_count": 189,
   "metadata": {},
   "outputs": [],
   "source": [
    "# Get forecast 500 steps ahead in future\n",
    "pred_uc = model_fit.get_forecast(steps=500)\n",
    "\n",
    "# Get confidence intervals of forecasts\n",
    "pred_ci = pred_uc.conf_int()"
   ]
  },
  {
   "cell_type": "code",
   "execution_count": 207,
   "metadata": {},
   "outputs": [
    {
     "data": {
      "text/plain": [
       "array([-0.00236128,  0.00235565])"
      ]
     },
     "execution_count": 207,
     "metadata": {},
     "output_type": "execute_result"
    }
   ],
   "source": [
    "pred_ci[0]"
   ]
  },
  {
   "cell_type": "code",
   "execution_count": null,
   "metadata": {},
   "outputs": [],
   "source": []
  },
  {
   "cell_type": "code",
   "execution_count": null,
   "metadata": {},
   "outputs": [],
   "source": []
  },
  {
   "cell_type": "code",
   "execution_count": 205,
   "metadata": {},
   "outputs": [
    {
     "data": {
      "text/plain": [
       "((3, 7), (7,))"
      ]
     },
     "execution_count": 205,
     "metadata": {},
     "output_type": "execute_result"
    }
   ],
   "source": [
    "a = np.array([[1, 1, 4, 4, 4, 4, 4], [2, 2, 4, 4, 4, 4, 4], [3, 3, 4, 4, 4, 4, 4]])\n",
    "b = np.array([1, 1, 1, 1, 1, 1, 1])\n",
    "np.shape(a), np.shape(b) "
   ]
  },
  {
   "cell_type": "code",
   "execution_count": 206,
   "metadata": {
    "scrolled": true
   },
   "outputs": [
    {
     "data": {
      "text/plain": [
       "array([[1, 1, 4, 4, 4, 4, 4],\n",
       "       [2, 2, 4, 4, 4, 4, 4],\n",
       "       [3, 3, 4, 4, 4, 4, 4],\n",
       "       [1, 1, 1, 1, 1, 1, 1]])"
      ]
     },
     "execution_count": 206,
     "metadata": {},
     "output_type": "execute_result"
    }
   ],
   "source": [
    "np.insert(a, len(a), b, axis=0)"
   ]
  },
  {
   "cell_type": "code",
   "execution_count": 209,
   "metadata": {},
   "outputs": [
    {
     "name": "stdout",
     "output_type": "stream",
     "text": [
      "\u001b[0m\u001b[01;34mbaselines\u001b[0m/   \u001b[01;34menv\u001b[0m/       \u001b[01;34mimgs\u001b[0m/    \u001b[01;34mnotebooks\u001b[0m/  render.txt    tradeStock.py\r\n",
      "config.json  \u001b[01;34mfeatures\u001b[0m/  LICENSE  README.md   \u001b[01;34mtensorboard\u001b[0m/  \u001b[01;34mvenv\u001b[0m/\r\n",
      "\u001b[01;34mdata\u001b[0m/        iex.py     \u001b[01;34m_mac\u001b[0m/    \u001b[01;34mrender\u001b[0m/     tradeBTC.py\r\n"
     ]
    }
   ],
   "source": [
    "ls .."
   ]
  },
  {
   "cell_type": "code",
   "execution_count": 211,
   "metadata": {},
   "outputs": [],
   "source": [
    "#btc_df = pd.read_csv('../data/kaggle/bitstampUSD_1-min_data_2012-01-01_to_2019-08-12.csv', sep=',')\n",
    "#feat_df = pd.read_csv('../data/processed/features.csv', sep=',')\n",
    "env_data = pd.concat([btc_df, feat_df], axis=1)\n"
   ]
  },
  {
   "cell_type": "code",
   "execution_count": 212,
   "metadata": {},
   "outputs": [
    {
     "data": {
      "text/html": [
       "<div>\n",
       "<style scoped>\n",
       "    .dataframe tbody tr th:only-of-type {\n",
       "        vertical-align: middle;\n",
       "    }\n",
       "\n",
       "    .dataframe tbody tr th {\n",
       "        vertical-align: top;\n",
       "    }\n",
       "\n",
       "    .dataframe thead th {\n",
       "        text-align: right;\n",
       "    }\n",
       "</style>\n",
       "<table border=\"1\" class=\"dataframe\">\n",
       "  <thead>\n",
       "    <tr style=\"text-align: right;\">\n",
       "      <th></th>\n",
       "      <th>Timestamp</th>\n",
       "      <th>Open</th>\n",
       "      <th>High</th>\n",
       "      <th>Low</th>\n",
       "      <th>Close</th>\n",
       "      <th>Volume_(BTC)</th>\n",
       "      <th>Volume_(Currency)</th>\n",
       "      <th>Weighted_Price</th>\n",
       "    </tr>\n",
       "  </thead>\n",
       "  <tbody>\n",
       "    <tr>\n",
       "      <th>0</th>\n",
       "      <td>1325317920</td>\n",
       "      <td>4.39</td>\n",
       "      <td>4.39</td>\n",
       "      <td>4.39</td>\n",
       "      <td>4.39</td>\n",
       "      <td>0.455581</td>\n",
       "      <td>2.0</td>\n",
       "      <td>4.39</td>\n",
       "    </tr>\n",
       "    <tr>\n",
       "      <th>1</th>\n",
       "      <td>1325317980</td>\n",
       "      <td>NaN</td>\n",
       "      <td>NaN</td>\n",
       "      <td>NaN</td>\n",
       "      <td>NaN</td>\n",
       "      <td>NaN</td>\n",
       "      <td>NaN</td>\n",
       "      <td>NaN</td>\n",
       "    </tr>\n",
       "    <tr>\n",
       "      <th>2</th>\n",
       "      <td>1325318040</td>\n",
       "      <td>NaN</td>\n",
       "      <td>NaN</td>\n",
       "      <td>NaN</td>\n",
       "      <td>NaN</td>\n",
       "      <td>NaN</td>\n",
       "      <td>NaN</td>\n",
       "      <td>NaN</td>\n",
       "    </tr>\n",
       "    <tr>\n",
       "      <th>3</th>\n",
       "      <td>1325318100</td>\n",
       "      <td>NaN</td>\n",
       "      <td>NaN</td>\n",
       "      <td>NaN</td>\n",
       "      <td>NaN</td>\n",
       "      <td>NaN</td>\n",
       "      <td>NaN</td>\n",
       "      <td>NaN</td>\n",
       "    </tr>\n",
       "    <tr>\n",
       "      <th>4</th>\n",
       "      <td>1325318160</td>\n",
       "      <td>NaN</td>\n",
       "      <td>NaN</td>\n",
       "      <td>NaN</td>\n",
       "      <td>NaN</td>\n",
       "      <td>NaN</td>\n",
       "      <td>NaN</td>\n",
       "      <td>NaN</td>\n",
       "    </tr>\n",
       "  </tbody>\n",
       "</table>\n",
       "</div>"
      ],
      "text/plain": [
       "    Timestamp  Open  High   Low  Close  Volume_(BTC)  Volume_(Currency)  \\\n",
       "0  1325317920  4.39  4.39  4.39   4.39      0.455581                2.0   \n",
       "1  1325317980   NaN   NaN   NaN    NaN           NaN                NaN   \n",
       "2  1325318040   NaN   NaN   NaN    NaN           NaN                NaN   \n",
       "3  1325318100   NaN   NaN   NaN    NaN           NaN                NaN   \n",
       "4  1325318160   NaN   NaN   NaN    NaN           NaN                NaN   \n",
       "\n",
       "   Weighted_Price  \n",
       "0            4.39  \n",
       "1             NaN  \n",
       "2             NaN  \n",
       "3             NaN  \n",
       "4             NaN  "
      ]
     },
     "execution_count": 212,
     "metadata": {},
     "output_type": "execute_result"
    }
   ],
   "source": [
    "btc_df.head()"
   ]
  },
  {
   "cell_type": "code",
   "execution_count": 213,
   "metadata": {},
   "outputs": [
    {
     "data": {
      "text/html": [
       "<div>\n",
       "<style scoped>\n",
       "    .dataframe tbody tr th:only-of-type {\n",
       "        vertical-align: middle;\n",
       "    }\n",
       "\n",
       "    .dataframe tbody tr th {\n",
       "        vertical-align: top;\n",
       "    }\n",
       "\n",
       "    .dataframe thead th {\n",
       "        text-align: right;\n",
       "    }\n",
       "</style>\n",
       "<table border=\"1\" class=\"dataframe\">\n",
       "  <thead>\n",
       "    <tr style=\"text-align: right;\">\n",
       "      <th></th>\n",
       "      <th>ADX</th>\n",
       "      <th>APO</th>\n",
       "      <th>AROONDOWN</th>\n",
       "      <th>BOP</th>\n",
       "      <th>CCI</th>\n",
       "      <th>CMO</th>\n",
       "      <th>MFI</th>\n",
       "      <th>MINUS_DM</th>\n",
       "      <th>PPO</th>\n",
       "      <th>ROC</th>\n",
       "      <th>...</th>\n",
       "      <th>CDLMATHOLD</th>\n",
       "      <th>CDLUPSIDEGAP2CROWS</th>\n",
       "      <th>ATR</th>\n",
       "      <th>NATR</th>\n",
       "      <th>KCHI</th>\n",
       "      <th>AD</th>\n",
       "      <th>ADOSC</th>\n",
       "      <th>FI</th>\n",
       "      <th>EM</th>\n",
       "      <th>VPT</th>\n",
       "    </tr>\n",
       "  </thead>\n",
       "  <tbody>\n",
       "    <tr>\n",
       "      <th>0</th>\n",
       "      <td>NaN</td>\n",
       "      <td>NaN</td>\n",
       "      <td>NaN</td>\n",
       "      <td>0.0</td>\n",
       "      <td>NaN</td>\n",
       "      <td>NaN</td>\n",
       "      <td>NaN</td>\n",
       "      <td>NaN</td>\n",
       "      <td>NaN</td>\n",
       "      <td>NaN</td>\n",
       "      <td>...</td>\n",
       "      <td>0</td>\n",
       "      <td>0</td>\n",
       "      <td>NaN</td>\n",
       "      <td>NaN</td>\n",
       "      <td>0.0</td>\n",
       "      <td>0.0</td>\n",
       "      <td>NaN</td>\n",
       "      <td>NaN</td>\n",
       "      <td>NaN</td>\n",
       "      <td>-0.455247</td>\n",
       "    </tr>\n",
       "    <tr>\n",
       "      <th>1</th>\n",
       "      <td>NaN</td>\n",
       "      <td>NaN</td>\n",
       "      <td>NaN</td>\n",
       "      <td>0.0</td>\n",
       "      <td>NaN</td>\n",
       "      <td>NaN</td>\n",
       "      <td>NaN</td>\n",
       "      <td>NaN</td>\n",
       "      <td>NaN</td>\n",
       "      <td>NaN</td>\n",
       "      <td>...</td>\n",
       "      <td>0</td>\n",
       "      <td>0</td>\n",
       "      <td>NaN</td>\n",
       "      <td>NaN</td>\n",
       "      <td>0.0</td>\n",
       "      <td>0.0</td>\n",
       "      <td>NaN</td>\n",
       "      <td>NaN</td>\n",
       "      <td>0.0</td>\n",
       "      <td>-0.454686</td>\n",
       "    </tr>\n",
       "    <tr>\n",
       "      <th>2</th>\n",
       "      <td>NaN</td>\n",
       "      <td>NaN</td>\n",
       "      <td>NaN</td>\n",
       "      <td>0.0</td>\n",
       "      <td>NaN</td>\n",
       "      <td>NaN</td>\n",
       "      <td>NaN</td>\n",
       "      <td>NaN</td>\n",
       "      <td>NaN</td>\n",
       "      <td>NaN</td>\n",
       "      <td>...</td>\n",
       "      <td>0</td>\n",
       "      <td>0</td>\n",
       "      <td>NaN</td>\n",
       "      <td>NaN</td>\n",
       "      <td>0.0</td>\n",
       "      <td>0.0</td>\n",
       "      <td>NaN</td>\n",
       "      <td>NaN</td>\n",
       "      <td>0.0</td>\n",
       "      <td>0.000000</td>\n",
       "    </tr>\n",
       "    <tr>\n",
       "      <th>3</th>\n",
       "      <td>NaN</td>\n",
       "      <td>NaN</td>\n",
       "      <td>NaN</td>\n",
       "      <td>0.0</td>\n",
       "      <td>NaN</td>\n",
       "      <td>NaN</td>\n",
       "      <td>NaN</td>\n",
       "      <td>NaN</td>\n",
       "      <td>NaN</td>\n",
       "      <td>NaN</td>\n",
       "      <td>...</td>\n",
       "      <td>0</td>\n",
       "      <td>0</td>\n",
       "      <td>NaN</td>\n",
       "      <td>NaN</td>\n",
       "      <td>0.0</td>\n",
       "      <td>0.0</td>\n",
       "      <td>NaN</td>\n",
       "      <td>NaN</td>\n",
       "      <td>0.0</td>\n",
       "      <td>0.000000</td>\n",
       "    </tr>\n",
       "    <tr>\n",
       "      <th>4</th>\n",
       "      <td>NaN</td>\n",
       "      <td>NaN</td>\n",
       "      <td>NaN</td>\n",
       "      <td>0.0</td>\n",
       "      <td>NaN</td>\n",
       "      <td>NaN</td>\n",
       "      <td>NaN</td>\n",
       "      <td>NaN</td>\n",
       "      <td>NaN</td>\n",
       "      <td>NaN</td>\n",
       "      <td>...</td>\n",
       "      <td>0</td>\n",
       "      <td>0</td>\n",
       "      <td>NaN</td>\n",
       "      <td>NaN</td>\n",
       "      <td>0.0</td>\n",
       "      <td>0.0</td>\n",
       "      <td>NaN</td>\n",
       "      <td>NaN</td>\n",
       "      <td>0.0</td>\n",
       "      <td>0.000000</td>\n",
       "    </tr>\n",
       "  </tbody>\n",
       "</table>\n",
       "<p>5 rows × 39 columns</p>\n",
       "</div>"
      ],
      "text/plain": [
       "   ADX  APO  AROONDOWN  BOP  CCI  CMO  MFI  MINUS_DM  PPO  ROC  ...  \\\n",
       "0  NaN  NaN        NaN  0.0  NaN  NaN  NaN       NaN  NaN  NaN  ...   \n",
       "1  NaN  NaN        NaN  0.0  NaN  NaN  NaN       NaN  NaN  NaN  ...   \n",
       "2  NaN  NaN        NaN  0.0  NaN  NaN  NaN       NaN  NaN  NaN  ...   \n",
       "3  NaN  NaN        NaN  0.0  NaN  NaN  NaN       NaN  NaN  NaN  ...   \n",
       "4  NaN  NaN        NaN  0.0  NaN  NaN  NaN       NaN  NaN  NaN  ...   \n",
       "\n",
       "   CDLMATHOLD  CDLUPSIDEGAP2CROWS  ATR  NATR  KCHI   AD  ADOSC  FI   EM  \\\n",
       "0           0                   0  NaN   NaN   0.0  0.0    NaN NaN  NaN   \n",
       "1           0                   0  NaN   NaN   0.0  0.0    NaN NaN  0.0   \n",
       "2           0                   0  NaN   NaN   0.0  0.0    NaN NaN  0.0   \n",
       "3           0                   0  NaN   NaN   0.0  0.0    NaN NaN  0.0   \n",
       "4           0                   0  NaN   NaN   0.0  0.0    NaN NaN  0.0   \n",
       "\n",
       "        VPT  \n",
       "0 -0.455247  \n",
       "1 -0.454686  \n",
       "2  0.000000  \n",
       "3  0.000000  \n",
       "4  0.000000  \n",
       "\n",
       "[5 rows x 39 columns]"
      ]
     },
     "execution_count": 213,
     "metadata": {},
     "output_type": "execute_result"
    }
   ],
   "source": [
    "feat_df.head()"
   ]
  },
  {
   "cell_type": "code",
   "execution_count": 216,
   "metadata": {},
   "outputs": [
    {
     "data": {
      "text/plain": [
       "(39, 39)"
      ]
     },
     "execution_count": 216,
     "metadata": {},
     "output_type": "execute_result"
    }
   ],
   "source": [
    "len(env_data.columns) - 8, len(feat_df.columns)"
   ]
  },
  {
   "cell_type": "code",
   "execution_count": 217,
   "metadata": {},
   "outputs": [
    {
     "data": {
      "text/plain": [
       "59"
      ]
     },
     "execution_count": 217,
     "metadata": {},
     "output_type": "execute_result"
    }
   ],
   "source": [
    "49+10"
   ]
  },
  {
   "cell_type": "code",
   "execution_count": null,
   "metadata": {},
   "outputs": [],
   "source": []
  }
 ],
 "metadata": {
  "kernelspec": {
   "display_name": "Python 3",
   "language": "python",
   "name": "python3"
  },
  "language_info": {
   "codemirror_mode": {
    "name": "ipython",
    "version": 3
   },
   "file_extension": ".py",
   "mimetype": "text/x-python",
   "name": "python",
   "nbconvert_exporter": "python",
   "pygments_lexer": "ipython3",
   "version": "3.6.9"
  }
 },
 "nbformat": 4,
 "nbformat_minor": 2
}
