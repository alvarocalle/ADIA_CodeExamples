{
 "cells": [
  {
   "cell_type": "markdown",
   "metadata": {},
   "source": [
    "# Reward Metrics"
   ]
  },
  {
   "cell_type": "code",
   "execution_count": 2,
   "metadata": {},
   "outputs": [],
   "source": [
    "import warnings\n",
    "warnings.filterwarnings('ignore')"
   ]
  },
  {
   "cell_type": "code",
   "execution_count": 3,
   "metadata": {},
   "outputs": [],
   "source": [
    "import pandas as pd\n",
    "import numpy as np"
   ]
  },
  {
   "cell_type": "code",
   "execution_count": 4,
   "metadata": {},
   "outputs": [],
   "source": [
    "from empyrical import sortino_ratio, calmar_ratio, omega_ratio"
   ]
  },
  {
   "cell_type": "code",
   "execution_count": 5,
   "metadata": {},
   "outputs": [
    {
     "name": "stdout",
     "output_type": "stream",
     "text": [
      "bitstampUSD_1-min_data_2012-01-01_to_2019-08-12.csv\r\n",
      "coinbaseUSD_1-min_data_2014-12-01_to_2019-01-09.csv\r\n"
     ]
    }
   ],
   "source": [
    "ls ../data/kaggle/"
   ]
  },
  {
   "cell_type": "code",
   "execution_count": 6,
   "metadata": {},
   "outputs": [],
   "source": [
    "df = pd.read_csv('../data/kaggle/bitstampUSD_1-min_data_2012-01-01_to_2019-08-12.csv', sep=',', header=0,\n",
    "                 names=['Timestamp', 'Open', 'High', 'Low', 'Close', 'Volume', 'Volume_Currency', 'Weighted_Price'])\n",
    "df = df.fillna(method='bfill').reset_index(drop=True)"
   ]
  },
  {
   "cell_type": "code",
   "execution_count": 7,
   "metadata": {
    "scrolled": true
   },
   "outputs": [
    {
     "data": {
      "text/html": [
       "<div>\n",
       "<style scoped>\n",
       "    .dataframe tbody tr th:only-of-type {\n",
       "        vertical-align: middle;\n",
       "    }\n",
       "\n",
       "    .dataframe tbody tr th {\n",
       "        vertical-align: top;\n",
       "    }\n",
       "\n",
       "    .dataframe thead th {\n",
       "        text-align: right;\n",
       "    }\n",
       "</style>\n",
       "<table border=\"1\" class=\"dataframe\">\n",
       "  <thead>\n",
       "    <tr style=\"text-align: right;\">\n",
       "      <th></th>\n",
       "      <th>Timestamp</th>\n",
       "      <th>Open</th>\n",
       "      <th>High</th>\n",
       "      <th>Low</th>\n",
       "      <th>Close</th>\n",
       "      <th>Volume</th>\n",
       "      <th>Volume_Currency</th>\n",
       "      <th>Weighted_Price</th>\n",
       "    </tr>\n",
       "  </thead>\n",
       "  <tbody>\n",
       "    <tr>\n",
       "      <th>0</th>\n",
       "      <td>1325317920</td>\n",
       "      <td>4.39</td>\n",
       "      <td>4.39</td>\n",
       "      <td>4.39</td>\n",
       "      <td>4.39</td>\n",
       "      <td>0.455581</td>\n",
       "      <td>2.00</td>\n",
       "      <td>4.39</td>\n",
       "    </tr>\n",
       "    <tr>\n",
       "      <th>1</th>\n",
       "      <td>1325317980</td>\n",
       "      <td>4.39</td>\n",
       "      <td>4.39</td>\n",
       "      <td>4.39</td>\n",
       "      <td>4.39</td>\n",
       "      <td>48.000000</td>\n",
       "      <td>210.72</td>\n",
       "      <td>4.39</td>\n",
       "    </tr>\n",
       "    <tr>\n",
       "      <th>2</th>\n",
       "      <td>1325318040</td>\n",
       "      <td>4.39</td>\n",
       "      <td>4.39</td>\n",
       "      <td>4.39</td>\n",
       "      <td>4.39</td>\n",
       "      <td>48.000000</td>\n",
       "      <td>210.72</td>\n",
       "      <td>4.39</td>\n",
       "    </tr>\n",
       "    <tr>\n",
       "      <th>3</th>\n",
       "      <td>1325318100</td>\n",
       "      <td>4.39</td>\n",
       "      <td>4.39</td>\n",
       "      <td>4.39</td>\n",
       "      <td>4.39</td>\n",
       "      <td>48.000000</td>\n",
       "      <td>210.72</td>\n",
       "      <td>4.39</td>\n",
       "    </tr>\n",
       "    <tr>\n",
       "      <th>4</th>\n",
       "      <td>1325318160</td>\n",
       "      <td>4.39</td>\n",
       "      <td>4.39</td>\n",
       "      <td>4.39</td>\n",
       "      <td>4.39</td>\n",
       "      <td>48.000000</td>\n",
       "      <td>210.72</td>\n",
       "      <td>4.39</td>\n",
       "    </tr>\n",
       "  </tbody>\n",
       "</table>\n",
       "</div>"
      ],
      "text/plain": [
       "    Timestamp  Open  High   Low  Close     Volume  Volume_Currency  \\\n",
       "0  1325317920  4.39  4.39  4.39   4.39   0.455581             2.00   \n",
       "1  1325317980  4.39  4.39  4.39   4.39  48.000000           210.72   \n",
       "2  1325318040  4.39  4.39  4.39   4.39  48.000000           210.72   \n",
       "3  1325318100  4.39  4.39  4.39   4.39  48.000000           210.72   \n",
       "4  1325318160  4.39  4.39  4.39   4.39  48.000000           210.72   \n",
       "\n",
       "   Weighted_Price  \n",
       "0            4.39  \n",
       "1            4.39  \n",
       "2            4.39  \n",
       "3            4.39  \n",
       "4            4.39  "
      ]
     },
     "execution_count": 7,
     "metadata": {},
     "output_type": "execute_result"
    }
   ],
   "source": [
    "df.head()"
   ]
  },
  {
   "cell_type": "code",
   "execution_count": 8,
   "metadata": {},
   "outputs": [],
   "source": [
    "stationary_df = np.log(df[['Open', 'High', 'Low', 'Close']]) - np.log(df[['Open', 'High', 'Low', 'Close']].shift(1))"
   ]
  },
  {
   "cell_type": "code",
   "execution_count": 9,
   "metadata": {},
   "outputs": [],
   "source": [
    "window = 100\n",
    "start = 101230\n",
    "end = start + window\n",
    "n_forecasts = 10\n",
    "confidence_interval = 0.7\n",
    "past_df = stationary_df['Close'][start:end]"
   ]
  },
  {
   "cell_type": "code",
   "execution_count": 10,
   "metadata": {
    "scrolled": true
   },
   "outputs": [
    {
     "data": {
      "text/plain": [
       "101230    0.0\n",
       "101231    0.0\n",
       "101232    0.0\n",
       "101233    0.0\n",
       "101234    0.0\n",
       "         ... \n",
       "101325    0.0\n",
       "101326    0.0\n",
       "101327    0.0\n",
       "101328    0.0\n",
       "101329    0.0\n",
       "Name: Close, Length: 100, dtype: float64"
      ]
     },
     "execution_count": 10,
     "metadata": {},
     "output_type": "execute_result"
    }
   ],
   "source": [
    "past_df"
   ]
  },
  {
   "cell_type": "code",
   "execution_count": 11,
   "metadata": {},
   "outputs": [],
   "source": [
    "net_worths = [10000.,         10000.,         10000.,         10000.,\n",
    " 10000.,         10000.,         10000.,         10000.,\n",
    " 10000.,         10000.,         10000.,          9994.75,\n",
    "  9997.32447402, 10005.92321723, 10004.87154125, 10002.34751889,\n",
    " 10005.85704187, 10005.86593653, 10002.27529441,  9998.99369353,\n",
    "  9997.62976608,  9996.33504859,  9997.18336253, 10000.7124368,\n",
    "  9998.829728  ,  9994.71758929,  9990.97119943,  9990.97119943,\n",
    "  9984.32779759,  9984.58851075,  9984.15727268,  9985.8955581,\n",
    "  9985.01363549,  9985.01865354,  9985.47905898,  9983.27081925,\n",
    "  9974.17856973,  9971.71132614,  9974.77253578,  9973.14141242,\n",
    "  9973.14141242,  9975.61550947,  9973.58688696,  9976.38309636,\n",
    "  9972.50541602,  9972.74006673,  9972.74006673,  9972.68393694,\n",
    "  9966.70663533,  9963.89069142,  9963.89069142,  9965.47465987,\n",
    "  9959.2792724 ,  9966.78111124,  9963.62694813,  9963.62694813,\n",
    "  9972.32655955,  9961.16102136,  9955.21765888,  9959.49559507,\n",
    "  9986.32436631,  9960.65132317,  9956.53868847,  9968.8216617,\n",
    "  9958.11036338,  9957.90575228,  9959.47998439,  9959.39156907,\n",
    "  9958.18877716,  9958.36616396,  9957.97206648,  9958.55097203,\n",
    "  9957.93252809,  9957.93252809,  9957.94034834,  9957.94816859,\n",
    "  9957.30700918,  9957.39102794,  9957.37947558,  9955.12032839,\n",
    "  9955.09809312,  9951.48967286,  9948.31906705,  9946.76139684,\n",
    "  9946.76139684,  9942.37200393,  9942.37200393,  9942.37200393,\n",
    "  9940.36530336,  9940.18308269,  9940.18308269,  9940.18308269,\n",
    "  9940.18308269,  9939.97216896,  9939.83155982,  9943.7093071,\n",
    "  9943.66944345,  9943.66149464,  9939.58813656,  9939.58813656,\n",
    "  9943.66104532,  9943.66104532,  9939.44188363,  9943.6607016,\n",
    "  9919.00243797,  9919.00243797,  9943.66054369,  9943.58780391,\n",
    "  9918.41980429,  9939.58717899,  9939.58717867,  9936.94865746,\n",
    "  9933.87645493,  9932.78095714,  9931.08834505,  9930.59976386,\n",
    "  9929.6226015 ,  9924.9881819 ,  9923.59577328,  9926.48036572,\n",
    "  9922.27327431,  9921.4394702 ,  9914.09232855,  9914.09232855,\n",
    "  9888.86487114,  9888.86487114,  9909.84444641,  9884.77138659]"
   ]
  },
  {
   "cell_type": "code",
   "execution_count": 12,
   "metadata": {
    "scrolled": false
   },
   "outputs": [
    {
     "data": {
      "text/plain": [
       "array([ 0.00000000e+00,  0.00000000e+00,  0.00000000e+00,  0.00000000e+00,\n",
       "        0.00000000e+00,  0.00000000e+00,  0.00000000e+00,  0.00000000e+00,\n",
       "        0.00000000e+00,  0.00000000e+00, -5.25000000e+00,  2.57447402e+00,\n",
       "        8.59874321e+00, -1.05167598e+00, -2.52402236e+00,  3.50952298e+00,\n",
       "        8.89466000e-03, -3.59064212e+00, -3.28160088e+00, -1.36392745e+00,\n",
       "       -1.29471749e+00,  8.48313940e-01,  3.52907427e+00, -1.88270880e+00,\n",
       "       -4.11213871e+00, -3.74638986e+00,  0.00000000e+00, -6.64340184e+00,\n",
       "        2.60713160e-01, -4.31238070e-01,  1.73828542e+00, -8.81922610e-01,\n",
       "        5.01805000e-03,  4.60405440e-01, -2.20823973e+00, -9.09224952e+00,\n",
       "       -2.46724359e+00,  3.06120964e+00, -1.63112336e+00,  0.00000000e+00,\n",
       "        2.47409705e+00, -2.02862251e+00,  2.79620940e+00, -3.87768034e+00,\n",
       "        2.34650710e-01,  0.00000000e+00, -5.61297900e-02, -5.97730161e+00,\n",
       "       -2.81594391e+00,  0.00000000e+00,  1.58396845e+00, -6.19538747e+00,\n",
       "        7.50183884e+00, -3.15416311e+00,  0.00000000e+00,  8.69961142e+00,\n",
       "       -1.11655382e+01, -5.94336248e+00,  4.27793619e+00,  2.68287712e+01,\n",
       "       -2.56730431e+01, -4.11263470e+00,  1.22829732e+01, -1.07112983e+01,\n",
       "       -2.04611100e-01,  1.57423211e+00, -8.84153200e-02, -1.20279191e+00,\n",
       "        1.77386800e-01, -3.94097480e-01,  5.78905550e-01, -6.18443940e-01,\n",
       "        0.00000000e+00,  7.82025000e-03,  7.82025000e-03, -6.41159410e-01,\n",
       "        8.40187600e-02, -1.15523600e-02, -2.25914719e+00, -2.22352700e-02,\n",
       "       -3.60842026e+00, -3.17060581e+00, -1.55767021e+00,  0.00000000e+00,\n",
       "       -4.38939291e+00,  0.00000000e+00,  0.00000000e+00, -2.00670057e+00,\n",
       "       -1.82220670e-01,  0.00000000e+00,  0.00000000e+00,  0.00000000e+00,\n",
       "       -2.10913730e-01, -1.40609140e-01,  3.87774728e+00, -3.98636500e-02,\n",
       "       -7.94881000e-03, -4.07335808e+00,  0.00000000e+00,  4.07290876e+00,\n",
       "        0.00000000e+00, -4.21916169e+00,  4.21881797e+00, -2.46582636e+01,\n",
       "        0.00000000e+00,  2.46581057e+01, -7.27397800e-02, -2.51679996e+01,\n",
       "        2.11673747e+01, -3.19998435e-07, -2.63852121e+00, -3.07220253e+00,\n",
       "       -1.09549779e+00, -1.69261209e+00, -4.88581190e-01, -9.77162360e-01,\n",
       "       -4.63441960e+00, -1.39240862e+00,  2.88459244e+00, -4.20709141e+00,\n",
       "       -8.33804110e-01, -7.34714165e+00,  0.00000000e+00, -2.52274574e+01,\n",
       "        0.00000000e+00,  2.09795753e+01, -2.50730598e+01])"
      ]
     },
     "execution_count": 12,
     "metadata": {},
     "output_type": "execute_result"
    }
   ],
   "source": [
    "np.diff(net_worths)"
   ]
  },
  {
   "cell_type": "code",
   "execution_count": 13,
   "metadata": {},
   "outputs": [],
   "source": [
    "MAX_TRADING_SESSION = 100000  # ~2 months\n",
    "window_size = 50\n",
    "steps_left = np.random.randint(1, MAX_TRADING_SESSION)\n",
    "frame_start = np.random.randint(window_size, len(df) - steps_left)"
   ]
  },
  {
   "cell_type": "code",
   "execution_count": 14,
   "metadata": {},
   "outputs": [
    {
     "data": {
      "text/plain": [
       "66240"
      ]
     },
     "execution_count": 14,
     "metadata": {},
     "output_type": "execute_result"
    }
   ],
   "source": [
    "steps_left"
   ]
  },
  {
   "cell_type": "code",
   "execution_count": 15,
   "metadata": {},
   "outputs": [
    {
     "data": {
      "text/plain": [
       "[682045, 748335]"
      ]
     },
     "execution_count": 15,
     "metadata": {},
     "output_type": "execute_result"
    }
   ],
   "source": [
    "[frame_start - window_size,frame_start + steps_left]"
   ]
  },
  {
   "cell_type": "code",
   "execution_count": 16,
   "metadata": {
    "scrolled": false
   },
   "outputs": [
    {
     "data": {
      "text/plain": [
       "array([ 0.00000000e+00,  0.00000000e+00,  0.00000000e+00,  0.00000000e+00,\n",
       "        0.00000000e+00,  0.00000000e+00,  0.00000000e+00,  0.00000000e+00,\n",
       "        0.00000000e+00,  0.00000000e+00, -5.25000000e+00,  2.57447402e+00,\n",
       "        8.59874321e+00, -1.05167598e+00, -2.52402236e+00,  3.50952298e+00,\n",
       "        8.89466000e-03, -3.59064212e+00, -3.28160088e+00, -1.36392745e+00,\n",
       "       -1.29471749e+00,  8.48313940e-01,  3.52907427e+00, -1.88270880e+00,\n",
       "       -4.11213871e+00, -3.74638986e+00,  0.00000000e+00, -6.64340184e+00,\n",
       "        2.60713160e-01, -4.31238070e-01,  1.73828542e+00, -8.81922610e-01,\n",
       "        5.01805000e-03,  4.60405440e-01, -2.20823973e+00, -9.09224952e+00,\n",
       "       -2.46724359e+00,  3.06120964e+00, -1.63112336e+00,  0.00000000e+00,\n",
       "        2.47409705e+00, -2.02862251e+00,  2.79620940e+00, -3.87768034e+00,\n",
       "        2.34650710e-01,  0.00000000e+00, -5.61297900e-02, -5.97730161e+00,\n",
       "       -2.81594391e+00,  0.00000000e+00,  1.58396845e+00, -6.19538747e+00,\n",
       "        7.50183884e+00, -3.15416311e+00,  0.00000000e+00,  8.69961142e+00,\n",
       "       -1.11655382e+01, -5.94336248e+00,  4.27793619e+00,  2.68287712e+01,\n",
       "       -2.56730431e+01, -4.11263470e+00,  1.22829732e+01, -1.07112983e+01,\n",
       "       -2.04611100e-01,  1.57423211e+00, -8.84153200e-02, -1.20279191e+00,\n",
       "        1.77386800e-01, -3.94097480e-01,  5.78905550e-01, -6.18443940e-01,\n",
       "        0.00000000e+00,  7.82025000e-03,  7.82025000e-03, -6.41159410e-01,\n",
       "        8.40187600e-02, -1.15523600e-02, -2.25914719e+00, -2.22352700e-02,\n",
       "       -3.60842026e+00, -3.17060581e+00, -1.55767021e+00,  0.00000000e+00,\n",
       "       -4.38939291e+00,  0.00000000e+00,  0.00000000e+00, -2.00670057e+00,\n",
       "       -1.82220670e-01,  0.00000000e+00,  0.00000000e+00,  0.00000000e+00,\n",
       "       -2.10913730e-01, -1.40609140e-01,  3.87774728e+00, -3.98636500e-02,\n",
       "       -7.94881000e-03, -4.07335808e+00,  0.00000000e+00,  4.07290876e+00,\n",
       "        0.00000000e+00, -4.21916169e+00,  4.21881797e+00, -2.46582636e+01,\n",
       "        0.00000000e+00,  2.46581057e+01, -7.27397800e-02, -2.51679996e+01,\n",
       "        2.11673747e+01, -3.19998435e-07, -2.63852121e+00, -3.07220253e+00,\n",
       "       -1.09549779e+00, -1.69261209e+00, -4.88581190e-01, -9.77162360e-01,\n",
       "       -4.63441960e+00, -1.39240862e+00,  2.88459244e+00, -4.20709141e+00,\n",
       "       -8.33804110e-01, -7.34714165e+00,  0.00000000e+00, -2.52274574e+01,\n",
       "        0.00000000e+00,  2.09795753e+01, -2.50730598e+01])"
      ]
     },
     "execution_count": 16,
     "metadata": {},
     "output_type": "execute_result"
    }
   ],
   "source": [
    "np.diff(net_worths)\n",
    "#np.diff(net_worths)[-length:]"
   ]
  },
  {
   "cell_type": "code",
   "execution_count": 18,
   "metadata": {},
   "outputs": [],
   "source": [
    "returns = np.diff(net_worths)[-length:]"
   ]
  },
  {
   "cell_type": "code",
   "execution_count": 20,
   "metadata": {},
   "outputs": [
    {
     "data": {
      "text/plain": [
       "-5.516365807770373"
      ]
     },
     "execution_count": 20,
     "metadata": {},
     "output_type": "execute_result"
    }
   ],
   "source": [
    "reward = sortino_ratio(returns)\n",
    "reward"
   ]
  },
  {
   "cell_type": "code",
   "execution_count": 21,
   "metadata": {},
   "outputs": [
    {
     "data": {
      "text/plain": [
       "nan"
      ]
     },
     "execution_count": 21,
     "metadata": {},
     "output_type": "execute_result"
    }
   ],
   "source": [
    "reward = calmar_ratio(returns)\n",
    "reward"
   ]
  },
  {
   "cell_type": "code",
   "execution_count": 22,
   "metadata": {},
   "outputs": [
    {
     "data": {
      "text/plain": [
       "0.3724065086623477"
      ]
     },
     "execution_count": 22,
     "metadata": {},
     "output_type": "execute_result"
    }
   ],
   "source": [
    "reward = omega_ratio(returns)\n",
    "reward"
   ]
  },
  {
   "cell_type": "code",
   "execution_count": 23,
   "metadata": {},
   "outputs": [
    {
     "data": {
      "text/plain": [
       "-4.021679530999973"
      ]
     },
     "execution_count": 23,
     "metadata": {},
     "output_type": "execute_result"
    }
   ],
   "source": [
    "reward = np.mean(returns)\n",
    "reward"
   ]
  },
  {
   "cell_type": "code",
   "execution_count": 24,
   "metadata": {},
   "outputs": [
    {
     "ename": "SyntaxError",
     "evalue": "'return' outside function (<ipython-input-24-35a10f7f17dd>, line 1)",
     "output_type": "error",
     "traceback": [
      "\u001b[0;36m  File \u001b[0;32m\"<ipython-input-24-35a10f7f17dd>\"\u001b[0;36m, line \u001b[0;32m1\u001b[0m\n\u001b[0;31m    return reward if abs(reward) != inf and not np.isnan(reward) else 0\u001b[0m\n\u001b[0m                                                                       ^\u001b[0m\n\u001b[0;31mSyntaxError\u001b[0m\u001b[0;31m:\u001b[0m 'return' outside function\n"
     ]
    }
   ],
   "source": [
    "return reward if abs(reward) != inf and not np.isnan(reward) else 0\n"
   ]
  },
  {
   "cell_type": "code",
   "execution_count": 26,
   "metadata": {},
   "outputs": [
    {
     "data": {
      "text/plain": [
       "inf"
      ]
     },
     "execution_count": 26,
     "metadata": {},
     "output_type": "execute_result"
    }
   ],
   "source": [
    "np.inf"
   ]
  },
  {
   "cell_type": "code",
   "execution_count": null,
   "metadata": {},
   "outputs": [],
   "source": []
  }
 ],
 "metadata": {
  "kernelspec": {
   "display_name": "Python 3",
   "language": "python",
   "name": "python3"
  },
  "language_info": {
   "codemirror_mode": {
    "name": "ipython",
    "version": 3
   },
   "file_extension": ".py",
   "mimetype": "text/x-python",
   "name": "python",
   "nbconvert_exporter": "python",
   "pygments_lexer": "ipython3",
   "version": "3.6.9"
  }
 },
 "nbformat": 4,
 "nbformat_minor": 2
}
